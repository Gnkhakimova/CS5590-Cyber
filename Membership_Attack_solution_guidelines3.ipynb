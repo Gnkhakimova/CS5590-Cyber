{
  "nbformat": 4,
  "nbformat_minor": 0,
  "metadata": {
    "colab": {
      "name": "Membership Attack - solution guidelines.ipynb",
      "version": "0.3.2",
      "provenance": [],
      "collapsed_sections": [],
      "include_colab_link": true
    },
    "kernelspec": {
      "name": "python3",
      "display_name": "Python 3"
    },
    "accelerator": "GPU"
  },
  "cells": [
    {
      "cell_type": "markdown",
      "metadata": {
        "id": "view-in-github",
        "colab_type": "text"
      },
      "source": [
        "<a href=\"https://colab.research.google.com/github/Gnkhakimova/CS5590-Cyber/blob/master/Membership_Attack_solution_guidelines3.ipynb\" target=\"_parent\"><img src=\"https://colab.research.google.com/assets/colab-badge.svg\" alt=\"Open In Colab\"/></a>"
      ]
    },
    {
      "cell_type": "code",
      "metadata": {
        "id": "OvK6LaVhrfZ8",
        "colab_type": "code",
        "colab": {}
      },
      "source": [
        "# required imports\n",
        "import sys \n",
        "import numpy as np \n",
        "import matplotlib.pyplot as plt\n",
        "%matplotlib inline  \n",
        "\n",
        "\n",
        "import torch\n",
        "import torchvision \n",
        "import torchvision.transforms as transforms\n",
        "import torch.optim as optim\n",
        "import torch.nn as nn\n",
        "import torch.nn.functional as F\n",
        "from torch.utils.data.sampler import SubsetRandomSampler"
      ],
      "execution_count": 0,
      "outputs": []
    },
    {
      "cell_type": "code",
      "metadata": {
        "id": "O05dkTKAsEh-",
        "colab_type": "code",
        "colab": {
          "base_uri": "https://localhost:8080/",
          "height": 128
        },
        "outputId": "d2c521c8-c5a5-4608-f6ac-adb39e2df336"
      },
      "source": [
        "# mount the google drive to download the datasets\n",
        "from google.colab import drive\n",
        "drive.mount('/content/drive')\n",
        "project_path = '~/.pytorch/CIFAR_data/'"
      ],
      "execution_count": 2,
      "outputs": [
        {
          "output_type": "stream",
          "text": [
            "Go to this URL in a browser: https://accounts.google.com/o/oauth2/auth?client_id=947318989803-6bn6qk8qdgf4n4g3pfee6491hc0brc4i.apps.googleusercontent.com&redirect_uri=urn%3Aietf%3Awg%3Aoauth%3A2.0%3Aoob&scope=email%20https%3A%2F%2Fwww.googleapis.com%2Fauth%2Fdocs.test%20https%3A%2F%2Fwww.googleapis.com%2Fauth%2Fdrive%20https%3A%2F%2Fwww.googleapis.com%2Fauth%2Fdrive.photos.readonly%20https%3A%2F%2Fwww.googleapis.com%2Fauth%2Fpeopleapi.readonly&response_type=code\n",
            "\n",
            "Enter your authorization code:\n",
            "··········\n",
            "Mounted at /content/drive\n"
          ],
          "name": "stdout"
        }
      ]
    },
    {
      "cell_type": "code",
      "metadata": {
        "id": "pEW1mLverl7l",
        "colab_type": "code",
        "colab": {}
      },
      "source": [
        "# create transforms to load the images, nothing much is needed here. \n",
        "transform_train = transforms.Compose([\n",
        "    transforms.RandomCrop(32, padding=4),\n",
        "    transforms.RandomHorizontalFlip(),\n",
        "    transforms.ToTensor(),\n",
        "    transforms.Normalize((0.4914, 0.4822, 0.4465), (0.2023, 0.1994, 0.2010)),\n",
        "])\n",
        "\n",
        "# Normalize the test set same as training set without augmentation\n",
        "transform_test = transforms.Compose([\n",
        "    transforms.ToTensor(),\n",
        "    transforms.Normalize((0.4914, 0.4822, 0.4465), (0.2023, 0.1994, 0.2010)),\n",
        "])"
      ],
      "execution_count": 0,
      "outputs": []
    },
    {
      "cell_type": "code",
      "metadata": {
        "id": "sjsFJTFwr1wV",
        "colab_type": "code",
        "colab": {
          "base_uri": "https://localhost:8080/",
          "height": 72
        },
        "outputId": "7e5642b2-d41c-4deb-9bb9-7ef9d8ec5a84"
      },
      "source": [
        "# download CIFAR 10 training set\n",
        "trainset = torchvision.datasets.CIFAR10(root= project_path+'/data', train=True,\n",
        "                                        download=True, transform=transform_train)\n",
        "\n",
        "# load the trainning set\n",
        "trainloader = torch.utils.data.DataLoader(trainset, batch_size=128, shuffle=True)\n",
        "\n",
        "# download the test data\n",
        "testset = torchvision.datasets.CIFAR10(root= project_path+'/data', train=False,\n",
        "                                        download=True, transform=transform_test)\n",
        "\n",
        "# load the test data\n",
        "testloader =torch.utils.data.DataLoader(testset, batch_size=128, shuffle=True)\n",
        "\n",
        "classes = ('plane', 'car', 'bird', 'cat', 'deer', 'dog', 'frog', 'horse', 'ship', 'truck')\n",
        "# check those manually on the dataset site: https://www.cs.toronto.edu/~kriz/cifar.html "
      ],
      "execution_count": 4,
      "outputs": [
        {
          "output_type": "stream",
          "text": [
            "\r0it [00:00, ?it/s]"
          ],
          "name": "stderr"
        },
        {
          "output_type": "stream",
          "text": [
            "Downloading https://www.cs.toronto.edu/~kriz/cifar-10-python.tar.gz to /root/.pytorch/CIFAR_data//data/cifar-10-python.tar.gz\n"
          ],
          "name": "stdout"
        },
        {
          "output_type": "stream",
          "text": [
            "170500096it [00:06, 25599367.44it/s]                               \n"
          ],
          "name": "stderr"
        },
        {
          "output_type": "stream",
          "text": [
            "Files already downloaded and verified\n"
          ],
          "name": "stdout"
        }
      ]
    },
    {
      "cell_type": "code",
      "metadata": {
        "id": "itY7G_y3tDnC",
        "colab_type": "code",
        "outputId": "078bd804-f849-496b-b9ba-ca7eb4e2e485",
        "colab": {
          "base_uri": "https://localhost:8080/",
          "height": 305
        }
      },
      "source": [
        "# helper function to unnormalize and plot image \n",
        "def imshow(img):\n",
        "    img = np.array(img)\n",
        "    img = img / 2 + 0.5\n",
        "    img = np.moveaxis(img, 0, -1)\n",
        "    plt.imshow(img)\n",
        "    \n",
        "# display sample from dataset \n",
        "imgs, labels = iter(trainloader).next()\n",
        "imshow(torchvision.utils.make_grid(imgs)) \n",
        "\n",
        "# notice who we converted the class idx to labels\n",
        "print(' '.join('%5s' % classes[labels[j]] for j in range(4)))\n",
        "\n",
        "# run this cell multiple times and notice diff images"
      ],
      "execution_count": 5,
      "outputs": [
        {
          "output_type": "stream",
          "text": [
            "Clipping input data to the valid range for imshow with RGB data ([0..1] for floats or [0..255] for integers).\n"
          ],
          "name": "stderr"
        },
        {
          "output_type": "stream",
          "text": [
            " frog  deer  deer horse\n"
          ],
          "name": "stdout"
        },
        {
          "output_type": "display_data",
          "data": {
            "image/png": "[encoded data removed]",
            "text/plain": [
              "<Figure size 432x288 with 1 Axes>"
            ]
          },
          "metadata": {
            "tags": []
          }
        }
      ]
    },
    {
      "cell_type": "code",
      "metadata": {
        "id": "AJK32k42gbEK",
        "colab_type": "code",
        "colab": {
          "base_uri": "https://localhost:8080/",
          "height": 35
        },
        "outputId": "27a3dc3a-99ea-442d-e4ec-5754aed831f5"
      },
      "source": [
        "# divide the training dataset into the required groups Make sure they are balanced\n",
        "# original trainset is made of 50k images\n",
        "\n",
        "total_size = len(trainset)\n",
        "split1 = total_size // 4\n",
        "split2 = split1 * 2\n",
        "split3 = split1 * 3\n",
        "\n",
        "print(total_size, split1, split2, split3)\n",
        "\n",
        "indices = list(range(total_size))\n",
        "\n",
        "# two groups to train the shadow (in and out)\n",
        "shadow_train_idx = indices[:split1]\n",
        "shadow_out_idx = indices[split1:split2]\n",
        "\n",
        "# two groups to train the Target (in and out)\n",
        "target_train_idx = indices[split2:split3]\n",
        "target_out_idx = indices[split3:]"
      ],
      "execution_count": 6,
      "outputs": [
        {
          "output_type": "stream",
          "text": [
            "50000 12500 25000 37500\n"
          ],
          "name": "stdout"
        }
      ]
    },
    {
      "cell_type": "code",
      "metadata": {
        "id": "W4wJ_0lkhp76",
        "colab_type": "code",
        "colab": {}
      },
      "source": [
        "batch_size = 128 # pick your own\n",
        "\n",
        "# divide and load shadow train in and out\n",
        "shadow_train_sampler = SubsetRandomSampler(shadow_train_idx) # Pytorch function\n",
        "shadow_train_loader = torch.utils.data.DataLoader(trainset, batch_size=batch_size, sampler=shadow_train_sampler)\n",
        "\n",
        "shadow_out_sampler = SubsetRandomSampler(shadow_out_idx)\n",
        "shadow_out_loader = torch.utils.data.DataLoader(trainset, batch_size=batch_size, sampler=shadow_out_sampler)\n",
        "\n",
        "# divide and load Target in and out\n",
        "target_train_sampler = SubsetRandomSampler(target_train_idx) # Pytorch function\n",
        "target_out_sampler = SubsetRandomSampler(target_out_idx) # Pytorch function\n",
        "\n",
        "target_train_loader = torch.utils.data.DataLoader(trainset, batch_size=batch_size, sampler=target_train_sampler)\n",
        "target_out_loader = torch.utils.data.DataLoader(trainset, batch_size=batch_size, sampler=target_out_sampler)\n"
      ],
      "execution_count": 0,
      "outputs": []
    },
    {
      "cell_type": "code",
      "metadata": {
        "id": "Kj9LuQJNuCXC",
        "colab_type": "code",
        "colab": {}
      },
      "source": [
        "# create a CNN\n",
        "# Input shape (3, 32, 32) \n",
        "# architecture: simple. 2 conv and 2 Max pool, followed by 2 fc (120, 84) \n",
        "# output of fc is 10 because we have 10 classes!\n",
        "\n",
        "\n",
        "\n",
        "class Net(nn.Module):\n",
        "    def __init__(self):\n",
        "        super(Net, self).__init__()\n",
        "        self.conv1 = nn.Conv2d(3, 6, 5) # inut channel = 3 RGB, out channels = 6, kernel = 5\n",
        "        self.pool = nn.MaxPool2d(2,2) # kernel size = 2, stride = 2\n",
        "        self.conv2 = nn.Conv2d(6, 16, 5)\n",
        "        \n",
        "        self.fc1 = nn.Linear(16*5*5, 120)\n",
        "        self.fc2 = nn.Linear(120, 84)\n",
        "        self.fc3 = nn.Linear(84,10)\n",
        "\n",
        "    def forward(self, x):\n",
        "        x = self.pool(F.relu(self.conv1(x)))\n",
        "        x = self.pool(F.relu(self.conv2(x)))\n",
        "        x = x.view(-1,16*5*5)\n",
        "        x = F.relu(self.fc1(x))\n",
        "        x = F.relu(self.fc2(x))\n",
        "        x = self.fc3(x)\n",
        "        return x"
      ],
      "execution_count": 0,
      "outputs": []
    },
    {
      "cell_type": "code",
      "metadata": {
        "id": "ER_B4V8YjKyU",
        "colab_type": "code",
        "outputId": "23b37c5f-1bfe-4c78-a564-11ed266da5ce",
        "colab": {
          "base_uri": "https://localhost:8080/",
          "height": 35
        }
      },
      "source": [
        "# initalize a target model and train it\n",
        "\n",
        "target_model = Net()\n",
        "criterion = nn.CrossEntropyLoss()# CrossEntropyLoss\n",
        "optimizer = optim.Adam(target_model.parameters(), lr=0.001)# try Adam VS SGD\n",
        "\n",
        "# let the magic begin\n",
        "for epoch in range(20):  \n",
        "\n",
        "    running_loss = 0.0\n",
        "    \n",
        "    for i, data in enumerate(target_train_loader, 0):\n",
        "        # get the inputs; data is a list of [inputs, labels]\n",
        "        inputs, labels = data\n",
        "\n",
        "        # zero the parameter gradients\n",
        "        optimizer.zero_grad()\n",
        "\n",
        "        # forward + backward + optimize\n",
        "        outputs = target_model(inputs)\n",
        "        loss = criterion(outputs, labels)\n",
        "        loss.backward()\n",
        "        optimizer.step()\n",
        "        # make a prediction: forward prop\n",
        "        \n",
        "        # calculate the loss\n",
        "        \n",
        "        # calculate gradients\n",
        "        \n",
        "        # updaate weights in backprop\n",
        "\n",
        "        # print statistics\n",
        "        running_loss += loss.item()\n",
        "        if i % 2000 == 1999:    # print every 2000 mini-batches\n",
        "            print('[%d, %5d] loss: %.3f' %\n",
        "                  (epoch + 1, i + 1, running_loss / 2000))\n",
        "            running_loss = 0.0     \n",
        "        \n",
        "\n",
        "print('Finished Training the Target model...')"
      ],
      "execution_count": 9,
      "outputs": [
        {
          "output_type": "stream",
          "text": [
            "Finished Training the Target model...\n"
          ],
          "name": "stdout"
        }
      ]
    },
    {
      "cell_type": "code",
      "metadata": {
        "id": "EpY8ktdskRQN",
        "colab_type": "code",
        "colab": {
          "base_uri": "https://localhost:8080/",
          "height": 35
        },
        "outputId": "90c95c7d-2dbe-4a8e-b795-b175934234b4"
      },
      "source": [
        "# calculate the accuracy of the Target Model\n",
        "correct = 0\n",
        "total = 0\n",
        "\n",
        "with torch.no_grad():\n",
        "    for data in target_out_loader:\n",
        "        images, labels = data\n",
        "        outputs = target_model(images)\n",
        "        _, predicted = torch.max(outputs.data, 1)\n",
        "        total += labels.size(0)\n",
        "        correct += (predicted == labels).sum().item()\n",
        "\n",
        "print('Accuracy of the network on the 10000 test images: %d %%' % (100 * correct / total))"
      ],
      "execution_count": 10,
      "outputs": [
        {
          "output_type": "stream",
          "text": [
            "Accuracy of the network on the 10000 test images: 54 %\n"
          ],
          "name": "stdout"
        }
      ]
    },
    {
      "cell_type": "markdown",
      "metadata": {
        "id": "IEClKFqikmUl",
        "colab_type": "text"
      },
      "source": [
        "\n",
        "\n",
        "---\n",
        "\n"
      ]
    },
    {
      "cell_type": "code",
      "metadata": {
        "id": "Ha_VqRVVkoCm",
        "colab_type": "code",
        "colab": {
          "base_uri": "https://localhost:8080/",
          "height": 35
        },
        "outputId": "989a62f9-1497-4928-c5a0-0d8478dfef6f"
      },
      "source": [
        "# initalize a Shadow Model and Train it\n",
        "# for the first ICP, your shadow model can have the same CNN architecture and hyperparameters\n",
        "\n",
        "shadow_model = target_model\n",
        "shadow_criterion = nn.CrossEntropyLoss()\n",
        "shadow_optimizer = optim.Adam(target_model.parameters(), lr=0.001)\n",
        "\n",
        "# let the magic begin\n",
        "for epoch in range(1):  \n",
        "\n",
        "    running_loss = 0.0\n",
        "    \n",
        "    for i, data in enumerate(shadow_train_loader, 0):\n",
        "        # get the inputs; data is a list of [inputs, labels]\n",
        "        inputs, labels = data\n",
        "\n",
        "        # zero the parameter gradients\n",
        "        optimizer.zero_grad()\n",
        "\n",
        "        # forward + backward + optimize\n",
        "        outputs = shadow_model(inputs)\n",
        "        loss = criterion(outputs, labels)\n",
        "        loss.backward()\n",
        "        optimizer.step()\n",
        "        # make a prediction: forward prop\n",
        "        \n",
        "        # calculate the loss\n",
        "        \n",
        "        # calculate gradients\n",
        "        \n",
        "        # updaate weights in backprop\n",
        "\n",
        "        # print statistics\n",
        "        running_loss += loss.item()\n",
        "        if i % 2000 == 1999:    # print every 2000 mini-batches\n",
        "            print('[%d, %5d] loss: %.3f' %\n",
        "                  (epoch + 1, i + 1, running_loss / 2000))\n",
        "            running_loss = 0.0     \n",
        "\n",
        "\n",
        "print('Finished Training the Shadow model')"
      ],
      "execution_count": 11,
      "outputs": [
        {
          "output_type": "stream",
          "text": [
            "Finished Training the Shadow model\n"
          ],
          "name": "stdout"
        }
      ]
    },
    {
      "cell_type": "code",
      "metadata": {
        "id": "EKGUddxleANP",
        "colab_type": "code",
        "colab": {
          "base_uri": "https://localhost:8080/",
          "height": 35
        },
        "outputId": "401f0f7e-8959-4a47-ba2d-3bbbe515f47f"
      },
      "source": [
        "correct = 0\n",
        "total = 0\n",
        "\n",
        "with torch.no_grad():\n",
        "    for data in shadow_out_loader:\n",
        "        images, labels = data\n",
        "        outputs = shadow_model(images)\n",
        "        _, predicted = torch.max(outputs.data, 1)\n",
        "        total += labels.size(0)\n",
        "        correct += (predicted == labels).sum().item()\n",
        "\n",
        "print('Accuracy of the network on the 10000 test images: %d %%' % (100 * correct / total))"
      ],
      "execution_count": 12,
      "outputs": [
        {
          "output_type": "stream",
          "text": [
            "Accuracy of the network on the 10000 test images: 53 %\n"
          ],
          "name": "stdout"
        }
      ]
    },
    {
      "cell_type": "code",
      "metadata": {
        "id": "L0kP_-62ljFE",
        "colab_type": "code",
        "colab": {}
      },
      "source": [
        "# freeze the Shadow model \n",
        "# make predictions on both datasets (shadow_in and shdow_out)\n",
        "# create a new dataset of the shape [predictions(shadow_in), 1], [predicitons(shadow_out), 1] and zip them together\n"
      ],
      "execution_count": 0,
      "outputs": []
    },
    {
      "cell_type": "code",
      "metadata": {
        "id": "ldTYGwUPMRoo",
        "colab_type": "code",
        "colab": {}
      },
      "source": [
        "class mlleaks_cnn(nn.Module): \n",
        "    def __init__(self, n_in=3, n_out=10, n_hidden=64, size=32): \n",
        "        super(mlleaks_cnn, self).__init__()\n",
        "        \n",
        "        self.n_hidden = n_hidden \n",
        "        \n",
        "        self.conv_block_1 = nn.Sequential(\n",
        "            nn.Conv2d(n_in, n_hidden, kernel_size=5, stride=1, padding=2), \n",
        "            nn.BatchNorm2d(n_hidden), \n",
        "            nn.ReLU(),\n",
        "            nn.MaxPool2d(kernel_size=2, stride=2)\n",
        "        )\n",
        "        self.conv_block_2 = nn.Sequential(\n",
        "            nn.Conv2d(n_hidden, 2*n_hidden, kernel_size=5, stride=1, padding=2), \n",
        "            nn.BatchNorm2d(2*n_hidden), \n",
        "            nn.ReLU(),\n",
        "            nn.MaxPool2d(kernel_size=2, stride=2)\n",
        "        ) \n",
        "\n",
        "        fc_feature_size = calc_mlleaks_cnn_size(size)\n",
        "        self.fc = nn.Linear(int(2*n_hidden * fc_feature_size * fc_feature_size), 128)\n",
        "        self.output = nn.Linear(2*n_hidden, n_out)\n",
        "        \n",
        "    def forward(self, x): \n",
        "        x = self.conv_block_1(x)\n",
        "        x = self.conv_block_2(x)\n",
        "        x = x.view(x.size(0), -1)\n",
        "        x = self.fc(x)\n",
        "        out = self.output(x)\n",
        "        \n",
        "        return out"
      ],
      "execution_count": 0,
      "outputs": []
    },
    {
      "cell_type": "code",
      "metadata": {
        "id": "7rQWCvO3N9px",
        "colab_type": "code",
        "colab": {}
      },
      "source": [
        "def train(net, data_loader, test_loader, optimizer, criterion, n_epochs, classes=None, verbose=False):\n",
        "    losses = []\n",
        "    for epoch in range(n_epochs):\n",
        "        net.train()\n",
        "        for i, batch in enumerate(data_loader):\n",
        "\n",
        "            imgs, labels = batch\n",
        "            imgs, labels = imgs, labels\n",
        "\n",
        "            optimizer.zero_grad()\n",
        "\n",
        "            outputs = net(imgs)\n",
        "\n",
        "            loss = criterion(outputs, labels)\n",
        "            loss.backward()\n",
        "            optimizer.step()\n",
        "\n",
        "            losses.append(loss.item())\n",
        "\n",
        "            if verbose:\n",
        "                print(\"[%d/%d][%d/%d] loss = %f\" % (epoch, n_epochs, i, len(data_loader), loss.item()))\n",
        "\n",
        "        # evaluate performance on testset at the end of each epoch\n",
        "        print(\"[%d/%d]\" %(epoch, n_epochs))\n",
        "        print(\"Training:\")\n",
        "        train_accuracy = eval_target_net(net, data_loader, classes=classes)\n",
        "        print(\"Test:\")\n",
        "        test_accuracy = eval_target_net(net, test_loader, classes=classes)\n",
        "        #plt.plot(losses)\n",
        "        #plt.show()\n",
        "    return train_accuracy, test_accuracy\n"
      ],
      "execution_count": 0,
      "outputs": []
    },
    {
      "cell_type": "code",
      "metadata": {
        "id": "OCtrKAIdTaBF",
        "colab_type": "code",
        "colab": {}
      },
      "source": [
        "import torch\n",
        "import torch.nn.functional as F\n",
        "import numpy as np\n",
        "import matplotlib.pyplot as plt\n",
        "from sklearn.pipeline import Pipeline\n",
        "\n",
        "from sklearn.metrics import roc_curve, auc"
      ],
      "execution_count": 0,
      "outputs": []
    },
    {
      "cell_type": "code",
      "metadata": {
        "id": "g9oModjHN_dw",
        "colab_type": "code",
        "colab": {}
      },
      "source": [
        "def train_attacker(attack_net, shadow, shadow_train, shadow_out, optimizer, criterion, n_epochs, k):\n",
        "    \n",
        "    \"\"\"\n",
        "    Trains attack model (classifies a sample as in or out of training set) using\n",
        "    shadow model outputs (probabilities for sample class predictions). \n",
        "    The type of shadow model used can vary.\n",
        "    \"\"\"\n",
        "        \n",
        "    in_predicts=[]\n",
        "    out_predicts=[]\n",
        "    losses = []\n",
        "    \n",
        "    if type(shadow) is not Pipeline:\n",
        "        shadow_net=shadow\n",
        "        shadow_net.eval()\n",
        "\n",
        "    for epoch in range(n_epochs):\n",
        "       \n",
        "        total = 0\n",
        "        correct = 0\n",
        "\n",
        "        #train_top = np.array([])\n",
        "        #train_top = []\n",
        "        train_top = np.empty((0,2))\n",
        "        out_top = np.empty((0,2))\n",
        "        for i, ((train_imgs, _), (out_imgs, _)) in enumerate(zip(shadow_train, shadow_out)):\n",
        "\n",
        "            if train_imgs.shape[0] != out_imgs.shape[0]: \n",
        "                break\n",
        "                \n",
        "            #######out_imgs = torch.randn(out_imgs.shape)\n",
        "            mini_batch_size = train_imgs.shape[0]\n",
        "            \n",
        "            if type(shadow) is not Pipeline:\n",
        "                train_imgs, out_imgs = train_imgs, out_imgs\n",
        "\n",
        "                train_posteriors = F.softmax(shadow_net(train_imgs.detach()), dim=1)\n",
        "                \n",
        "                out_posteriors = F.softmax(shadow_net(out_imgs.detach()), dim=1)\n",
        "\n",
        "                \n",
        "            else:\n",
        "                traininputs= train_imgs.view(train_imgs.shape[0],-1)\n",
        "                outinputs=out_imgs.view(out_imgs.shape[0], -1)\n",
        "                \n",
        "                in_preds=shadow.predict_proba(traininputs)\n",
        "                train_posteriors=torch.from_numpy(in_preds).float()\n",
        "                #for p in in_preds:\n",
        "                 #   in_predicts.append(p.max())\n",
        "                \n",
        "                out_preds=shadow.predict_proba(outinputs)\n",
        "                out_posteriors=torch.from_numpy(out_preds).float()\n",
        "                #for p in out_preds:\n",
        "                 #   out_predicts.append(p.max())\n",
        "                            \n",
        "\n",
        "            train_sort, _ = torch.sort(train_posteriors, descending=True)\n",
        "            train_top_k = train_sort[:,:k].clone()\n",
        "            for p in train_top_k:\n",
        "                in_predicts.append((p.max()).item())\n",
        "            out_sort, _ = torch.sort(out_posteriors, descending=True)\n",
        "            out_top_k = out_sort[:,:k].clone()\n",
        "            for p in out_top_k:\n",
        "                out_predicts.append((p.max()).item())\n",
        "\n",
        "            train_top = np.vstack((train_top,train_top_k[:,:2].cpu().detach().numpy()))\n",
        "            out_top = np.vstack((out_top, out_top_k[:,:2].cpu().detach().numpy()))\n",
        "\n",
        "\n",
        "            train_lbl = torch.ones(mini_batch_size)\n",
        "            out_lbl = torch.zeros(mini_batch_size)\n",
        "\n",
        "            optimizer.zero_grad()\n",
        "\n",
        "            train_predictions = torch.squeeze(attack_net(train_top_k))\n",
        "            out_predictions = torch.squeeze(attack_net(out_top_k))\n",
        "\n",
        "            loss_train = criterion(train_predictions, train_lbl)\n",
        "            loss_out = criterion(out_predictions, out_lbl)\n",
        "\n",
        "            loss = (loss_train + loss_out) / 2\n",
        "            \n",
        "            if type(shadow) is not Pipeline:\n",
        "                loss.backward()\n",
        "                optimizer.step()\n",
        "\n",
        "            \n",
        "            correct += (F.sigmoid(train_predictions)>=0.5).sum().item()\n",
        "            correct += (F.sigmoid(out_predictions)<0.5).sum().item()\n",
        "            total += train_predictions.size(0) + out_predictions.size(0)\n",
        "\n",
        "\n",
        "            print(\"[%d/%d][%d/%d] loss = %.2f, accuracy = %.2f\" % (epoch, n_epochs, i, len(shadow_train), loss.item(), 100 * correct / total))\n",
        "            \n",
        "        #Plot distributions for target predictions in training set and out of training set\n",
        "        \"\"\"\n",
        "        fig, ax = plt.subplots(2,1)\n",
        "        plt.subplot(2,1,1)\n",
        "        plt.hist(in_predicts, bins='auto')\n",
        "        plt.title('In')\n",
        "        plt.subplot(2,1,2)\n",
        "        plt.hist(out_predicts, bins='auto')\n",
        "        plt.title('Out')\n",
        "        \"\"\"\n",
        "\n",
        "        '''\n",
        "        plt.scatter(out_top.T[0,:], out_top.T[1,:], c='b')\n",
        "        plt.scatter(train_top.T[0,:], train_top.T[1,:], c='r')\n",
        "        plt.show()\n",
        "        '''"
      ],
      "execution_count": 0,
      "outputs": []
    },
    {
      "cell_type": "code",
      "metadata": {
        "id": "_HqWMAq7M3cw",
        "colab_type": "code",
        "colab": {}
      },
      "source": [
        "class mlleaks_mlp(nn.Module): \n",
        "    def __init__(self, n_in=3, n_out=1, n_hidden=64): \n",
        "        super(mlleaks_mlp, self).__init__()\n",
        "        \n",
        "        self.hidden = nn.Linear(n_in, n_hidden)\n",
        "        #self.bn = nn.BatchNorm1d(n_hidden)\n",
        "        self.output = nn.Linear(n_hidden, n_out)\n",
        "        \n",
        "    def forward(self, x): \n",
        "        x = F.sigmoid(self.hidden(x))\n",
        "        #x = self.bn(x)\n",
        "        out = self.output(x)\n",
        "        #out = F.sigmoid(self.output(x))\n",
        "        \n",
        "        return out\n",
        "    "
      ],
      "execution_count": 0,
      "outputs": []
    },
    {
      "cell_type": "code",
      "metadata": {
        "id": "1m40dJ0aR20P",
        "colab_type": "code",
        "colab": {}
      },
      "source": [
        "def eval_attack_net(attack_net, target, target_train, target_out, k):\n",
        "    \"\"\"Assess accuracy, precision, and recall of attack model for in training set/out of training set classification.\n",
        "    Edited for use with SVCs.\"\"\"\n",
        "    \n",
        "    in_predicts=[]\n",
        "    out_predicts=[]\n",
        "    losses = []\n",
        "    \n",
        "    if type(target) is not Pipeline:\n",
        "        target_net=target\n",
        "        target_net.eval()\n",
        "        \n",
        "    attack_net.eval()\n",
        "\n",
        "    \n",
        "    precisions = []\n",
        "    recalls = []\n",
        "    accuracies = []\n",
        "\n",
        "    #for threshold in np.arange(0.5, 1, 0.005):\n",
        "    thresholds = np.arange(0.5, 1, 0.005)\n",
        "\n",
        "    total = np.zeros(len(thresholds))\n",
        "    correct = np.zeros(len(thresholds))\n",
        "\n",
        "    true_positives = np.zeros(len(thresholds))\n",
        "    false_positives = np.zeros(len(thresholds))\n",
        "    false_negatives = np.zeros(len(thresholds))   \n",
        " \n",
        "    train_top = np.empty((0,2))\n",
        "    out_top = np.empty((0,2))\n",
        "    \n",
        "    for i, ((train_imgs, _), (out_imgs, _)) in enumerate(zip(target_train, target_out)):\n",
        "\n",
        "\n",
        "        mini_batch_size = train_imgs.shape[0]\n",
        "        train_imgs, out_imgs = train_imgs, out_imgs\n",
        "        \n",
        "        #[mini_batch_size x num_classes] tensors, (0,1) probabilities for each class for each sample)\n",
        "        if type(target) is Pipeline:\n",
        "            traininputs=train_imgs.view(train_imgs.shape[0], -1)\n",
        "            outinputs=out_imgs.view(out_imgs.shape[0], -1)\n",
        "            \n",
        "            train_posteriors=torch.from_numpy(target.predict_proba(traininputs)).float()\n",
        "            out_posteriors=torch.from_numpy(target.predict_proba(outinputs)).float()\n",
        "            \n",
        "        else:\n",
        "            train_posteriors = F.softmax(target_net(train_imgs.detach()), dim=1)\n",
        "            out_posteriors = F.softmax(target_net(out_imgs.detach()), dim=1)\n",
        "        \n",
        "\n",
        "        #[k x mini_batch_size] tensors, (0,1) probabilities for top k probable classes\n",
        "        train_sort, _ = torch.sort(train_posteriors, descending=True)\n",
        "        train_top_k = train_sort[:,:k].clone()\n",
        "\n",
        "        out_sort, _ = torch.sort(out_posteriors, descending=True)\n",
        "        out_top_k = out_sort[:,:k].clone()\n",
        "        \n",
        "        #Collects probabilities for predicted class.\n",
        "        for p in train_top_k:\n",
        "            in_predicts.append((p.max()).item())\n",
        "        for p in out_top_k:\n",
        "            out_predicts.append((p.max()).item())\n",
        "        \n",
        "        if type(target) is not Pipeline:\n",
        "            train_top = np.vstack((train_top,train_top_k[:,:2].cpu().detach().numpy()))\n",
        "            out_top = np.vstack((out_top, out_top_k[:,:2].cpu().detach().numpy()))\n",
        "\n",
        "        #print(\"train_top_k = \",train_top_k)\n",
        "        #print(\"out_top_k = \",out_top_k)\n",
        "        \n",
        "        #print(train_top.shape)\n",
        "        \n",
        "        train_lbl = torch.ones(mini_batch_size)\n",
        "        out_lbl = torch.zeros(mini_batch_size)\n",
        "        \n",
        "        #Takes in probabilities for top k most likely classes, outputs ~1 (in training set) or ~0 (out of training set)\n",
        "        train_predictions = F.sigmoid(torch.squeeze(attack_net(train_top_k)))\n",
        "        out_predictions = F.sigmoid(torch.squeeze(attack_net(out_top_k)))\n",
        "\n",
        "\n",
        "        for j, t in enumerate(thresholds):\n",
        "            true_positives[j] += (train_predictions >= t).sum().item()\n",
        "            false_positives[j] += (out_predictions >= t).sum().item()\n",
        "            false_negatives[j] += (train_predictions < t).sum().item()\n",
        "            #print(train_top >= threshold)\n",
        "\n",
        "\n",
        "            #print((train_top >= threshold).sum().item(),',',(out_top >= threshold).sum().item())\n",
        "\n",
        "            correct[j] += (train_predictions >= t).sum().item()\n",
        "            correct[j] += (out_predictions < t).sum().item()\n",
        "            total[j] += train_predictions.size(0) + out_predictions.size(0)\n",
        "\n",
        "    #print(true_positives,',',false_positives,',',false_negatives)\n",
        "\n",
        "    for j, t in enumerate(thresholds):\n",
        "        accuracy = 100 * correct[j] / total[j]\n",
        "        precision = true_positives[j] / (true_positives[j] + false_positives[j]) if true_positives[j] + false_positives[j] != 0 else 0\n",
        "        recall = true_positives[j] / (true_positives[j] + false_negatives[j]) if true_positives[j] + false_negatives[j] !=0 else 0\n",
        "        accuracies.append(accuracy)\n",
        "        precisions.append(precision)\n",
        "        recalls.append(recall)\n",
        "\n",
        "        print(\"threshold = %.4f, accuracy = %.2f, precision = %.2f, recall = %.2f\" % (t, accuracy, precision, recall))\n",
        "        \n",
        "\n",
        "        \n",
        "    plt.plot(recalls, precisions)\n",
        "    plt.xlabel(\"Recall\")\n",
        "    plt.ylabel(\"Precision\")\n",
        "    plt.show()"
      ],
      "execution_count": 0,
      "outputs": []
    },
    {
      "cell_type": "code",
      "metadata": {
        "id": "bkkm_gLDS8LY",
        "colab_type": "code",
        "colab": {}
      },
      "source": [
        "def weights_init(m): \n",
        "    if isinstance(m, nn.Conv2d):\n",
        "        nn.init.kaiming_normal_(m.weight, mode='fan_out', nonlinearity='relu')\n",
        "        if m.bias is not None:\n",
        "            nn.init.constant_(m.bias, 0)\n",
        "    elif isinstance(m, nn.BatchNorm2d):\n",
        "        nn.init.constant_(m.weight, 1)\n",
        "        nn.init.constant_(m.bias, 0)\n",
        "    elif isinstance(m, nn.Linear): \n",
        "        nn.init.xavier_normal_(m.weight.data)\n",
        "        nn.init.constant_(m.bias, 0)"
      ],
      "execution_count": 0,
      "outputs": []
    },
    {
      "cell_type": "code",
      "metadata": {
        "id": "TqbA5mh0Hmjz",
        "colab_type": "code",
        "colab": {}
      },
      "source": [
        "# attack net is a binary classifier to determine membership \n",
        "\n",
        "attack_net = mlleaks_mlp(n_in=3)\n",
        "attack_net.apply(weights_init)\n",
        "\n",
        "#attack_loss = nn.BCEWithLogitsLoss()\n",
        "attack_loss = nn.BCELoss()\n",
        "attack_optim = optim.Adam(attack_net.parameters(), lr=0.001)"
      ],
      "execution_count": 0,
      "outputs": []
    },
    {
      "cell_type": "code",
      "metadata": {
        "id": "_ymKnj7QpdDG",
        "colab_type": "code",
        "colab": {}
      },
      "source": [
        "# create the Attack Model: A NN binary classifier {0, 1}\n",
        "# the input to this model is the propability distribution vector of size 10\n",
        "# and the output is either 0 (input was not included in training) or 1\n"
      ],
      "execution_count": 0,
      "outputs": []
    },
    {
      "cell_type": "code",
      "metadata": {
        "id": "Lcb7GVsUKQtP",
        "colab_type": "code",
        "colab": {
          "base_uri": "https://localhost:8080/",
          "height": 740
        },
        "outputId": "0ac129a5-f603-471b-f45d-d3323fcf493c"
      },
      "source": [
        "train_attacker(attack_net, shadow_model, shadow_train_loader, shadow_out_loader, attack_optim, attack_loss, n_epochs=5, k=3)"
      ],
      "execution_count": 50,
      "outputs": [
        {
          "output_type": "stream",
          "text": [
            "/usr/local/lib/python3.6/dist-packages/torch/nn/functional.py:1386: UserWarning: nn.functional.sigmoid is deprecated. Use torch.sigmoid instead.\n",
            "  warnings.warn(\"nn.functional.sigmoid is deprecated. Use torch.sigmoid instead.\")\n"
          ],
          "name": "stderr"
        },
        {
          "output_type": "error",
          "ename": "RuntimeError",
          "evalue": "ignored",
          "traceback": [
            "\u001b[0;31m---------------------------------------------------------------------------\u001b[0m",
            "\u001b[0;31mRuntimeError\u001b[0m                              Traceback (most recent call last)",
            "\u001b[0;32m<ipython-input-50-6eff8280a078>\u001b[0m in \u001b[0;36m<module>\u001b[0;34m()\u001b[0m\n\u001b[0;32m----> 1\u001b[0;31m \u001b[0mtrain_attacker\u001b[0m\u001b[0;34m(\u001b[0m\u001b[0mattack_net\u001b[0m\u001b[0;34m,\u001b[0m \u001b[0mshadow_model\u001b[0m\u001b[0;34m,\u001b[0m \u001b[0mshadow_train_loader\u001b[0m\u001b[0;34m,\u001b[0m \u001b[0mshadow_out_loader\u001b[0m\u001b[0;34m,\u001b[0m \u001b[0mattack_optim\u001b[0m\u001b[0;34m,\u001b[0m \u001b[0mattack_loss\u001b[0m\u001b[0;34m,\u001b[0m \u001b[0mn_epochs\u001b[0m\u001b[0;34m=\u001b[0m\u001b[0;36m5\u001b[0m\u001b[0;34m,\u001b[0m \u001b[0mk\u001b[0m\u001b[0;34m=\u001b[0m\u001b[0;36m3\u001b[0m\u001b[0;34m)\u001b[0m\u001b[0;34m\u001b[0m\u001b[0;34m\u001b[0m\u001b[0m\n\u001b[0m",
            "\u001b[0;32m<ipython-input-41-ecd31c72947d>\u001b[0m in \u001b[0;36mtrain_attacker\u001b[0;34m(attack_net, shadow, shadow_train, shadow_out, optimizer, criterion, n_epochs, k)\u001b[0m\n\u001b[1;32m     76\u001b[0m             \u001b[0mout_predictions\u001b[0m \u001b[0;34m=\u001b[0m \u001b[0mtorch\u001b[0m\u001b[0;34m.\u001b[0m\u001b[0msqueeze\u001b[0m\u001b[0;34m(\u001b[0m\u001b[0mattack_net\u001b[0m\u001b[0;34m(\u001b[0m\u001b[0mout_top_k\u001b[0m\u001b[0;34m)\u001b[0m\u001b[0;34m)\u001b[0m\u001b[0;34m\u001b[0m\u001b[0;34m\u001b[0m\u001b[0m\n\u001b[1;32m     77\u001b[0m \u001b[0;34m\u001b[0m\u001b[0m\n\u001b[0;32m---> 78\u001b[0;31m             \u001b[0mloss_train\u001b[0m \u001b[0;34m=\u001b[0m \u001b[0mcriterion\u001b[0m\u001b[0;34m(\u001b[0m\u001b[0mtrain_predictions\u001b[0m\u001b[0;34m,\u001b[0m \u001b[0mtrain_lbl\u001b[0m\u001b[0;34m)\u001b[0m\u001b[0;34m\u001b[0m\u001b[0;34m\u001b[0m\u001b[0m\n\u001b[0m\u001b[1;32m     79\u001b[0m             \u001b[0mloss_out\u001b[0m \u001b[0;34m=\u001b[0m \u001b[0mcriterion\u001b[0m\u001b[0;34m(\u001b[0m\u001b[0mout_predictions\u001b[0m\u001b[0;34m,\u001b[0m \u001b[0mout_lbl\u001b[0m\u001b[0;34m)\u001b[0m\u001b[0;34m\u001b[0m\u001b[0;34m\u001b[0m\u001b[0m\n\u001b[1;32m     80\u001b[0m \u001b[0;34m\u001b[0m\u001b[0m\n",
            "\u001b[0;32m/usr/local/lib/python3.6/dist-packages/torch/nn/modules/module.py\u001b[0m in \u001b[0;36m__call__\u001b[0;34m(self, *input, **kwargs)\u001b[0m\n\u001b[1;32m    491\u001b[0m             \u001b[0mresult\u001b[0m \u001b[0;34m=\u001b[0m \u001b[0mself\u001b[0m\u001b[0;34m.\u001b[0m\u001b[0m_slow_forward\u001b[0m\u001b[0;34m(\u001b[0m\u001b[0;34m*\u001b[0m\u001b[0minput\u001b[0m\u001b[0;34m,\u001b[0m \u001b[0;34m**\u001b[0m\u001b[0mkwargs\u001b[0m\u001b[0;34m)\u001b[0m\u001b[0;34m\u001b[0m\u001b[0;34m\u001b[0m\u001b[0m\n\u001b[1;32m    492\u001b[0m         \u001b[0;32melse\u001b[0m\u001b[0;34m:\u001b[0m\u001b[0;34m\u001b[0m\u001b[0;34m\u001b[0m\u001b[0m\n\u001b[0;32m--> 493\u001b[0;31m             \u001b[0mresult\u001b[0m \u001b[0;34m=\u001b[0m \u001b[0mself\u001b[0m\u001b[0;34m.\u001b[0m\u001b[0mforward\u001b[0m\u001b[0;34m(\u001b[0m\u001b[0;34m*\u001b[0m\u001b[0minput\u001b[0m\u001b[0;34m,\u001b[0m \u001b[0;34m**\u001b[0m\u001b[0mkwargs\u001b[0m\u001b[0;34m)\u001b[0m\u001b[0;34m\u001b[0m\u001b[0;34m\u001b[0m\u001b[0m\n\u001b[0m\u001b[1;32m    494\u001b[0m         \u001b[0;32mfor\u001b[0m \u001b[0mhook\u001b[0m \u001b[0;32min\u001b[0m \u001b[0mself\u001b[0m\u001b[0;34m.\u001b[0m\u001b[0m_forward_hooks\u001b[0m\u001b[0;34m.\u001b[0m\u001b[0mvalues\u001b[0m\u001b[0;34m(\u001b[0m\u001b[0;34m)\u001b[0m\u001b[0;34m:\u001b[0m\u001b[0;34m\u001b[0m\u001b[0;34m\u001b[0m\u001b[0m\n\u001b[1;32m    495\u001b[0m             \u001b[0mhook_result\u001b[0m \u001b[0;34m=\u001b[0m \u001b[0mhook\u001b[0m\u001b[0;34m(\u001b[0m\u001b[0mself\u001b[0m\u001b[0;34m,\u001b[0m \u001b[0minput\u001b[0m\u001b[0;34m,\u001b[0m \u001b[0mresult\u001b[0m\u001b[0;34m)\u001b[0m\u001b[0;34m\u001b[0m\u001b[0;34m\u001b[0m\u001b[0m\n",
            "\u001b[0;32m/usr/local/lib/python3.6/dist-packages/torch/nn/modules/loss.py\u001b[0m in \u001b[0;36mforward\u001b[0;34m(self, input, target)\u001b[0m\n\u001b[1;32m    510\u001b[0m     \u001b[0;34m@\u001b[0m\u001b[0mweak_script_method\u001b[0m\u001b[0;34m\u001b[0m\u001b[0;34m\u001b[0m\u001b[0m\n\u001b[1;32m    511\u001b[0m     \u001b[0;32mdef\u001b[0m \u001b[0mforward\u001b[0m\u001b[0;34m(\u001b[0m\u001b[0mself\u001b[0m\u001b[0;34m,\u001b[0m \u001b[0minput\u001b[0m\u001b[0;34m,\u001b[0m \u001b[0mtarget\u001b[0m\u001b[0;34m)\u001b[0m\u001b[0;34m:\u001b[0m\u001b[0;34m\u001b[0m\u001b[0;34m\u001b[0m\u001b[0m\n\u001b[0;32m--> 512\u001b[0;31m         \u001b[0;32mreturn\u001b[0m \u001b[0mF\u001b[0m\u001b[0;34m.\u001b[0m\u001b[0mbinary_cross_entropy\u001b[0m\u001b[0;34m(\u001b[0m\u001b[0minput\u001b[0m\u001b[0;34m,\u001b[0m \u001b[0mtarget\u001b[0m\u001b[0;34m,\u001b[0m \u001b[0mweight\u001b[0m\u001b[0;34m=\u001b[0m\u001b[0mself\u001b[0m\u001b[0;34m.\u001b[0m\u001b[0mweight\u001b[0m\u001b[0;34m,\u001b[0m \u001b[0mreduction\u001b[0m\u001b[0;34m=\u001b[0m\u001b[0mself\u001b[0m\u001b[0;34m.\u001b[0m\u001b[0mreduction\u001b[0m\u001b[0;34m)\u001b[0m\u001b[0;34m\u001b[0m\u001b[0;34m\u001b[0m\u001b[0m\n\u001b[0m\u001b[1;32m    513\u001b[0m \u001b[0;34m\u001b[0m\u001b[0m\n\u001b[1;32m    514\u001b[0m \u001b[0;34m\u001b[0m\u001b[0m\n",
            "\u001b[0;32m/usr/local/lib/python3.6/dist-packages/torch/nn/functional.py\u001b[0m in \u001b[0;36mbinary_cross_entropy\u001b[0;34m(input, target, weight, size_average, reduce, reduction)\u001b[0m\n\u001b[1;32m   2111\u001b[0m \u001b[0;34m\u001b[0m\u001b[0m\n\u001b[1;32m   2112\u001b[0m     return torch._C._nn.binary_cross_entropy(\n\u001b[0;32m-> 2113\u001b[0;31m         input, target, weight, reduction_enum)\n\u001b[0m\u001b[1;32m   2114\u001b[0m \u001b[0;34m\u001b[0m\u001b[0m\n\u001b[1;32m   2115\u001b[0m \u001b[0;34m\u001b[0m\u001b[0m\n",
            "\u001b[0;31mRuntimeError\u001b[0m: Assertion `x >= 0. && x <= 1.' failed. input value should be between 0~1, but got -0.075906 at /pytorch/aten/src/THNN/generic/BCECriterion.c:62"
          ]
        }
      ]
    },
    {
      "cell_type": "code",
      "metadata": {
        "id": "0J1B1OhMp6er",
        "colab_type": "code",
        "colab": {}
      },
      "source": [
        "# calculate the recall and precision of your attack network using the Target_out and Target_in datasets\n",
        "# to do so, take a random numer of datapoints, run them throw the target model,\n",
        "# and then input the output of the target model to your attack network \n",
        "# you already know the target_in and target_out samples, so use that info to evaluate the attack model\n"
      ],
      "execution_count": 0,
      "outputs": []
    },
    {
      "cell_type": "code",
      "metadata": {
        "id": "pxSnfCVqSDtD",
        "colab_type": "code",
        "colab": {}
      },
      "source": [
        "eval_attack_net(attack_net, target_model, target_train_loader, target_out_loader, k)\n",
        "\n",
        "print(\"\\nPerformance on training set: \")\n",
        "train_accuracy = eval_target_net(target_model, target_train_loader, classes=None)\n",
        "\n",
        "print(\"\\nPerformance on test set: \")\n",
        "test_accuracy = eval_target_net(target_model, testloader, classes=None)"
      ],
      "execution_count": 0,
      "outputs": []
    },
    {
      "cell_type": "markdown",
      "metadata": {
        "id": "XMsyCgziqeaa",
        "colab_type": "text"
      },
      "source": [
        "Great! At this point, you must have created a succesfful attack model that can detect whether a datapoint was used in training a target mode or not. \n",
        "* A successful attack model is one with a precision/recall higher than 85% -- you are using same architecture and are aware of the data classes\n",
        "\n",
        " \n",
        " Can you suggest any defense mechanism? If yes, Apply them to your solution and re-evaluate your attack model. How did your defense mecanism affect the accuracy of the target model? How did it affect the recall and precision of the Attack model?"
      ]
    }
  ]
}