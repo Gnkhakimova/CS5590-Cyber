{
  "nbformat": 4,
  "nbformat_minor": 0,
  "metadata": {
    "colab": {
      "name": "Lab Assignment 1.ipynb",
      "version": "0.3.2",
      "provenance": [],
      "include_colab_link": true
    },
    "kernelspec": {
      "name": "python3",
      "display_name": "Python 3"
    },
    "accelerator": "GPU"
  },
  "cells": [
    {
      "cell_type": "markdown",
      "metadata": {
        "id": "view-in-github",
        "colab_type": "text"
      },
      "source": [
        "<a href=\"https://colab.research.google.com/github/Gnkhakimova/CS5590-Cyber/blob/master/Lab_Assignment_1.ipynb\" target=\"_parent\"><img src=\"https://colab.research.google.com/assets/colab-badge.svg\" alt=\"Open In Colab\"/></a>"
      ]
    },
    {
      "cell_type": "markdown",
      "metadata": {
        "id": "fns5eAjhkpIO",
        "colab_type": "text"
      },
      "source": [
        "# Lab Assigment 1: Varying Amounts of Noise\n",
        "\n",
        "In this project, I want you to augment the randomized response query (the one we just wrote) to allow for varying amounts of randomness to be added. Specifically, I want you to bias the coin flip to be higher or lower and then run the same experiment. \n",
        "\n",
        "Note - this one is a bit tricker than you might expect. You need to both adjust the likelihood of the first coin flip AND the de-skewing at the end (where we create the \"augmented_result\" variable)."
      ]
    },
    {
      "cell_type": "code",
      "metadata": {
        "id": "YEQdL803krVa",
        "colab_type": "code",
        "colab": {}
      },
      "source": [
        "import torch"
      ],
      "execution_count": 0,
      "outputs": []
    },
    {
      "cell_type": "markdown",
      "metadata": {
        "id": "m0cmAy2JW95V",
        "colab_type": "text"
      },
      "source": [
        "Function to create original dataset with true results."
      ]
    },
    {
      "cell_type": "code",
      "metadata": {
        "id": "8v2e0brWKAgY",
        "colab_type": "code",
        "colab": {}
      },
      "source": [
        "def create_db(entries):\n",
        "  return torch.rand(entries) > 0.5"
      ],
      "execution_count": 0,
      "outputs": []
    },
    {
      "cell_type": "markdown",
      "metadata": {
        "id": "u2XUnb5ZWI6_",
        "colab_type": "text"
      },
      "source": [
        "Defining `mean` function which will calculate mean value of given dataset."
      ]
    },
    {
      "cell_type": "code",
      "metadata": {
        "id": "fzF18WalK1zj",
        "colab_type": "code",
        "colab": {}
      },
      "source": [
        "# create a new query function, which finds the mean rather than the sum\n",
        "def query_mean(data):\n",
        "    return data.float().mean()"
      ],
      "execution_count": 0,
      "outputs": []
    },
    {
      "cell_type": "markdown",
      "metadata": {
        "id": "jiQAZCahWkii",
        "colab_type": "text"
      },
      "source": [
        "Following command torch.rand(size) > dropout_probability will return number from 0 to 1 with specified probabilty. By adjusting dropout_probability we can set probability of getting 0 (tail in our case)."
      ]
    },
    {
      "cell_type": "code",
      "metadata": {
        "id": "xGBvVQpsKD2x",
        "colab_type": "code",
        "colab": {}
      },
      "source": [
        "def flip_coin(tail_probability):      \n",
        "    coin = torch.rand(1) > tail_probability              \n",
        "    return coin"
      ],
      "execution_count": 0,
      "outputs": []
    },
    {
      "cell_type": "markdown",
      "metadata": {
        "id": "agNPaVm2bpnQ",
        "colab_type": "text"
      },
      "source": [
        "Defining function to add noise to ariginal dataset. Noise added by calling `flip_coin` function."
      ]
    },
    {
      "cell_type": "code",
      "metadata": {
        "id": "2XjwFF8HKPQN",
        "colab_type": "code",
        "colab": {}
      },
      "source": [
        "def creste_noise_list(data_org, tail_prob):  \n",
        "  noise_list = list()    \n",
        "  for j in range (len(data_org)):\n",
        "    temp = flip_coin(tail_prob)\n",
        "    if(temp == 1):\n",
        "      noise_list.append(data_org[j])\n",
        "    elif(temp == 0):\n",
        "      noise_list.append(flip_coin(tail_prob))\n",
        "  noise_list_res = torch.FloatTensor(noise_list) \n",
        "  return noise_list_res "
      ],
      "execution_count": 0,
      "outputs": []
    },
    {
      "cell_type": "markdown",
      "metadata": {
        "id": "E_nNq0wGUJ7R",
        "colab_type": "text"
      },
      "source": [
        "Formula to calculate probability: **P (Yes) = P (Yes | Head) * P (Head) + P (Yes | Tail) * P (Tail)**. In ordre to calculate thre result from our outcome we need to find `P(Yes | Head)`"
      ]
    },
    {
      "cell_type": "code",
      "metadata": {
        "id": "jX6FsFM-KSb8",
        "colab_type": "code",
        "colab": {}
      },
      "source": [
        "tail_probabilty_value = 0.75\n",
        "orig_db_result = create_db(10000)\n",
        "\n",
        "\n",
        "noise_db_result = creste_noise_list(orig_db_result, tail_probabilty_value)\n",
        "\n",
        "\n",
        "result_mean_org = query_mean(orig_db_result) \n",
        "\n",
        "\n",
        "result_mean_noise = query_mean(noise_db_result)\n",
        "#print(result_mean_noise) \n",
        "\n",
        "truth = (result_mean_noise - (tail_probabilty_value * (1 - tail_probabilty_value))) / tail_probabilty_value\n",
        "\n"
      ],
      "execution_count": 0,
      "outputs": []
    },
    {
      "cell_type": "markdown",
      "metadata": {
        "id": "XQVaR-MwbA2l",
        "colab_type": "text"
      },
      "source": [
        "Outputs are following: "
      ]
    },
    {
      "cell_type": "code",
      "metadata": {
        "id": "f1QgbgzbKt4W",
        "colab_type": "code",
        "colab": {
          "base_uri": "https://localhost:8080/",
          "height": 102
        },
        "outputId": "2d4ce29a-a077-46f8-e0db-ab18bec07164"
      },
      "source": [
        "print('Head probability: ', 1-tail_probabilty_value, '. Tail probability: ', tail_probabilty_value)\n",
        "print(orig_db_result)\n",
        "print(noise_db_result)\n",
        "print('Original dataset: ', result_mean_org)\n",
        "print('Truth: ', truth)\n"
      ],
      "execution_count": 80,
      "outputs": [
        {
          "output_type": "stream",
          "text": [
            "Head probability:  0.25 . Tail probability:  0.75\n",
            "tensor([0, 0, 1,  ..., 1, 0, 0], dtype=torch.uint8)\n",
            "tensor([0., 0., 0.,  ..., 0., 0., 1.])\n",
            "Original dataset:  tensor(0.5040)\n",
            "Truth:  tensor(0.1751)\n"
          ],
          "name": "stdout"
        }
      ]
    },
    {
      "cell_type": "code",
      "metadata": {
        "id": "VPuvdIwdfC61",
        "colab_type": "code",
        "colab": {}
      },
      "source": [
        ""
      ],
      "execution_count": 0,
      "outputs": []
    }
  ]
}