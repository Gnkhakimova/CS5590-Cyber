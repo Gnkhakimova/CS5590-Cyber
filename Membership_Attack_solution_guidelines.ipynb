{
  "nbformat": 4,
  "nbformat_minor": 0,
  "metadata": {
    "colab": {
      "name": "Membership Attack - solution guidelines.ipynb",
      "version": "0.3.2",
      "provenance": [],
      "collapsed_sections": [],
      "include_colab_link": true
    },
    "kernelspec": {
      "name": "python3",
      "display_name": "Python 3"
    },
    "accelerator": "GPU"
  },
  "cells": [
    {
      "cell_type": "markdown",
      "metadata": {
        "id": "view-in-github",
        "colab_type": "text"
      },
      "source": [
        "<a href=\"https://colab.research.google.com/github/Gnkhakimova/CS5590-Cyber/blob/master/Membership_Attack_solution_guidelines.ipynb\" target=\"_parent\"><img src=\"https://colab.research.google.com/assets/colab-badge.svg\" alt=\"Open In Colab\"/></a>"
      ]
    },
    {
      "cell_type": "code",
      "metadata": {
        "id": "OvK6LaVhrfZ8",
        "colab_type": "code",
        "colab": {}
      },
      "source": [
        "# required imports\n",
        "import sys \n",
        "import numpy as np \n",
        "import matplotlib.pyplot as plt\n",
        "%matplotlib inline  \n",
        "\n",
        "\n",
        "import torch\n",
        "import torchvision \n",
        "import torchvision.transforms as transforms\n",
        "import torch.optim as optim\n",
        "import torch.nn as nn\n",
        "import torch.nn.functional as F\n",
        "from torch.utils.data.sampler import SubsetRandomSampler"
      ],
      "execution_count": 0,
      "outputs": []
    },
    {
      "cell_type": "code",
      "metadata": {
        "id": "O05dkTKAsEh-",
        "colab_type": "code",
        "outputId": "8c8d2f53-7ae7-4026-ac60-4cc1f3a91a86",
        "colab": {
          "base_uri": "https://localhost:8080/",
          "height": 35
        }
      },
      "source": [
        "# mount the google drive to download the datasets\n",
        "from google.colab import drive\n",
        "drive.mount('/content/drive')\n",
        "project_path = '~/.pytorch/CIFAR_data/'"
      ],
      "execution_count": 48,
      "outputs": [
        {
          "output_type": "stream",
          "text": [
            "Drive already mounted at /content/drive; to attempt to forcibly remount, call drive.mount(\"/content/drive\", force_remount=True).\n"
          ],
          "name": "stdout"
        }
      ]
    },
    {
      "cell_type": "code",
      "metadata": {
        "id": "pEW1mLverl7l",
        "colab_type": "code",
        "colab": {}
      },
      "source": [
        "# create transforms to load the images, nothing much is needed here. \n",
        "transform_train = transforms.Compose([\n",
        "    transforms.RandomCrop(32, padding=4),\n",
        "    transforms.RandomHorizontalFlip(),\n",
        "    transforms.ToTensor(),\n",
        "    transforms.Normalize((0.4914, 0.4822, 0.4465), (0.2023, 0.1994, 0.2010)),\n",
        "])\n",
        "\n",
        "# Normalize the test set same as training set without augmentation\n",
        "transform_test = transforms.Compose([\n",
        "    transforms.ToTensor(),\n",
        "    transforms.Normalize((0.4914, 0.4822, 0.4465), (0.2023, 0.1994, 0.2010)),\n",
        "])"
      ],
      "execution_count": 0,
      "outputs": []
    },
    {
      "cell_type": "code",
      "metadata": {
        "id": "sjsFJTFwr1wV",
        "colab_type": "code",
        "outputId": "e6d8cf56-d758-47eb-d1f7-fec30f2f15ca",
        "colab": {
          "base_uri": "https://localhost:8080/",
          "height": 54
        }
      },
      "source": [
        "# download CIFAR 10 training set\n",
        "trainset = torchvision.datasets.CIFAR10(root= project_path+'/data', train=True,\n",
        "                                        download=True, transform=transform_train)\n",
        "\n",
        "# load the trainning set\n",
        "trainloader = torch.utils.data.DataLoader(trainset, batch_size=128, shuffle=True)\n",
        "\n",
        "# download the test data\n",
        "testset = torchvision.datasets.CIFAR10(root= project_path+'/data', train=False,\n",
        "                                        download=True, transform=transform_test)\n",
        "\n",
        "# load the test data\n",
        "testloader =torch.utils.data.DataLoader(testset, batch_size=128, shuffle=True)\n",
        "\n",
        "classes = ('plane', 'car', 'bird', 'cat', 'deer', 'dog', 'frog', 'horse', 'ship', 'truck')\n",
        "# check those manually on the dataset site: https://www.cs.toronto.edu/~kriz/cifar.html "
      ],
      "execution_count": 50,
      "outputs": [
        {
          "output_type": "stream",
          "text": [
            "Files already downloaded and verified\n",
            "Files already downloaded and verified\n"
          ],
          "name": "stdout"
        }
      ]
    },
    {
      "cell_type": "code",
      "metadata": {
        "id": "itY7G_y3tDnC",
        "colab_type": "code",
        "outputId": "3e606b73-b88e-4b07-c995-148b9c2d78d6",
        "colab": {
          "base_uri": "https://localhost:8080/",
          "height": 305
        }
      },
      "source": [
        "# helper function to unnormalize and plot image \n",
        "def imshow(img):\n",
        "    img = np.array(img)\n",
        "    img = img / 2 + 0.5\n",
        "    img = np.moveaxis(img, 0, -1)\n",
        "    plt.imshow(img)\n",
        "    \n",
        "# display sample from dataset \n",
        "imgs, labels = iter(trainloader).next()\n",
        "imshow(torchvision.utils.make_grid(imgs)) \n",
        "\n",
        "# notice who we converted the class idx to labels\n",
        "print(' '.join('%5s' % classes[labels[j]] for j in range(4)))\n",
        "\n",
        "# run this cell multiple times and notice diff images"
      ],
      "execution_count": 5,
      "outputs": [
        {
          "output_type": "stream",
          "text": [
            "Clipping input data to the valid range for imshow with RGB data ([0..1] for floats or [0..255] for integers).\n"
          ],
          "name": "stderr"
        },
        {
          "output_type": "stream",
          "text": [
            "  cat plane   cat horse\n"
          ],
          "name": "stdout"
        },
        {
          "output_type": "display_data",
          "data": {
            "image/png": "[encoded data removed]",
            "text/plain": [
              "<Figure size 432x288 with 1 Axes>"
            ]
          },
          "metadata": {
            "tags": []
          }
        }
      ]
    },
    {
      "cell_type": "code",
      "metadata": {
        "id": "AJK32k42gbEK",
        "colab_type": "code",
        "outputId": "dfc56a55-571a-45b7-c9a5-f173dd153d9e",
        "colab": {
          "base_uri": "https://localhost:8080/",
          "height": 35
        }
      },
      "source": [
        "# divide the training dataset into the required groups Make sure they are balanced\n",
        "# original trainset is made of 50k images\n",
        "\n",
        "total_size = len(trainset)\n",
        "split1 = total_size // 4\n",
        "split2 = split1 * 2\n",
        "split3 = split1 * 3\n",
        "\n",
        "print(total_size, split1, split2, split3)\n",
        "\n",
        "indices = list(range(total_size))\n",
        "\n",
        "# two groups to train the shadow (in and out)\n",
        "shadow_train_idx = indices[:split1]\n",
        "shadow_out_idx = indices[split1:split2]\n",
        "\n",
        "# two groups to train the Target (in and out)\n",
        "target_train_idx = indices[split2:split3]\n",
        "target_out_idx = indices[split3:]"
      ],
      "execution_count": 6,
      "outputs": [
        {
          "output_type": "stream",
          "text": [
            "50000 12500 25000 37500\n"
          ],
          "name": "stdout"
        }
      ]
    },
    {
      "cell_type": "code",
      "metadata": {
        "id": "W4wJ_0lkhp76",
        "colab_type": "code",
        "colab": {}
      },
      "source": [
        "batch_size = 128 # pick your own\n",
        "\n",
        "# divide and load shadow train in and out\n",
        "shadow_train_sampler = SubsetRandomSampler(shadow_train_idx) # Pytorch function\n",
        "shadow_train_loader = torch.utils.data.DataLoader(trainset, batch_size=batch_size, sampler=shadow_train_sampler)\n",
        "\n",
        "shadow_out_sampler = SubsetRandomSampler(shadow_out_idx)\n",
        "shadow_out_loader = torch.utils.data.DataLoader(trainset, batch_size=batch_size, sampler=shadow_out_sampler)\n",
        "\n",
        "# divide and load Target in and out\n",
        "target_train_sampler = SubsetRandomSampler(target_train_idx) # Pytorch function\n",
        "target_out_sampler = SubsetRandomSampler(target_out_idx) # Pytorch function\n",
        "\n",
        "target_train_loader = torch.utils.data.DataLoader(trainset, batch_size=batch_size, sampler=target_train_sampler)\n",
        "target_out_loader = torch.utils.data.DataLoader(trainset, batch_size=batch_size, sampler=target_out_sampler)\n"
      ],
      "execution_count": 0,
      "outputs": []
    },
    {
      "cell_type": "code",
      "metadata": {
        "id": "Kj9LuQJNuCXC",
        "colab_type": "code",
        "colab": {}
      },
      "source": [
        "# create a CNN\n",
        "# Input shape (3, 32, 32) \n",
        "# architecture: simple. 2 conv and 2 Max pool, followed by 2 fc (120, 84) \n",
        "# output of fc is 10 because we have 10 classes!\n",
        "\n",
        "\n",
        "\n",
        "class Net(nn.Module):\n",
        "    def __init__(self):\n",
        "        super(Net, self).__init__()\n",
        "        self.conv1 = nn.Conv2d(3, 6, 5) # inut channel = 3 RGB, out channels = 6, kernel = 5\n",
        "        self.pool = nn.MaxPool2d(2,2) # kernel size = 2, stride = 2\n",
        "        self.conv2 = nn.Conv2d(6, 16, 5)\n",
        "        \n",
        "        self.fc1 = nn.Linear(16*5*5, 120)\n",
        "        self.fc2 = nn.Linear(120, 84)\n",
        "        self.fc3 = nn.Linear(84,10)\n",
        "\n",
        "    def forward(self, x):\n",
        "        x = self.pool(F.relu(self.conv1(x)))\n",
        "        x = self.pool(F.relu(self.conv2(x)))\n",
        "        x = x.view(-1,16*5*5)\n",
        "        x = F.relu(self.fc1(x))\n",
        "        x = F.relu(self.fc2(x))\n",
        "        x = self.fc3(x)\n",
        "        return x"
      ],
      "execution_count": 0,
      "outputs": []
    },
    {
      "cell_type": "code",
      "metadata": {
        "id": "ER_B4V8YjKyU",
        "colab_type": "code",
        "outputId": "72adec65-b783-41de-8a5b-3ac206b9899e",
        "colab": {
          "base_uri": "https://localhost:8080/",
          "height": 35
        }
      },
      "source": [
        "# initalize a target model and train it\n",
        "\n",
        "target_model = Net()\n",
        "criterion = nn.CrossEntropyLoss()# CrossEntropyLoss\n",
        "optimizer = optim.Adam(target_model.parameters(), lr=0.001)# try Adam VS SGD\n",
        "\n",
        "# let the magic begin\n",
        "for epoch in range(20):  \n",
        "\n",
        "    running_loss = 0.0\n",
        "    \n",
        "    for i, data in enumerate(target_train_loader, 0):\n",
        "        # get the inputs; data is a list of [inputs, labels]\n",
        "        inputs, labels = data\n",
        "\n",
        "        # zero the parameter gradients\n",
        "        optimizer.zero_grad()\n",
        "\n",
        "        # forward + backward + optimize\n",
        "        outputs = target_model(inputs)\n",
        "        loss = criterion(outputs, labels)\n",
        "        loss.backward()\n",
        "        optimizer.step()\n",
        "        # make a prediction: forward prop\n",
        "        \n",
        "        # calculate the loss\n",
        "        \n",
        "        # calculate gradients\n",
        "        \n",
        "        # updaate weights in backprop\n",
        "\n",
        "        # print statistics\n",
        "        running_loss += loss.item()\n",
        "        if i % 2000 == 1999:    # print every 2000 mini-batches\n",
        "            print('[%d, %5d] loss: %.3f' %\n",
        "                  (epoch + 1, i + 1, running_loss / 2000))\n",
        "            running_loss = 0.0     \n",
        "        \n",
        "\n",
        "print('Finished Training the Target model...')"
      ],
      "execution_count": 9,
      "outputs": [
        {
          "output_type": "stream",
          "text": [
            "Finished Training the Target model...\n"
          ],
          "name": "stdout"
        }
      ]
    },
    {
      "cell_type": "code",
      "metadata": {
        "id": "EpY8ktdskRQN",
        "colab_type": "code",
        "outputId": "26292ff9-effe-4ee5-9acf-96007acff143",
        "colab": {
          "base_uri": "https://localhost:8080/",
          "height": 35
        }
      },
      "source": [
        "# calculate the accuracy of the Target Model\n",
        "correct = 0\n",
        "total = 0\n",
        "\n",
        "with torch.no_grad():\n",
        "    for data in target_out_loader:\n",
        "        images, labels = data\n",
        "        outputs = target_model(images)\n",
        "        _, predicted = torch.max(outputs.data, 1)\n",
        "        total += labels.size(0)\n",
        "        correct += (predicted == labels).sum().item()\n",
        "\n",
        "print('Accuracy of the network on the 10000 test images: %d %%' % (100 * correct / total))"
      ],
      "execution_count": 10,
      "outputs": [
        {
          "output_type": "stream",
          "text": [
            "Accuracy of the network on the 10000 test images: 53 %\n"
          ],
          "name": "stdout"
        }
      ]
    },
    {
      "cell_type": "markdown",
      "metadata": {
        "id": "IEClKFqikmUl",
        "colab_type": "text"
      },
      "source": [
        "\n",
        "\n",
        "---\n",
        "\n"
      ]
    },
    {
      "cell_type": "code",
      "metadata": {
        "id": "Ha_VqRVVkoCm",
        "colab_type": "code",
        "outputId": "47802d8b-8eee-4e43-959b-de38b303f254",
        "colab": {
          "base_uri": "https://localhost:8080/",
          "height": 35
        }
      },
      "source": [
        "# initalize a Shadow Model and Train it\n",
        "# for the first ICP, your shadow model can have the same CNN architecture and hyperparameters\n",
        "\n",
        "shadow_model = target_model\n",
        "shadow_criterion = nn.CrossEntropyLoss()\n",
        "shadow_optimizer = optim.Adam(target_model.parameters(), lr=0.001)\n",
        "\n",
        "# let the magic begin\n",
        "for epoch in range(1):  \n",
        "\n",
        "    running_loss = 0.0\n",
        "    \n",
        "    for i, data in enumerate(shadow_train_loader, 0):\n",
        "        # get the inputs; data is a list of [inputs, labels]\n",
        "        inputs, labels = data\n",
        "\n",
        "        # zero the parameter gradients\n",
        "        optimizer.zero_grad()\n",
        "\n",
        "        # forward + backward + optimize\n",
        "        outputs = shadow_model(inputs)\n",
        "        loss = criterion(outputs, labels)\n",
        "        loss.backward()\n",
        "        optimizer.step()\n",
        "        # make a prediction: forward prop\n",
        "        \n",
        "        # calculate the loss\n",
        "        \n",
        "        # calculate gradients\n",
        "        \n",
        "        # updaate weights in backprop\n",
        "\n",
        "        # print statistics\n",
        "        running_loss += loss.item()\n",
        "        if i % 2000 == 1999:    # print every 2000 mini-batches\n",
        "            print('[%d, %5d] loss: %.3f' %\n",
        "                  (epoch + 1, i + 1, running_loss / 2000))\n",
        "            running_loss = 0.0     \n",
        "\n",
        "\n",
        "print('Finished Training the Shadow model')"
      ],
      "execution_count": 11,
      "outputs": [
        {
          "output_type": "stream",
          "text": [
            "Finished Training the Shadow model\n"
          ],
          "name": "stdout"
        }
      ]
    },
    {
      "cell_type": "code",
      "metadata": {
        "id": "EKGUddxleANP",
        "colab_type": "code",
        "outputId": "88c7de6a-f1ce-455f-c267-58c1290e91e1",
        "colab": {
          "base_uri": "https://localhost:8080/",
          "height": 35
        }
      },
      "source": [
        "# freeze the Shadow model \n",
        "# make predictions on both datasets (shadow_in and shdow_out)\n",
        "# create a new dataset of the shape [predictions(shadow_in), 1], [predicitons(shadow_out), 1] and zip them together\n",
        "\n",
        "\n",
        "correct = 0\n",
        "total = 0\n",
        "\n",
        "with torch.no_grad():\n",
        "    for data in shadow_out_loader:\n",
        "        images, labels = data\n",
        "        outputs = shadow_model(images)\n",
        "        _, predicted = torch.max(outputs.data, 1)\n",
        "        total += labels.size(0)\n",
        "        correct += (predicted == labels).sum().item()\n",
        "\n",
        "print('Accuracy of the network on the 10000 test images: %d %%' % (100 * correct / total))"
      ],
      "execution_count": 12,
      "outputs": [
        {
          "output_type": "stream",
          "text": [
            "Accuracy of the network on the 10000 test images: 50 %\n"
          ],
          "name": "stdout"
        }
      ]
    },
    {
      "cell_type": "code",
      "metadata": {
        "id": "8p5naThnyXd7",
        "colab_type": "code",
        "colab": {
          "base_uri": "https://localhost:8080/",
          "height": 35
        },
        "outputId": "660b328d-51ee-4334-9a52-de3f7b6f728b"
      },
      "source": [
        "correct = 0\n",
        "total = 0\n",
        "\n",
        "with torch.no_grad():\n",
        "    for data in shadow_train_loader:\n",
        "        images, labels = data\n",
        "        outputs = shadow_model(images)\n",
        "        _, predicted = torch.max(outputs.data, 1)\n",
        "        total += labels.size(0)\n",
        "        correct += (predicted == labels).sum().item()\n",
        "\n",
        "print('Accuracy of the network on the 10000 test images: %d %%' % (100 * correct / total))"
      ],
      "execution_count": 13,
      "outputs": [
        {
          "output_type": "stream",
          "text": [
            "Accuracy of the network on the 10000 test images: 52 %\n"
          ],
          "name": "stdout"
        }
      ]
    },
    {
      "cell_type": "code",
      "metadata": {
        "id": "4iUuGbkBrkVm",
        "colab_type": "code",
        "colab": {}
      },
      "source": [
        "lr = 0.01\n",
        "k = 3"
      ],
      "execution_count": 0,
      "outputs": []
    },
    {
      "cell_type": "code",
      "metadata": {
        "id": "pDdFdGSasuvq",
        "colab_type": "code",
        "colab": {}
      },
      "source": [
        "def weights_init(m): \n",
        "    if isinstance(m, nn.Conv2d):\n",
        "        nn.init.kaiming_normal_(m.weight, mode='fan_out', nonlinearity='relu')\n",
        "        if m.bias is not None:\n",
        "            nn.init.constant_(m.bias, 0)\n",
        "    elif isinstance(m, nn.BatchNorm2d):\n",
        "        nn.init.constant_(m.weight, 1)\n",
        "        nn.init.constant_(m.bias, 0)\n",
        "    elif isinstance(m, nn.Linear): \n",
        "        nn.init.xavier_normal_(m.weight.data)\n",
        "        nn.init.constant_(m.bias, 0)"
      ],
      "execution_count": 0,
      "outputs": []
    },
    {
      "cell_type": "code",
      "metadata": {
        "id": "Zuc930garVTG",
        "colab_type": "code",
        "colab": {}
      },
      "source": [
        "class attack_net(nn.Module): \n",
        "    def __init__(self, n_in=3, n_out=1, n_hidden=64): \n",
        "        super(attack_net, self).__init__()\n",
        "        \n",
        "        self.hidden = nn.Linear(n_in, n_hidden)\n",
        "        #self.bn = nn.BatchNorm1d(n_hidden)\n",
        "        self.output = nn.Linear(n_hidden, n_out)\n",
        "        \n",
        "    def forward(self, x): \n",
        "        x = F.sigmoid(self.hidden(x))\n",
        "        #x = self.bn(x)\n",
        "        out = self.output(x)\n",
        "        #out = F.sigmoid(self.output(x))\n",
        "        \n",
        "        return out"
      ],
      "execution_count": 0,
      "outputs": []
    },
    {
      "cell_type": "code",
      "metadata": {
        "id": "dwbdq1whr-7z",
        "colab_type": "code",
        "colab": {}
      },
      "source": [
        "def train(net, data_loader, test_loader, optimizer, criterion, n_epochs, classes=None, verbose=False):\n",
        "    losses = []\n",
        "    for epoch in range(n_epochs):\n",
        "        net.train()\n",
        "        for i, batch in enumerate(data_loader):\n",
        "\n",
        "            imgs, labels = batch\n",
        "            imgs, labels = imgs, labels\n",
        "\n",
        "            optimizer.zero_grad()\n",
        "\n",
        "            outputs = net(imgs)\n",
        "\n",
        "            loss = criterion(outputs, labels)\n",
        "            loss.backward()\n",
        "            optimizer.step()\n",
        "\n",
        "            losses.append(loss.item())\n",
        "\n",
        "            if verbose:\n",
        "                print(\"[%d/%d][%d/%d] loss = %f\" % (epoch, n_epochs, i, len(data_loader), loss.item()))\n",
        "\n",
        "        # evaluate performance on testset at the end of each epoch\n",
        "        print(\"[%d/%d]\" %(epoch, n_epochs))\n",
        "        print(\"Training:\")\n",
        "        train_accuracy = eval_target_net(net, data_loader, classes=classes)\n",
        "        print(\"Test:\")\n",
        "        test_accuracy = eval_target_net(net, test_loader, classes=classes)\n",
        "        #plt.plot(losses)\n",
        "        #plt.show()\n",
        "    return train_accuracy, test_accuracy\n",
        "        \n",
        "def train_attacker(attack_net, shadow, shadow_train, shadow_out, optimizer, criterion, n_epochs, k):\n",
        "    \n",
        "    \"\"\"\n",
        "    Trains attack model (classifies a sample as in or out of training set) using\n",
        "    shadow model outputs (probabilities for sample class predictions). \n",
        "    The type of shadow model used can vary.\n",
        "    \"\"\"\n",
        "        \n",
        "    in_predicts=[]\n",
        "    out_predicts=[]\n",
        "    losses = []\n",
        "    \n",
        "    if type(shadow) is not Pipeline:\n",
        "        shadow_net=shadow\n",
        "        shadow_net.eval()\n",
        "\n",
        "    for epoch in range(n_epochs):\n",
        "       \n",
        "        total = 0\n",
        "        correct = 0\n",
        "\n",
        "        #train_top = np.array([])\n",
        "        #train_top = []\n",
        "        train_top = np.empty((0,2))\n",
        "        out_top = np.empty((0,2))\n",
        "        for i, ((train_imgs, _), (out_imgs, _)) in enumerate(zip(shadow_train, shadow_out)):\n",
        "\n",
        "            if train_imgs.shape[0] != out_imgs.shape[0]: \n",
        "                break\n",
        "                \n",
        "            #######out_imgs = torch.randn(out_imgs.shape)\n",
        "            mini_batch_size = train_imgs.shape[0]\n",
        "            \n",
        "            if type(shadow) is not Pipeline:\n",
        "                train_imgs, out_imgs = train_imgs, out_imgs\n",
        "\n",
        "                train_posteriors = F.softmax(shadow_net(train_imgs.detach()), dim=1)\n",
        "                \n",
        "                out_posteriors = F.softmax(shadow_net(out_imgs.detach()), dim=1)\n",
        "\n",
        "                \n",
        "            else:\n",
        "                traininputs= train_imgs.view(train_imgs.shape[0],-1)\n",
        "                outinputs=out_imgs.view(out_imgs.shape[0], -1)\n",
        "                \n",
        "                in_preds=shadow.predict_proba(traininputs)\n",
        "                train_posteriors=torch.from_numpy(in_preds).float()\n",
        "                #for p in in_preds:\n",
        "                 #   in_predicts.append(p.max())\n",
        "                \n",
        "                out_preds=shadow.predict_proba(outinputs)\n",
        "                out_posteriors=torch.from_numpy(out_preds).float()\n",
        "                #for p in out_preds:\n",
        "                 #   out_predicts.append(p.max())\n",
        "                            \n",
        "\n",
        "            train_sort, _ = torch.sort(train_posteriors, descending=True)\n",
        "            train_top_k = train_sort[:,:k].clone()\n",
        "            for p in train_top_k:\n",
        "                in_predicts.append((p.max()).item())\n",
        "            out_sort, _ = torch.sort(out_posteriors, descending=True)\n",
        "            out_top_k = out_sort[:,:k].clone()\n",
        "            for p in out_top_k:\n",
        "                out_predicts.append((p.max()).item())\n",
        "\n",
        "            train_top = np.vstack((train_top,train_top_k[:,:2].cpu().detach().numpy()))\n",
        "            out_top = np.vstack((out_top, out_top_k[:,:2].cpu().detach().numpy()))\n",
        "\n",
        "\n",
        "            train_lbl = torch.ones(mini_batch_size)\n",
        "            out_lbl = torch.zeros(mini_batch_size)\n",
        "\n",
        "            optimizer.zero_grad()\n",
        "\n",
        "            train_predictions = torch.squeeze(attack_net(train_top_k))\n",
        "            out_predictions = torch.squeeze(attack_net(out_top_k))\n",
        "\n",
        "            loss_train = criterion(train_predictions, train_lbl)\n",
        "            loss_out = criterion(out_predictions, out_lbl)\n",
        "\n",
        "            loss = (loss_train + loss_out) / 2\n",
        "            \n",
        "            if type(shadow) is not Pipeline:\n",
        "                loss.backward()\n",
        "                optimizer.step()\n",
        "\n",
        "            \n",
        "            correct += (F.sigmoid(train_predictions)>=0.5).sum().item()\n",
        "            correct += (F.sigmoid(out_predictions)<0.5).sum().item()\n",
        "            total += train_predictions.size(0) + out_predictions.size(0)\n",
        "\n",
        "\n",
        "            print(\"[%d/%d][%d/%d] loss = %.2f, accuracy = %.2f\" % (epoch, n_epochs, i, len(shadow_train), loss.item(), 100 * correct / total))\n",
        "            \n",
        "        #Plot distributions for target predictions in training set and out of training set\n",
        "        \"\"\"\n",
        "        fig, ax = plt.subplots(2,1)\n",
        "        plt.subplot(2,1,1)\n",
        "        plt.hist(in_predicts, bins='auto')\n",
        "        plt.title('In')\n",
        "        plt.subplot(2,1,2)\n",
        "        plt.hist(out_predicts, bins='auto')\n",
        "        plt.title('Out')\n",
        "        \"\"\"\n",
        "\n",
        "        '''\n",
        "        plt.scatter(out_top.T[0,:], out_top.T[1,:], c='b')\n",
        "        plt.scatter(train_top.T[0,:], train_top.T[1,:], c='r')\n",
        "        plt.show()\n",
        "        '''"
      ],
      "execution_count": 0,
      "outputs": []
    },
    {
      "cell_type": "code",
      "metadata": {
        "id": "_ymKnj7QpdDG",
        "colab_type": "code",
        "colab": {}
      },
      "source": [
        "# create the Attack Model: A NN binary classifier {0, 1}\n",
        "# the input to this model is the propability distribution vector of size 10\n",
        "# and the output is either 0 (input was not included in training) or 1\n",
        "attack_net = attack_net(n_in=k)\n",
        "attack_net.apply(weights_init)\n",
        "\n",
        "attack_loss = nn.BCEWithLogitsLoss()\n",
        "#attack_loss = nn.BCELoss()\n",
        "attack_optim = optim.Adam(attack_net.parameters(), lr=lr)\n"
      ],
      "execution_count": 0,
      "outputs": []
    },
    {
      "cell_type": "code",
      "metadata": {
        "id": "aPbJJI3Stn4A",
        "colab_type": "code",
        "colab": {}
      },
      "source": [
        "from sklearn.pipeline import Pipeline"
      ],
      "execution_count": 0,
      "outputs": []
    },
    {
      "cell_type": "code",
      "metadata": {
        "id": "AW7S90jmtL25",
        "colab_type": "code",
        "colab": {
          "base_uri": "https://localhost:8080/",
          "height": 1000
        },
        "outputId": "ca2412a6-cf82-4ef5-fbe3-cbfff70eb5b8"
      },
      "source": [
        "train_attacker(attack_net, shadow_model, shadow_train_loader, shadow_out_loader, attack_optim, attack_loss, n_epochs=2, k=k)"
      ],
      "execution_count": 44,
      "outputs": [
        {
          "output_type": "stream",
          "text": [
            "/usr/local/lib/python3.6/dist-packages/torch/nn/functional.py:1386: UserWarning: nn.functional.sigmoid is deprecated. Use torch.sigmoid instead.\n",
            "  warnings.warn(\"nn.functional.sigmoid is deprecated. Use torch.sigmoid instead.\")\n"
          ],
          "name": "stderr"
        },
        {
          "output_type": "stream",
          "text": [
            "[0/2][0/98] loss = 0.74, accuracy = 50.00\n",
            "[0/2][1/98] loss = 0.70, accuracy = 50.00\n",
            "[0/2][2/98] loss = 0.69, accuracy = 50.00\n",
            "[0/2][3/98] loss = 0.71, accuracy = 50.00\n",
            "[0/2][4/98] loss = 0.71, accuracy = 50.00\n",
            "[0/2][5/98] loss = 0.71, accuracy = 50.00\n",
            "[0/2][6/98] loss = 0.70, accuracy = 50.00\n",
            "[0/2][7/98] loss = 0.69, accuracy = 50.00\n",
            "[0/2][8/98] loss = 0.69, accuracy = 50.00\n",
            "[0/2][9/98] loss = 0.70, accuracy = 50.00\n",
            "[0/2][10/98] loss = 0.70, accuracy = 50.00\n",
            "[0/2][11/98] loss = 0.70, accuracy = 50.00\n",
            "[0/2][12/98] loss = 0.70, accuracy = 50.00\n",
            "[0/2][13/98] loss = 0.70, accuracy = 50.00\n",
            "[0/2][14/98] loss = 0.69, accuracy = 50.00\n",
            "[0/2][15/98] loss = 0.69, accuracy = 50.00\n",
            "[0/2][16/98] loss = 0.69, accuracy = 50.00\n",
            "[0/2][17/98] loss = 0.70, accuracy = 50.00\n",
            "[0/2][18/98] loss = 0.70, accuracy = 50.00\n",
            "[0/2][19/98] loss = 0.70, accuracy = 50.00\n",
            "[0/2][20/98] loss = 0.69, accuracy = 50.00\n",
            "[0/2][21/98] loss = 0.69, accuracy = 50.00\n",
            "[0/2][22/98] loss = 0.69, accuracy = 50.00\n",
            "[0/2][23/98] loss = 0.69, accuracy = 50.00\n",
            "[0/2][24/98] loss = 0.69, accuracy = 50.00\n",
            "[0/2][25/98] loss = 0.69, accuracy = 50.00\n",
            "[0/2][26/98] loss = 0.69, accuracy = 50.00\n",
            "[0/2][27/98] loss = 0.69, accuracy = 50.00\n",
            "[0/2][28/98] loss = 0.69, accuracy = 50.00\n",
            "[0/2][29/98] loss = 0.69, accuracy = 50.00\n",
            "[0/2][30/98] loss = 0.69, accuracy = 50.00\n",
            "[0/2][31/98] loss = 0.69, accuracy = 50.00\n",
            "[0/2][32/98] loss = 0.69, accuracy = 50.00\n",
            "[0/2][33/98] loss = 0.69, accuracy = 50.00\n",
            "[0/2][34/98] loss = 0.69, accuracy = 50.00\n",
            "[0/2][35/98] loss = 0.69, accuracy = 50.00\n",
            "[0/2][36/98] loss = 0.69, accuracy = 50.04\n",
            "[0/2][37/98] loss = 0.69, accuracy = 50.08\n",
            "[0/2][38/98] loss = 0.69, accuracy = 50.08\n",
            "[0/2][39/98] loss = 0.69, accuracy = 50.08\n",
            "[0/2][40/98] loss = 0.69, accuracy = 50.08\n",
            "[0/2][41/98] loss = 0.69, accuracy = 50.07\n",
            "[0/2][42/98] loss = 0.69, accuracy = 50.16\n",
            "[0/2][43/98] loss = 0.69, accuracy = 50.16\n",
            "[0/2][44/98] loss = 0.69, accuracy = 50.16\n",
            "[0/2][45/98] loss = 0.69, accuracy = 50.15\n",
            "[0/2][46/98] loss = 0.69, accuracy = 50.15\n",
            "[0/2][47/98] loss = 0.69, accuracy = 50.15\n",
            "[0/2][48/98] loss = 0.69, accuracy = 50.14\n",
            "[0/2][49/98] loss = 0.69, accuracy = 50.14\n",
            "[0/2][50/98] loss = 0.69, accuracy = 50.23\n",
            "[0/2][51/98] loss = 0.69, accuracy = 50.17\n",
            "[0/2][52/98] loss = 0.69, accuracy = 50.15\n",
            "[0/2][53/98] loss = 0.69, accuracy = 50.15\n",
            "[0/2][54/98] loss = 0.69, accuracy = 50.13\n",
            "[0/2][55/98] loss = 0.69, accuracy = 50.24\n",
            "[0/2][56/98] loss = 0.69, accuracy = 50.25\n",
            "[0/2][57/98] loss = 0.69, accuracy = 50.26\n",
            "[0/2][58/98] loss = 0.69, accuracy = 50.25\n",
            "[0/2][59/98] loss = 0.69, accuracy = 50.25\n",
            "[0/2][60/98] loss = 0.69, accuracy = 50.26\n",
            "[0/2][61/98] loss = 0.69, accuracy = 50.22\n",
            "[0/2][62/98] loss = 0.69, accuracy = 50.21\n",
            "[0/2][63/98] loss = 0.69, accuracy = 50.27\n",
            "[0/2][64/98] loss = 0.69, accuracy = 50.28\n",
            "[0/2][65/98] loss = 0.69, accuracy = 50.28\n",
            "[0/2][66/98] loss = 0.69, accuracy = 50.25\n",
            "[0/2][67/98] loss = 0.69, accuracy = 50.17\n",
            "[0/2][68/98] loss = 0.69, accuracy = 50.29\n",
            "[0/2][69/98] loss = 0.69, accuracy = 50.26\n",
            "[0/2][70/98] loss = 0.69, accuracy = 50.21\n",
            "[0/2][71/98] loss = 0.69, accuracy = 50.18\n",
            "[0/2][72/98] loss = 0.69, accuracy = 50.17\n",
            "[0/2][73/98] loss = 0.69, accuracy = 50.23\n",
            "[0/2][74/98] loss = 0.69, accuracy = 50.24\n",
            "[0/2][75/98] loss = 0.69, accuracy = 50.20\n",
            "[0/2][76/98] loss = 0.69, accuracy = 50.20\n",
            "[0/2][77/98] loss = 0.69, accuracy = 50.22\n",
            "[0/2][78/98] loss = 0.69, accuracy = 50.20\n",
            "[0/2][79/98] loss = 0.69, accuracy = 50.24\n",
            "[0/2][80/98] loss = 0.69, accuracy = 50.27\n",
            "[0/2][81/98] loss = 0.69, accuracy = 50.31\n",
            "[0/2][82/98] loss = 0.69, accuracy = 50.36\n",
            "[0/2][83/98] loss = 0.69, accuracy = 50.35\n",
            "[0/2][84/98] loss = 0.69, accuracy = 50.29\n",
            "[0/2][85/98] loss = 0.69, accuracy = 50.30\n",
            "[0/2][86/98] loss = 0.69, accuracy = 50.31\n",
            "[0/2][87/98] loss = 0.69, accuracy = 50.31\n",
            "[0/2][88/98] loss = 0.69, accuracy = 50.33\n",
            "[0/2][89/98] loss = 0.69, accuracy = 50.33\n",
            "[0/2][90/98] loss = 0.69, accuracy = 50.36\n",
            "[0/2][91/98] loss = 0.69, accuracy = 50.37\n",
            "[0/2][92/98] loss = 0.69, accuracy = 50.39\n",
            "[0/2][93/98] loss = 0.69, accuracy = 50.32\n",
            "[0/2][94/98] loss = 0.69, accuracy = 50.32\n",
            "[0/2][95/98] loss = 0.69, accuracy = 50.30\n",
            "[0/2][96/98] loss = 0.69, accuracy = 50.25\n",
            "[0/2][97/98] loss = 0.69, accuracy = 50.25\n",
            "[1/2][0/98] loss = 0.69, accuracy = 45.70\n",
            "[1/2][1/98] loss = 0.69, accuracy = 49.61\n",
            "[1/2][2/98] loss = 0.69, accuracy = 49.61\n",
            "[1/2][3/98] loss = 0.69, accuracy = 49.12\n",
            "[1/2][4/98] loss = 0.69, accuracy = 50.08\n",
            "[1/2][5/98] loss = 0.69, accuracy = 51.56\n",
            "[1/2][6/98] loss = 0.69, accuracy = 51.45\n",
            "[1/2][7/98] loss = 0.69, accuracy = 50.98\n",
            "[1/2][8/98] loss = 0.69, accuracy = 50.00\n",
            "[1/2][9/98] loss = 0.69, accuracy = 50.23\n",
            "[1/2][10/98] loss = 0.69, accuracy = 50.46\n",
            "[1/2][11/98] loss = 0.69, accuracy = 50.39\n",
            "[1/2][12/98] loss = 0.69, accuracy = 50.54\n",
            "[1/2][13/98] loss = 0.69, accuracy = 50.59\n",
            "[1/2][14/98] loss = 0.69, accuracy = 50.23\n",
            "[1/2][15/98] loss = 0.69, accuracy = 50.27\n",
            "[1/2][16/98] loss = 0.69, accuracy = 50.64\n",
            "[1/2][17/98] loss = 0.69, accuracy = 50.50\n",
            "[1/2][18/98] loss = 0.69, accuracy = 50.74\n",
            "[1/2][19/98] loss = 0.69, accuracy = 50.76\n",
            "[1/2][20/98] loss = 0.69, accuracy = 50.78\n",
            "[1/2][21/98] loss = 0.69, accuracy = 50.59\n",
            "[1/2][22/98] loss = 0.69, accuracy = 50.42\n",
            "[1/2][23/98] loss = 0.69, accuracy = 50.28\n",
            "[1/2][24/98] loss = 0.69, accuracy = 50.39\n",
            "[1/2][25/98] loss = 0.69, accuracy = 50.45\n",
            "[1/2][26/98] loss = 0.69, accuracy = 50.33\n",
            "[1/2][27/98] loss = 0.69, accuracy = 50.31\n",
            "[1/2][28/98] loss = 0.69, accuracy = 50.34\n",
            "[1/2][29/98] loss = 0.69, accuracy = 50.22\n",
            "[1/2][30/98] loss = 0.69, accuracy = 50.15\n",
            "[1/2][31/98] loss = 0.69, accuracy = 50.23\n",
            "[1/2][32/98] loss = 0.69, accuracy = 50.15\n",
            "[1/2][33/98] loss = 0.69, accuracy = 50.16\n",
            "[1/2][34/98] loss = 0.69, accuracy = 50.20\n",
            "[1/2][35/98] loss = 0.69, accuracy = 50.20\n",
            "[1/2][36/98] loss = 0.69, accuracy = 50.05\n",
            "[1/2][37/98] loss = 0.69, accuracy = 50.20\n",
            "[1/2][38/98] loss = 0.69, accuracy = 50.38\n",
            "[1/2][39/98] loss = 0.69, accuracy = 50.40\n",
            "[1/2][40/98] loss = 0.69, accuracy = 50.32\n",
            "[1/2][41/98] loss = 0.69, accuracy = 50.44\n",
            "[1/2][42/98] loss = 0.69, accuracy = 50.33\n",
            "[1/2][43/98] loss = 0.69, accuracy = 50.28\n",
            "[1/2][44/98] loss = 0.69, accuracy = 50.36\n",
            "[1/2][45/98] loss = 0.69, accuracy = 50.41\n",
            "[1/2][46/98] loss = 0.69, accuracy = 50.37\n",
            "[1/2][47/98] loss = 0.69, accuracy = 50.32\n",
            "[1/2][48/98] loss = 0.69, accuracy = 50.26\n",
            "[1/2][49/98] loss = 0.69, accuracy = 50.26\n",
            "[1/2][50/98] loss = 0.69, accuracy = 50.25\n",
            "[1/2][51/98] loss = 0.69, accuracy = 50.21\n",
            "[1/2][52/98] loss = 0.69, accuracy = 50.18\n",
            "[1/2][53/98] loss = 0.69, accuracy = 50.16\n",
            "[1/2][54/98] loss = 0.69, accuracy = 50.18\n",
            "[1/2][55/98] loss = 0.69, accuracy = 50.16\n",
            "[1/2][56/98] loss = 0.69, accuracy = 50.08\n",
            "[1/2][57/98] loss = 0.69, accuracy = 50.06\n",
            "[1/2][58/98] loss = 0.69, accuracy = 50.06\n",
            "[1/2][59/98] loss = 0.69, accuracy = 50.14\n",
            "[1/2][60/98] loss = 0.69, accuracy = 50.06\n",
            "[1/2][61/98] loss = 0.69, accuracy = 50.12\n",
            "[1/2][62/98] loss = 0.69, accuracy = 49.96\n",
            "[1/2][63/98] loss = 0.69, accuracy = 49.90\n",
            "[1/2][64/98] loss = 0.69, accuracy = 49.93\n",
            "[1/2][65/98] loss = 0.69, accuracy = 49.92\n",
            "[1/2][66/98] loss = 0.69, accuracy = 49.99\n",
            "[1/2][67/98] loss = 0.69, accuracy = 49.98\n",
            "[1/2][68/98] loss = 0.69, accuracy = 50.10\n",
            "[1/2][69/98] loss = 0.69, accuracy = 50.00\n",
            "[1/2][70/98] loss = 0.69, accuracy = 49.94\n",
            "[1/2][71/98] loss = 0.69, accuracy = 49.88\n",
            "[1/2][72/98] loss = 0.69, accuracy = 49.88\n",
            "[1/2][73/98] loss = 0.69, accuracy = 49.81\n",
            "[1/2][74/98] loss = 0.69, accuracy = 49.80\n",
            "[1/2][75/98] loss = 0.69, accuracy = 49.83\n",
            "[1/2][76/98] loss = 0.69, accuracy = 49.90\n",
            "[1/2][77/98] loss = 0.69, accuracy = 49.94\n",
            "[1/2][78/98] loss = 0.69, accuracy = 49.97\n",
            "[1/2][79/98] loss = 0.69, accuracy = 49.99\n",
            "[1/2][80/98] loss = 0.69, accuracy = 49.99\n",
            "[1/2][81/98] loss = 0.69, accuracy = 50.01\n",
            "[1/2][82/98] loss = 0.69, accuracy = 50.10\n",
            "[1/2][83/98] loss = 0.69, accuracy = 50.13\n",
            "[1/2][84/98] loss = 0.69, accuracy = 50.11\n",
            "[1/2][85/98] loss = 0.69, accuracy = 50.09\n",
            "[1/2][86/98] loss = 0.69, accuracy = 50.11\n",
            "[1/2][87/98] loss = 0.69, accuracy = 50.18\n",
            "[1/2][88/98] loss = 0.69, accuracy = 50.18\n",
            "[1/2][89/98] loss = 0.69, accuracy = 50.17\n",
            "[1/2][90/98] loss = 0.69, accuracy = 50.21\n",
            "[1/2][91/98] loss = 0.69, accuracy = 50.19\n",
            "[1/2][92/98] loss = 0.69, accuracy = 50.20\n",
            "[1/2][93/98] loss = 0.69, accuracy = 50.20\n",
            "[1/2][94/98] loss = 0.69, accuracy = 50.21\n",
            "[1/2][95/98] loss = 0.69, accuracy = 50.21\n",
            "[1/2][96/98] loss = 0.69, accuracy = 50.27\n",
            "[1/2][97/98] loss = 0.69, accuracy = 50.24\n"
          ],
          "name": "stdout"
        }
      ]
    },
    {
      "cell_type": "code",
      "metadata": {
        "id": "h8qlp9nDwbrH",
        "colab_type": "code",
        "colab": {}
      },
      "source": [
        "def eval_target_net(net, testloader, classes=None):\n",
        "\n",
        "    if classes is not None:\n",
        "        class_correct = np.zeros(10)\n",
        "        class_total = np.zeros(10)\n",
        "    total = 0\n",
        "    correct = 0\n",
        "    with torch.no_grad():\n",
        "        net.eval()\n",
        "        for i, (imgs, lbls) in enumerate(testloader):\n",
        "\n",
        "            imgs, lbls = imgs, lbls\n",
        "\n",
        "            output = net(imgs)\n",
        "\n",
        "            predicted = output.argmax(dim=1)\n",
        "\n",
        "            total += imgs.size(0)\n",
        "            correct += predicted.eq(lbls).sum().item()\n",
        "\n",
        "            if classes is not None:\n",
        "                for prediction, lbl in zip(predicted, lbls):\n",
        "\n",
        "                    class_correct[lbl] += prediction == lbl\n",
        "                    class_total[lbl] += 1\n",
        "                    \n",
        "    accuracy = 100*(correct/total)\n",
        "    if classes is not None:\n",
        "        for i in range(len(classes)):\n",
        "            print('Accuracy of %s : %.2f %%' % (classes[i], 100 * class_correct[i] / class_total[i]))\n",
        "    print(\"\\nAccuracy = %.2f %%\\n\\n\" % (accuracy) )\n",
        "    \n",
        "    return accuracy"
      ],
      "execution_count": 0,
      "outputs": []
    },
    {
      "cell_type": "code",
      "metadata": {
        "id": "rwg9oHLbwEX8",
        "colab_type": "code",
        "colab": {}
      },
      "source": [
        "target_loss = nn.CrossEntropyLoss()\n",
        "target_optim = optim.Adam(target_model.parameters(), lr=lr)\n"
      ],
      "execution_count": 0,
      "outputs": []
    },
    {
      "cell_type": "code",
      "metadata": {
        "id": "0J1B1OhMp6er",
        "colab_type": "code",
        "colab": {
          "base_uri": "https://localhost:8080/",
          "height": 1000
        },
        "outputId": "8245d1b6-556c-438f-d093-c044f6c3c8b8"
      },
      "source": [
        "\n",
        "# calculate the recall and precision of your attack network using the Target_out and Target_in datasets\n",
        "# to do so, take a random numer of datapoints, run them throw the target model,\n",
        "# and then input the output of the target model to your attack network \n",
        "# you already know the target_in and target_out samples, so use that info to evaluate the attack model\n",
        "train(target_model, target_train_loader, testloader, target_optim, target_loss, 2, classes=classes)\n"
      ],
      "execution_count": 60,
      "outputs": [
        {
          "output_type": "stream",
          "text": [
            "[0/2]\n",
            "Training:\n",
            "Accuracy of plane : 8.22 %\n",
            "Accuracy of car : 5.12 %\n",
            "Accuracy of bird : 5.71 %\n",
            "Accuracy of cat : 7.83 %\n",
            "Accuracy of deer : 0.39 %\n",
            "Accuracy of dog : 16.07 %\n",
            "Accuracy of frog : 15.93 %\n",
            "Accuracy of horse : 0.40 %\n",
            "Accuracy of ship : 13.05 %\n",
            "Accuracy of truck : 5.07 %\n",
            "\n",
            "Accuracy = 32.37 %\n",
            "\n",
            "\n",
            "Test:\n",
            "Accuracy of plane : 3.50 %\n",
            "Accuracy of car : 23.10 %\n",
            "Accuracy of bird : 5.10 %\n",
            "Accuracy of cat : 8.10 %\n",
            "Accuracy of deer : 13.10 %\n",
            "Accuracy of dog : 7.30 %\n",
            "Accuracy of frog : 18.70 %\n",
            "Accuracy of horse : 17.60 %\n",
            "Accuracy of ship : 6.10 %\n",
            "Accuracy of truck : 23.90 %\n",
            "\n",
            "Accuracy = 33.13 %\n",
            "\n",
            "\n",
            "[1/2]\n",
            "Training:\n",
            "Accuracy of plane : 6.84 %\n",
            "Accuracy of car : 7.32 %\n",
            "Accuracy of bird : 6.33 %\n",
            "Accuracy of cat : 5.11 %\n",
            "Accuracy of deer : 16.82 %\n",
            "Accuracy of dog : 4.34 %\n",
            "Accuracy of frog : 0.00 %\n",
            "Accuracy of horse : 16.67 %\n",
            "Accuracy of ship : 5.30 %\n",
            "Accuracy of truck : 16.64 %\n",
            "\n",
            "Accuracy = 39.27 %\n",
            "\n",
            "\n",
            "Test:\n",
            "Accuracy of plane : 4.50 %\n",
            "Accuracy of car : 18.70 %\n",
            "Accuracy of bird : 24.50 %\n",
            "Accuracy of cat : 3.60 %\n",
            "Accuracy of deer : 19.60 %\n",
            "Accuracy of dog : 9.80 %\n",
            "Accuracy of frog : 14.00 %\n",
            "Accuracy of horse : 21.90 %\n",
            "Accuracy of ship : 18.20 %\n",
            "Accuracy of truck : 15.00 %\n",
            "\n",
            "Accuracy = 40.58 %\n",
            "\n",
            "\n"
          ],
          "name": "stdout"
        },
        {
          "output_type": "execute_result",
          "data": {
            "text/plain": [
              "(39.272, 40.58)"
            ]
          },
          "metadata": {
            "tags": []
          },
          "execution_count": 60
        }
      ]
    },
    {
      "cell_type": "code",
      "metadata": {
        "id": "J9oMsEEYw1oq",
        "colab_type": "code",
        "colab": {}
      },
      "source": [
        "def eval_attack_net(attack_net, target, target_train, target_out, k):\n",
        "    \"\"\"Assess accuracy, precision, and recall of attack model for in training set/out of training set classification.\n",
        "    Edited for use with SVCs.\"\"\"\n",
        "    \n",
        "    in_predicts=[]\n",
        "    out_predicts=[]\n",
        "    losses = []\n",
        "    \n",
        "    if type(target) is not Pipeline:\n",
        "        target_net=target\n",
        "        target_net.eval()\n",
        "        \n",
        "    attack_net.eval()\n",
        "\n",
        "    \n",
        "    precisions = []\n",
        "    recalls = []\n",
        "    accuracies = []\n",
        "\n",
        "    #for threshold in np.arange(0.5, 1, 0.005):\n",
        "    thresholds = np.arange(0.5, 1, 0.005)\n",
        "\n",
        "    total = np.zeros(len(thresholds))\n",
        "    correct = np.zeros(len(thresholds))\n",
        "\n",
        "    true_positives = np.zeros(len(thresholds))\n",
        "    false_positives = np.zeros(len(thresholds))\n",
        "    false_negatives = np.zeros(len(thresholds))   \n",
        " \n",
        "    train_top = np.empty((0,2))\n",
        "    out_top = np.empty((0,2))\n",
        "    \n",
        "    for i, ((train_imgs, _), (out_imgs, _)) in enumerate(zip(target_train, target_out)):\n",
        "\n",
        "\n",
        "        mini_batch_size = train_imgs.shape[0]\n",
        "        train_imgs, out_imgs = train_imgs, out_imgs\n",
        "        \n",
        "        #[mini_batch_size x num_classes] tensors, (0,1) probabilities for each class for each sample)\n",
        "        if type(target) is Pipeline:\n",
        "            traininputs=train_imgs.view(train_imgs.shape[0], -1)\n",
        "            outinputs=out_imgs.view(out_imgs.shape[0], -1)\n",
        "            \n",
        "            train_posteriors=torch.from_numpy(target.predict_proba(traininputs)).float()\n",
        "            out_posteriors=torch.from_numpy(target.predict_proba(outinputs)).float()\n",
        "            \n",
        "        else:\n",
        "            train_posteriors = F.softmax(target_net(train_imgs.detach()), dim=1)\n",
        "            out_posteriors = F.softmax(target_net(out_imgs.detach()), dim=1)\n",
        "        \n",
        "\n",
        "        #[k x mini_batch_size] tensors, (0,1) probabilities for top k probable classes\n",
        "        train_sort, _ = torch.sort(train_posteriors, descending=True)\n",
        "        train_top_k = train_sort[:,:k].clone()\n",
        "\n",
        "        out_sort, _ = torch.sort(out_posteriors, descending=True)\n",
        "        out_top_k = out_sort[:,:k].clone()\n",
        "        \n",
        "        #Collects probabilities for predicted class.\n",
        "        for p in train_top_k:\n",
        "            in_predicts.append((p.max()).item())\n",
        "        for p in out_top_k:\n",
        "            out_predicts.append((p.max()).item())\n",
        "        \n",
        "        if type(target) is not Pipeline:\n",
        "            train_top = np.vstack((train_top,train_top_k[:,:2].cpu().detach().numpy()))\n",
        "            out_top = np.vstack((out_top, out_top_k[:,:2].cpu().detach().numpy()))\n",
        "\n",
        "        #print(\"train_top_k = \",train_top_k)\n",
        "        #print(\"out_top_k = \",out_top_k)\n",
        "        \n",
        "        #print(train_top.shape)\n",
        "        \n",
        "        train_lbl = torch.ones(mini_batch_size)\n",
        "        out_lbl = torch.zeros(mini_batch_size)\n",
        "        \n",
        "        #Takes in probabilities for top k most likely classes, outputs ~1 (in training set) or ~0 (out of training set)\n",
        "        train_predictions = F.sigmoid(torch.squeeze(attack_net(train_top_k)))\n",
        "        out_predictions = F.sigmoid(torch.squeeze(attack_net(out_top_k)))\n",
        "\n",
        "\n",
        "        for j, t in enumerate(thresholds):\n",
        "            true_positives[j] += (train_predictions >= t).sum().item()\n",
        "            false_positives[j] += (out_predictions >= t).sum().item()\n",
        "            false_negatives[j] += (train_predictions < t).sum().item()\n",
        "            #print(train_top >= threshold)\n",
        "\n",
        "\n",
        "            #print((train_top >= threshold).sum().item(),',',(out_top >= threshold).sum().item())\n",
        "\n",
        "            correct[j] += (train_predictions >= t).sum().item()\n",
        "            correct[j] += (out_predictions < t).sum().item()\n",
        "            total[j] += train_predictions.size(0) + out_predictions.size(0)\n",
        "\n",
        "    #print(true_positives,',',false_positives,',',false_negatives)\n",
        "\n",
        "    for j, t in enumerate(thresholds):\n",
        "        accuracy = 100 * correct[j] / total[j]\n",
        "        precision = true_positives[j] / (true_positives[j] + false_positives[j]) if true_positives[j] + false_positives[j] != 0 else 0\n",
        "        recall = true_positives[j] / (true_positives[j] + false_negatives[j]) if true_positives[j] + false_negatives[j] !=0 else 0\n",
        "        accuracies.append(accuracy)\n",
        "        precisions.append(precision)\n",
        "        recalls.append(recall)\n",
        "\n",
        "        print(\"threshold = %.4f, accuracy = %.2f, precision = %.2f, recall = %.2f\" % (t, accuracy, precision, recall))\n",
        "        \n",
        "\n",
        "        \n",
        "    plt.plot(recalls, precisions)\n",
        "    plt.xlabel(\"Recall\")\n",
        "    plt.ylabel(\"Precision\")\n",
        "    plt.show()"
      ],
      "execution_count": 0,
      "outputs": []
    },
    {
      "cell_type": "code",
      "metadata": {
        "id": "j22ovfhKwrCf",
        "colab_type": "code",
        "colab": {
          "base_uri": "https://localhost:8080/",
          "height": 1000
        },
        "outputId": "a369d80f-c9bd-46e5-c491-832c1556b182"
      },
      "source": [
        "eval_attack_net(attack_net, target_model, target_train_loader, target_out_loader, k)\n",
        "\n",
        "print(\"\\nPerformance on training set: \")\n",
        "train_accuracy = eval_target_net(target_model, target_train_loader, classes=None)\n",
        "\n",
        "print(\"\\nPerformance on test set: \")\n",
        "test_accuracy = eval_target_net(target_model, testloader, classes=None)"
      ],
      "execution_count": 66,
      "outputs": [
        {
          "output_type": "stream",
          "text": [
            "/usr/local/lib/python3.6/dist-packages/torch/nn/functional.py:1386: UserWarning: nn.functional.sigmoid is deprecated. Use torch.sigmoid instead.\n",
            "  warnings.warn(\"nn.functional.sigmoid is deprecated. Use torch.sigmoid instead.\")\n"
          ],
          "name": "stderr"
        },
        {
          "output_type": "stream",
          "text": [
            "threshold = 0.5000, accuracy = 49.99, precision = 0.50, recall = 0.21\n",
            "threshold = 0.5050, accuracy = 50.12, precision = 0.52, recall = 0.04\n",
            "threshold = 0.5100, accuracy = 50.00, precision = 0.00, recall = 0.00\n",
            "threshold = 0.5150, accuracy = 50.00, precision = 0.00, recall = 0.00\n",
            "threshold = 0.5200, accuracy = 50.00, precision = 0.00, recall = 0.00\n",
            "threshold = 0.5250, accuracy = 50.00, precision = 0.00, recall = 0.00\n",
            "threshold = 0.5300, accuracy = 50.00, precision = 0.00, recall = 0.00\n",
            "threshold = 0.5350, accuracy = 50.00, precision = 0.00, recall = 0.00\n",
            "threshold = 0.5400, accuracy = 50.00, precision = 0.00, recall = 0.00\n",
            "threshold = 0.5450, accuracy = 50.00, precision = 0.00, recall = 0.00\n",
            "threshold = 0.5500, accuracy = 50.00, precision = 0.00, recall = 0.00\n",
            "threshold = 0.5550, accuracy = 50.00, precision = 0.00, recall = 0.00\n",
            "threshold = 0.5600, accuracy = 50.00, precision = 0.00, recall = 0.00\n",
            "threshold = 0.5650, accuracy = 50.00, precision = 0.00, recall = 0.00\n",
            "threshold = 0.5700, accuracy = 50.00, precision = 0.00, recall = 0.00\n",
            "threshold = 0.5750, accuracy = 50.00, precision = 0.00, recall = 0.00\n",
            "threshold = 0.5800, accuracy = 50.00, precision = 0.00, recall = 0.00\n",
            "threshold = 0.5850, accuracy = 50.00, precision = 0.00, recall = 0.00\n",
            "threshold = 0.5900, accuracy = 50.00, precision = 0.00, recall = 0.00\n",
            "threshold = 0.5950, accuracy = 50.00, precision = 0.00, recall = 0.00\n",
            "threshold = 0.6000, accuracy = 50.00, precision = 0.00, recall = 0.00\n",
            "threshold = 0.6050, accuracy = 50.00, precision = 0.00, recall = 0.00\n",
            "threshold = 0.6100, accuracy = 50.00, precision = 0.00, recall = 0.00\n",
            "threshold = 0.6150, accuracy = 50.00, precision = 0.00, recall = 0.00\n",
            "threshold = 0.6200, accuracy = 50.00, precision = 0.00, recall = 0.00\n",
            "threshold = 0.6250, accuracy = 50.00, precision = 0.00, recall = 0.00\n",
            "threshold = 0.6300, accuracy = 50.00, precision = 0.00, recall = 0.00\n",
            "threshold = 0.6350, accuracy = 50.00, precision = 0.00, recall = 0.00\n",
            "threshold = 0.6400, accuracy = 50.00, precision = 0.00, recall = 0.00\n",
            "threshold = 0.6450, accuracy = 50.00, precision = 0.00, recall = 0.00\n",
            "threshold = 0.6500, accuracy = 50.00, precision = 0.00, recall = 0.00\n",
            "threshold = 0.6550, accuracy = 50.00, precision = 0.00, recall = 0.00\n",
            "threshold = 0.6600, accuracy = 50.00, precision = 0.00, recall = 0.00\n",
            "threshold = 0.6650, accuracy = 50.00, precision = 0.00, recall = 0.00\n",
            "threshold = 0.6700, accuracy = 50.00, precision = 0.00, recall = 0.00\n",
            "threshold = 0.6750, accuracy = 50.00, precision = 0.00, recall = 0.00\n",
            "threshold = 0.6800, accuracy = 50.00, precision = 0.00, recall = 0.00\n",
            "threshold = 0.6850, accuracy = 50.00, precision = 0.00, recall = 0.00\n",
            "threshold = 0.6900, accuracy = 50.00, precision = 0.00, recall = 0.00\n",
            "threshold = 0.6950, accuracy = 50.00, precision = 0.00, recall = 0.00\n",
            "threshold = 0.7000, accuracy = 50.00, precision = 0.00, recall = 0.00\n",
            "threshold = 0.7050, accuracy = 50.00, precision = 0.00, recall = 0.00\n",
            "threshold = 0.7100, accuracy = 50.00, precision = 0.00, recall = 0.00\n",
            "threshold = 0.7150, accuracy = 50.00, precision = 0.00, recall = 0.00\n",
            "threshold = 0.7200, accuracy = 50.00, precision = 0.00, recall = 0.00\n",
            "threshold = 0.7250, accuracy = 50.00, precision = 0.00, recall = 0.00\n",
            "threshold = 0.7300, accuracy = 50.00, precision = 0.00, recall = 0.00\n",
            "threshold = 0.7350, accuracy = 50.00, precision = 0.00, recall = 0.00\n",
            "threshold = 0.7400, accuracy = 50.00, precision = 0.00, recall = 0.00\n",
            "threshold = 0.7450, accuracy = 50.00, precision = 0.00, recall = 0.00\n",
            "threshold = 0.7500, accuracy = 50.00, precision = 0.00, recall = 0.00\n",
            "threshold = 0.7550, accuracy = 50.00, precision = 0.00, recall = 0.00\n",
            "threshold = 0.7600, accuracy = 50.00, precision = 0.00, recall = 0.00\n",
            "threshold = 0.7650, accuracy = 50.00, precision = 0.00, recall = 0.00\n",
            "threshold = 0.7700, accuracy = 50.00, precision = 0.00, recall = 0.00\n",
            "threshold = 0.7750, accuracy = 50.00, precision = 0.00, recall = 0.00\n",
            "threshold = 0.7800, accuracy = 50.00, precision = 0.00, recall = 0.00\n",
            "threshold = 0.7850, accuracy = 50.00, precision = 0.00, recall = 0.00\n",
            "threshold = 0.7900, accuracy = 50.00, precision = 0.00, recall = 0.00\n",
            "threshold = 0.7950, accuracy = 50.00, precision = 0.00, recall = 0.00\n",
            "threshold = 0.8000, accuracy = 50.00, precision = 0.00, recall = 0.00\n",
            "threshold = 0.8050, accuracy = 50.00, precision = 0.00, recall = 0.00\n",
            "threshold = 0.8100, accuracy = 50.00, precision = 0.00, recall = 0.00\n",
            "threshold = 0.8150, accuracy = 50.00, precision = 0.00, recall = 0.00\n",
            "threshold = 0.8200, accuracy = 50.00, precision = 0.00, recall = 0.00\n",
            "threshold = 0.8250, accuracy = 50.00, precision = 0.00, recall = 0.00\n",
            "threshold = 0.8300, accuracy = 50.00, precision = 0.00, recall = 0.00\n",
            "threshold = 0.8350, accuracy = 50.00, precision = 0.00, recall = 0.00\n",
            "threshold = 0.8400, accuracy = 50.00, precision = 0.00, recall = 0.00\n",
            "threshold = 0.8450, accuracy = 50.00, precision = 0.00, recall = 0.00\n",
            "threshold = 0.8500, accuracy = 50.00, precision = 0.00, recall = 0.00\n",
            "threshold = 0.8550, accuracy = 50.00, precision = 0.00, recall = 0.00\n",
            "threshold = 0.8600, accuracy = 50.00, precision = 0.00, recall = 0.00\n",
            "threshold = 0.8650, accuracy = 50.00, precision = 0.00, recall = 0.00\n",
            "threshold = 0.8700, accuracy = 50.00, precision = 0.00, recall = 0.00\n",
            "threshold = 0.8750, accuracy = 50.00, precision = 0.00, recall = 0.00\n",
            "threshold = 0.8800, accuracy = 50.00, precision = 0.00, recall = 0.00\n",
            "threshold = 0.8850, accuracy = 50.00, precision = 0.00, recall = 0.00\n",
            "threshold = 0.8900, accuracy = 50.00, precision = 0.00, recall = 0.00\n",
            "threshold = 0.8950, accuracy = 50.00, precision = 0.00, recall = 0.00\n",
            "threshold = 0.9000, accuracy = 50.00, precision = 0.00, recall = 0.00\n",
            "threshold = 0.9050, accuracy = 50.00, precision = 0.00, recall = 0.00\n",
            "threshold = 0.9100, accuracy = 50.00, precision = 0.00, recall = 0.00\n",
            "threshold = 0.9150, accuracy = 50.00, precision = 0.00, recall = 0.00\n",
            "threshold = 0.9200, accuracy = 50.00, precision = 0.00, recall = 0.00\n",
            "threshold = 0.9250, accuracy = 50.00, precision = 0.00, recall = 0.00\n",
            "threshold = 0.9300, accuracy = 50.00, precision = 0.00, recall = 0.00\n",
            "threshold = 0.9350, accuracy = 50.00, precision = 0.00, recall = 0.00\n",
            "threshold = 0.9400, accuracy = 50.00, precision = 0.00, recall = 0.00\n",
            "threshold = 0.9450, accuracy = 50.00, precision = 0.00, recall = 0.00\n",
            "threshold = 0.9500, accuracy = 50.00, precision = 0.00, recall = 0.00\n",
            "threshold = 0.9550, accuracy = 50.00, precision = 0.00, recall = 0.00\n",
            "threshold = 0.9600, accuracy = 50.00, precision = 0.00, recall = 0.00\n",
            "threshold = 0.9650, accuracy = 50.00, precision = 0.00, recall = 0.00\n",
            "threshold = 0.9700, accuracy = 50.00, precision = 0.00, recall = 0.00\n",
            "threshold = 0.9750, accuracy = 50.00, precision = 0.00, recall = 0.00\n",
            "threshold = 0.9800, accuracy = 50.00, precision = 0.00, recall = 0.00\n",
            "threshold = 0.9850, accuracy = 50.00, precision = 0.00, recall = 0.00\n",
            "threshold = 0.9900, accuracy = 50.00, precision = 0.00, recall = 0.00\n",
            "threshold = 0.9950, accuracy = 50.00, precision = 0.00, recall = 0.00\n"
          ],
          "name": "stdout"
        },
        {
          "output_type": "display_data",
          "data": {
            "image/png": "[encoded data removed]",
            "text/plain": [
              "<Figure size 432x288 with 1 Axes>"
            ]
          },
          "metadata": {
            "tags": []
          }
        },
        {
          "output_type": "stream",
          "text": [
            "\n",
            "Performance on training set: \n",
            "\n",
            "Accuracy = 38.58 %\n",
            "\n",
            "\n",
            "\n",
            "Performance on test set: \n",
            "\n",
            "Accuracy = 40.58 %\n",
            "\n",
            "\n"
          ],
          "name": "stdout"
        }
      ]
    },
    {
      "cell_type": "markdown",
      "metadata": {
        "id": "XMsyCgziqeaa",
        "colab_type": "text"
      },
      "source": [
        "Great! At this point, you must have created a succesfful attack model that can detect whether a datapoint was used in training a target mode or not. \n",
        "* A successful attack model is one with a precision/recall higher than 85% -- you are using same architecture and are aware of the data classes\n",
        "\n",
        " \n",
        " Can you suggest any defense mechanism? If yes, Apply them to your solution and re-evaluate your attack model. How did your defense mecanism affect the accuracy of the target model? How did it affect the recall and precision of the Attack model?"
      ]
    }
  ]
}