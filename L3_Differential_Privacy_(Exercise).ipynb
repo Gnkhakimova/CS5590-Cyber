{
  "nbformat": 4,
  "nbformat_minor": 0,
  "metadata": {
    "colab": {
      "name": "L3_Differential_Privacy_(Exercise).ipynb",
      "version": "0.3.2",
      "provenance": [],
      "collapsed_sections": [
        "K9h85ktU5BK1",
        "MV12MsPI5BK1",
        "x8r7HiI25BK2",
        "JFrUdcRH5BLB",
        "Q8CwLoPU5BLM"
      ],
      "include_colab_link": true
    },
    "language_info": {
      "codemirror_mode": {
        "name": "ipython",
        "version": 3
      },
      "file_extension": ".py",
      "mimetype": "text/x-python",
      "name": "python",
      "nbconvert_exporter": "python",
      "pygments_lexer": "ipython3",
      "version": "3.6.1"
    },
    "kernelspec": {
      "name": "python3",
      "display_name": "Python 3"
    },
    "accelerator": "GPU"
  },
  "cells": [
    {
      "cell_type": "markdown",
      "metadata": {
        "id": "view-in-github",
        "colab_type": "text"
      },
      "source": [
        "<a href=\"https://colab.research.google.com/github/Gnkhakimova/CS5590-Cyber/blob/master/L3_Differential_Privacy_(Exercise).ipynb\" target=\"_parent\"><img src=\"https://colab.research.google.com/assets/colab-badge.svg\" alt=\"Open In Colab\"/></a>"
      ]
    },
    {
      "cell_type": "markdown",
      "metadata": {
        "id": "ZU0JgNTD5BJK",
        "colab_type": "text"
      },
      "source": [
        "## Toy Differential Privacy - Simple Database Queries"
      ]
    },
    {
      "cell_type": "markdown",
      "metadata": {
        "id": "wbKYWRrD5BJK",
        "colab_type": "text"
      },
      "source": [
        "In the context of Deep Learning, Differential Privacy ensures that the DL algorithms learns only what is is supposed to learn from the data while ignoring what it is not supposed to learn from the data. This is called Differential Privacy (DP). But what is DP?\n",
        "\n",
        "\n",
        "\n",
        "\n",
        "\n",
        "**Differential Privacy (DP):** \n",
        "The main goal is to ensure that statistical analysis techniques does not compromise the privacy of any particular individual in the dataset. \n",
        "\n",
        "*  Classical privacy defination: privacy is preserved if after the analysis is done, the analyzer does not know anything about the people in the dataset. (No information leak from the data.)\n",
        "\n",
        "- The Netflix Prize (anonymized simply! Attacked using the Linkage Attack)\n",
        "- Anonymization is not enough to protect our privacy\n",
        "\n",
        "A modern definition by Cynthia Dwork:\n",
        "DP describes a promise made by the data holder to a data subject that:  \"you will not be affected by allowing your data to be used in any study or analysis , no matter what other studies, datasets, or information sources are available\".\n",
        "\n",
        "\n",
        "**DP** is a mathematical definition of privacy. In the simplest setting, consider an algorithm that analyzes a dataset and computes statistics about it (such as the data's mean, variance, median, mode, etc.). Such an algorithm is said to be differentially private if by looking at the output, one cannot tell whether any individual's data was included in the original dataset or not. \n"
      ]
    },
    {
      "cell_type": "markdown",
      "metadata": {
        "id": "tlqpsupNwzdd",
        "colab_type": "text"
      },
      "source": [
        "\n",
        "\n",
        "---\n",
        "\n",
        "\n",
        "In this section we're going to play around with Differential Privacy in the context of a database query. The database is going to be a VERY simple database with only one boolean vector. Each row corresponds to a person. Each value corresponds to whether or not that person has a certain private attribute (such as whether they have a certain disease, or whether they are above/below a certain age). \n",
        "\n",
        "We are then going to learn how to know whether a database query over such a small database is differentially private or not - and more importantly - what techniques are at our disposal to ensure various levels of privacy\n",
        "\n",
        "\n",
        "### First We Create a Simple Database\n",
        "\n",
        "Step one is to create our database - we're going to do this by initializing a random list of 1s and 0s (which are the entries in our database). Note - the number of entries directly corresponds to the number of people in our database."
      ]
    },
    {
      "cell_type": "code",
      "metadata": {
        "id": "jzGB2H925BJL",
        "colab_type": "code",
        "outputId": "a2e4dedd-66d3-434e-92b2-cfd15d7468bf",
        "colab": {
          "base_uri": "https://localhost:8080/",
          "height": 34
        }
      },
      "source": [
        "import torch\n",
        "\n",
        "# the number of entries in our database\n",
        "num_entries = 5000\n",
        "\n",
        "db = torch.rand(num_entries) > 0.5 # returns a new Boolean tensor with each value > 0.5 set to 1 otherwise set to 0\n",
        "db"
      ],
      "execution_count": 2,
      "outputs": [
        {
          "output_type": "execute_result",
          "data": {
            "text/plain": [
              "tensor([1, 1, 0,  ..., 0, 1, 0], dtype=torch.uint8)"
            ]
          },
          "metadata": {
            "tags": []
          },
          "execution_count": 2
        }
      ]
    },
    {
      "cell_type": "markdown",
      "metadata": {
        "id": "08nxGBFT5BJQ",
        "colab_type": "text"
      },
      "source": [
        "## Project: Generate Parallel Databases\n",
        "\n",
        "Key to the definition of differenital privacy is the ability to ask the question \"When querying a database, if I removed someone from the database, would the output of the query be any different?\". Thus, in order to check this, we must construct what we term \"parallel databases\" which are simply databases with one entry removed. \n",
        "\n",
        "In this first project, I want you to create a list of every parallel database to the one currently contained in the \"db\" variable. Then, I want you to create a function which both:\n",
        "\n",
        "- creates the initial database (db)\n",
        "- creates all parallel databases"
      ]
    },
    {
      "cell_type": "code",
      "metadata": {
        "id": "WpWkwFBh5BJQ",
        "colab_type": "code",
        "colab": {}
      },
      "source": [
        "import torch"
      ],
      "execution_count": 0,
      "outputs": []
    },
    {
      "cell_type": "code",
      "metadata": {
        "id": "NNvnoh1B5BJS",
        "colab_type": "code",
        "outputId": "08d18e62-795f-4a8e-a614-88b6a5a9021a",
        "colab": {
          "base_uri": "https://localhost:8080/",
          "height": 34
        }
      },
      "source": [
        "def create_db(entries):\n",
        "  return torch.rand(entries) > 0.5\n",
        "db = create_db(5000)\n",
        "db"
      ],
      "execution_count": 4,
      "outputs": [
        {
          "output_type": "execute_result",
          "data": {
            "text/plain": [
              "tensor([0, 1, 1,  ..., 1, 0, 0], dtype=torch.uint8)"
            ]
          },
          "metadata": {
            "tags": []
          },
          "execution_count": 4
        }
      ]
    },
    {
      "cell_type": "code",
      "metadata": {
        "id": "QmtQw-R15BJU",
        "colab_type": "code",
        "colab": {}
      },
      "source": [
        "# create a function to create paraller db\n",
        "def get_parallel_dbs(db):\n",
        "\n",
        "    parallel_dbs = list()\n",
        "\n",
        "    for i in range(len(db)):\n",
        "        pdb = torch.cat((db[0:i], db[i+1:]))\n",
        "        parallel_dbs.append(pdb)\n",
        "    #print(f'A databse of size {db.shape} was created')\n",
        "    return parallel_dbs\n",
        "\n",
        "pdb = get_parallel_dbs(db)\n"
      ],
      "execution_count": 0,
      "outputs": []
    },
    {
      "cell_type": "code",
      "metadata": {
        "id": "zGnmz4Os5BJV",
        "colab_type": "code",
        "colab": {}
      },
      "source": [
        "# a helper function for the future\n",
        "def get_db_and_parallel(num_entries):\n",
        "  db = torch.rand(num_entries) > 0.5\n",
        "  pdb = get_parallel_dbs(db)\n",
        "  return db, pdb"
      ],
      "execution_count": 0,
      "outputs": []
    },
    {
      "cell_type": "code",
      "metadata": {
        "id": "QjboW-h95BJX",
        "colab_type": "code",
        "colab": {}
      },
      "source": [
        ""
      ],
      "execution_count": 0,
      "outputs": []
    },
    {
      "cell_type": "markdown",
      "metadata": {
        "id": "FDztwe045BJZ",
        "colab_type": "text"
      },
      "source": [
        "# Lesson: Towards Evaluating The Differential Privacy of a Function\n",
        "\n",
        "Intuitively, we want to be able to query our database and evaluate whether or not the result of the query is leaking \"private\" information. As mentioned previously, this is about evaluating whether the output of a query changes when we remove someone from the database. Specifically, we want to evaluate the *maximum* amount the query changes when someone is removed (maximum over all possible people who could be removed). So, in order to evaluate how much privacy is leaked, we're going to iterate over each person in the database and measure the difference in the output of the query relative to when we query the entire database. \n",
        "\n",
        "Just for the sake of argument, let's make our first \"database query\" a simple sum. Aka, we're going to count the number of 1s in the database."
      ]
    },
    {
      "cell_type": "code",
      "metadata": {
        "id": "_ChVS5xE5BJZ",
        "colab_type": "code",
        "colab": {}
      },
      "source": [
        "dbs, pdbs = get_db_and_parallel(5000)"
      ],
      "execution_count": 0,
      "outputs": []
    },
    {
      "cell_type": "code",
      "metadata": {
        "id": "08H6IgeS5BJb",
        "colab_type": "code",
        "colab": {}
      },
      "source": [
        "def query(data):\n",
        "    return data.sum() "
      ],
      "execution_count": 0,
      "outputs": []
    },
    {
      "cell_type": "code",
      "metadata": {
        "id": "hvmsUntP5BJe",
        "colab_type": "code",
        "colab": {}
      },
      "source": [
        "sum_db = query(dbs);"
      ],
      "execution_count": 0,
      "outputs": []
    },
    {
      "cell_type": "code",
      "metadata": {
        "id": "j3jrqjMI5BJh",
        "colab_type": "code",
        "colab": {}
      },
      "source": [
        "sensitivity = 0  # maximum difference between query(db) and each query(pdb)\n",
        "  # return the value of sensitivity\n",
        "  # loop on each pdb in the pdbs and calculate its distance\n",
        "  # find the maximum distance <-- that's your sensitivity\n",
        "for pdb in pdbs:\n",
        "    sum_pdb = query(pdb)\n",
        "    sensitivity_temp = torch.abs(sum_db - sum_pdb)\n",
        "    if(sensitivity < sensitivity_temp):\n",
        "       sensitivity = sensitivity_temp"
      ],
      "execution_count": 0,
      "outputs": []
    },
    {
      "cell_type": "code",
      "metadata": {
        "id": "KvRJWrqK5BJj",
        "colab_type": "code",
        "outputId": "3f0e4fe2-2e7c-4701-e09e-6b34ac9a8060",
        "colab": {
          "base_uri": "https://localhost:8080/",
          "height": 34
        }
      },
      "source": [
        "sensitivity"
      ],
      "execution_count": 11,
      "outputs": [
        {
          "output_type": "execute_result",
          "data": {
            "text/plain": [
              "tensor(1)"
            ]
          },
          "metadata": {
            "tags": []
          },
          "execution_count": 11
        }
      ]
    },
    {
      "cell_type": "markdown",
      "metadata": {
        "id": "30nCWZaG5BJl",
        "colab_type": "text"
      },
      "source": [
        "# Exercise - Evaluating the Privacy of a Function\n",
        "\n",
        "In the last section, we measured the difference between each parallel db's query result and the query result for the entire database and then calculated the max value (which was 1). This value is called \"sensitivity\", and it corresponds to the function we chose for the query. Namely, the \"sum\" query will always have a sensitivity of exactly 1. However, we can also calculate sensitivity for other functions as well.\n",
        "\n",
        "First, create a function that will accept (1) a query function and (2) a num_items to generate the db and the pdb: \n",
        "\n",
        "**Hint:** def sensitivity(query, num_items)"
      ]
    },
    {
      "cell_type": "code",
      "metadata": {
        "id": "1horUInX5BJm",
        "colab_type": "code",
        "colab": {}
      },
      "source": [
        "# define a function to calculate the sensitivity of a query\n",
        "def sensitivity(query, num_items):\n",
        "  \n",
        "  # generate the db and the pdbs\n",
        "  dbs, pdbs = get_db_and_parallel(num_items)\n",
        "  \n",
        "  # query the db\n",
        "  sum_db = query(dbs);\n",
        "  \n",
        "  # return the value of sensitivity\n",
        "  # loop on each pdb in the pdbs and calculate its distance\n",
        "  # find the maximum distance <-- that's your sensitivity\n",
        "  sensitivity = 0\n",
        "  for pdb in pdbs:\n",
        "    sum_pdb = query(pdb)\n",
        "    sensitivity_temp = torch.abs(sum_db - sum_pdb)\n",
        "    if(sensitivity < sensitivity_temp):\n",
        "       sensitivity = sensitivity_temp\n",
        "\n",
        "\n",
        "    \n",
        "    return sensitivity  \n",
        "  "
      ],
      "execution_count": 0,
      "outputs": []
    },
    {
      "cell_type": "code",
      "metadata": {
        "id": "oDIqo7Jj5BJn",
        "colab_type": "code",
        "colab": {}
      },
      "source": [
        "\n",
        "# recreate the sum query we created earlier\n",
        "def query_sum(data):\n",
        "    return data.sum() "
      ],
      "execution_count": 0,
      "outputs": []
    },
    {
      "cell_type": "code",
      "metadata": {
        "id": "RrIqncaK5BJo",
        "colab_type": "code",
        "colab": {}
      },
      "source": [
        "# test your sensitivity function with the sum query\n",
        "result = sensitivity(query_sum,1000)"
      ],
      "execution_count": 0,
      "outputs": []
    },
    {
      "cell_type": "code",
      "metadata": {
        "id": "i5lrbgD7QK7O",
        "colab_type": "code",
        "outputId": "38082af1-3667-4b52-c73a-fdd17a722f9f",
        "colab": {
          "base_uri": "https://localhost:8080/",
          "height": 34
        }
      },
      "source": [
        "result"
      ],
      "execution_count": 15,
      "outputs": [
        {
          "output_type": "execute_result",
          "data": {
            "text/plain": [
              "0"
            ]
          },
          "metadata": {
            "tags": []
          },
          "execution_count": 15
        }
      ]
    },
    {
      "cell_type": "code",
      "metadata": {
        "id": "Q1x-ei2s5BJq",
        "colab_type": "code",
        "colab": {}
      },
      "source": [
        "# create a new query function, which finds the mean rather than the sum\n",
        "def query_mean(data):\n",
        "    return data.float().mean()"
      ],
      "execution_count": 0,
      "outputs": []
    },
    {
      "cell_type": "code",
      "metadata": {
        "id": "Lu9z_WHA5BJr",
        "colab_type": "code",
        "outputId": "08b60712-867f-4495-b8c7-1364ec20f158",
        "colab": {
          "base_uri": "https://localhost:8080/",
          "height": 34
        }
      },
      "source": [
        "# test your sensitivity function of the Mean query\n",
        "# how much the output value (query) is using informaiton frmo each of the participating observations\n",
        "sensitivity(query_mean, 1000)"
      ],
      "execution_count": 17,
      "outputs": [
        {
          "output_type": "execute_result",
          "data": {
            "text/plain": [
              "tensor(0.0005)"
            ]
          },
          "metadata": {
            "tags": []
          },
          "execution_count": 17
        }
      ]
    },
    {
      "cell_type": "code",
      "metadata": {
        "id": "ep7ZWONu5BJw",
        "colab_type": "code",
        "colab": {}
      },
      "source": [
        ""
      ],
      "execution_count": 0,
      "outputs": []
    },
    {
      "cell_type": "markdown",
      "metadata": {
        "id": "BFQfOp2Z5BJy",
        "colab_type": "text"
      },
      "source": [
        "Wow! That sensitivity is WAY lower. Note the intuition here. \"Sensitivity\" is measuring how sensitive the output of the query is to a person being removed from the database. For a simple sum, this is always 1, but for the mean, removing a person is going to change the result of the query by rougly 1 divided by the size of the database (which is much smaller). Thus, \"mean\" is a VASTLY less \"sensitive\" function (query) than SUM."
      ]
    },
    {
      "cell_type": "markdown",
      "metadata": {
        "id": "VE1uK8YW5BJz",
        "colab_type": "text"
      },
      "source": [
        "# Exercise: Calculate L1 Sensitivity For Threshold\n",
        "\n",
        "In this exercise, you need to calculate the sensitivty for the \"threshold\" function. \n",
        "\n",
        "- First compute the sum over the database (i.e. sum(db)) and return whether that sum is greater than a certain threshold.\n",
        "\n",
        "- Then, create databases of size 10 and threshold of 5 and calculate the sensitivity of the function. \n",
        "\n",
        "- Finally, re-initialize the database 10 times and calculate the sensitivity each time."
      ]
    },
    {
      "cell_type": "code",
      "metadata": {
        "id": "WWjqHplZ5BJz",
        "colab_type": "code",
        "colab": {}
      },
      "source": [
        "# define a fucntion to query the sum and return wethere the sum is greater or less than a threshold\n",
        "def query_sum_threshold(db,threshold=5):  \n",
        "  return db.sum()>threshold"
      ],
      "execution_count": 0,
      "outputs": []
    },
    {
      "cell_type": "code",
      "metadata": {
        "id": "twbkT1cO5BJ1",
        "colab_type": "code",
        "outputId": "4a667b7e-3276-4b9f-f559-7f0120f3b7ac",
        "colab": {
          "base_uri": "https://localhost:8080/",
          "height": 34
        }
      },
      "source": [
        "# the sensitivity with db of size 10 and threshold of 5\n",
        "# db = create_db(10)\n",
        "sensitivity(query_sum_threshold,10)"
      ],
      "execution_count": 19,
      "outputs": [
        {
          "output_type": "execute_result",
          "data": {
            "text/plain": [
              "0"
            ]
          },
          "metadata": {
            "tags": []
          },
          "execution_count": 19
        }
      ]
    },
    {
      "cell_type": "code",
      "metadata": {
        "id": "rQdXh4pX5BJ3",
        "colab_type": "code",
        "outputId": "f0310205-acc0-489b-8c53-b8b36768a2b6",
        "colab": {
          "base_uri": "https://localhost:8080/",
          "height": 187
        }
      },
      "source": [
        "# repeat for 10 times\n",
        "for x in range(10):\n",
        "  result = sensitivity(query_sum_threshold,10)\n",
        "  print(result)"
      ],
      "execution_count": 20,
      "outputs": [
        {
          "output_type": "stream",
          "text": [
            "0\n",
            "0\n",
            "0\n",
            "0\n",
            "0\n",
            "0\n",
            "tensor(1, dtype=torch.uint8)\n",
            "tensor(1, dtype=torch.uint8)\n",
            "0\n",
            "0\n"
          ],
          "name": "stdout"
        }
      ]
    },
    {
      "cell_type": "code",
      "metadata": {
        "id": "939aUgmb5BJ5",
        "colab_type": "code",
        "colab": {}
      },
      "source": [
        ""
      ],
      "execution_count": 0,
      "outputs": []
    },
    {
      "cell_type": "markdown",
      "metadata": {
        "id": "uSpX8dIj5BKB",
        "colab_type": "text"
      },
      "source": [
        "# A Basic Differencing Attack\n",
        "\n",
        "Sadly none of the functions we've looked at so far are differentially private (despite them having varying levels of sensitivity). The most basic type of attack can be done as follows.\n",
        "\n",
        "Let's say we wanted to figure out a specific person's value in the database. All we would have to do is query for the sum of the entire database and then the sum of the entire database without that person!\n",
        "\n",
        "# Exercise:  Perform a Differencing Attack on Row 10\n",
        "\n",
        "In this project, construct a database and then demonstrate how you can use  different queries (sum, threshold, and mean) to explose the value of the person represented by row 10 in the database (note, you'll need to use a database with at least 10 rows)"
      ]
    },
    {
      "cell_type": "code",
      "metadata": {
        "id": "V3fQ-5Yr5BKC",
        "colab_type": "code",
        "colab": {}
      },
      "source": [
        "# Perform a differencing attack using the sum query on row 10\n",
        "dbs, pdbs = get_db_and_parallel(10)\n",
        "result_sum = query_sum(dbs) - query_sum(pdbs[-1])"
      ],
      "execution_count": 0,
      "outputs": []
    },
    {
      "cell_type": "code",
      "metadata": {
        "id": "j9iG9DHRaRfH",
        "colab_type": "code",
        "outputId": "2f9943e5-c065-47a9-c264-a78e97ee0348",
        "colab": {
          "base_uri": "https://localhost:8080/",
          "height": 34
        }
      },
      "source": [
        "result_sum"
      ],
      "execution_count": 22,
      "outputs": [
        {
          "output_type": "execute_result",
          "data": {
            "text/plain": [
              "tensor(0)"
            ]
          },
          "metadata": {
            "tags": []
          },
          "execution_count": 22
        }
      ]
    },
    {
      "cell_type": "code",
      "metadata": {
        "id": "3BpMubXO5BKD",
        "colab_type": "code",
        "outputId": "0e928ed0-41d6-428f-ff26-16cb214695c0",
        "colab": {
          "base_uri": "https://localhost:8080/",
          "height": 34
        }
      },
      "source": [
        "# Perform a differencing attack using the mean query on row 10\n",
        "result_mean = query_mean(dbs) - query_mean(pdbs[-1])\n",
        "result_mean\n"
      ],
      "execution_count": 23,
      "outputs": [
        {
          "output_type": "execute_result",
          "data": {
            "text/plain": [
              "tensor(-0.0444)"
            ]
          },
          "metadata": {
            "tags": []
          },
          "execution_count": 23
        }
      ]
    },
    {
      "cell_type": "code",
      "metadata": {
        "id": "302S0ZEr5BKF",
        "colab_type": "code",
        "outputId": "ef4ee31d-4b8c-419f-fa1a-0839e299343d",
        "colab": {
          "base_uri": "https://localhost:8080/",
          "height": 34
        }
      },
      "source": [
        "# Perform a differencing attack using the threshold query on row 10\n",
        "result_threshold = query_sum_threshold(dbs) - query_sum_threshold(pdbs[-1])\n",
        "result_threshold\n"
      ],
      "execution_count": 24,
      "outputs": [
        {
          "output_type": "execute_result",
          "data": {
            "text/plain": [
              "tensor(0, dtype=torch.uint8)"
            ]
          },
          "metadata": {
            "tags": []
          },
          "execution_count": 24
        }
      ]
    },
    {
      "cell_type": "markdown",
      "metadata": {
        "id": "768QSDSa5BKP",
        "colab_type": "text"
      },
      "source": [
        "# Project: Local Differential Privacy\n",
        "\n",
        "As you can see, the basic sum query is not differentially private at all! In truth, differential privacy always requires a form of randomness added to the query. Let me show you what I mean.\n",
        "\n",
        "### Randomized Response (Local Differential Privacy)\n",
        "\n",
        "Let's say I have a group of people I wish to survey about a very taboo behavior which I think they will lie about (say, I want to know if they have ever committed a certain kind of crime). I'm not a policeman, I'm just trying to collect statistics to understand the higher level trend in society. So, how do we do this? One technique is to add randomness to each person's response by giving each person the following instructions (assuming I'm asking a simple yes/no question):\n",
        "\n",
        "- Flip a coin 2 times.\n",
        "- If the first coin flip is heads, answer honestly\n",
        "- If the first coin flip is tails, answer according to the second coin flip (heads for yes, tails for no)!\n",
        "\n",
        "Thus, each person is now protected with \"plausible deniability\". If they answer \"Yes\" to the question \"have you committed X crime?\", then it might becasue they actually did, or it might be becasue they are answering according to a random coin flip. Each person has a high degree of protection. Furthermore, we can recover the underlying statistics with some accuracy, as the \"true statistics\" are simply averaged with a 50% probability. Thus, if we collect a bunch of samples and it turns out that 60% of people answer yes, then we know that the TRUE distribution is actually centered around 70%, because 70% averaged wtih 50% (a coin flip) is 60% which is the result we obtained. \n",
        "\n",
        "However, it should be noted that, especially when we only have a few samples, the this comes at the cost of accuracy. This tradeoff exists across all of Differential Privacy. The greater the privacy protection (plausible deniability) the less accurate the results. \n",
        "\n",
        "Let's implement this local DP for our database before!"
      ]
    },
    {
      "cell_type": "code",
      "metadata": {
        "id": "jfZkjLYc5BKQ",
        "colab_type": "code",
        "colab": {}
      },
      "source": [
        "# try this project here!"
      ],
      "execution_count": 0,
      "outputs": []
    },
    {
      "cell_type": "code",
      "metadata": {
        "id": "8Nlas8J25BKS",
        "colab_type": "code",
        "colab": {}
      },
      "source": [
        "def flip_coin():      \n",
        "    coin = torch.rand(1) > 0.5              \n",
        "    return coin"
      ],
      "execution_count": 0,
      "outputs": []
    },
    {
      "cell_type": "code",
      "metadata": {
        "id": "mXLJFLe3KKue",
        "colab_type": "code",
        "colab": {}
      },
      "source": [
        "def create_original_db(size):\n",
        "  db_answers = create_db(size)\n",
        "  return db_answers"
      ],
      "execution_count": 0,
      "outputs": []
    },
    {
      "cell_type": "code",
      "metadata": {
        "id": "Cn6w6-go5BKX",
        "colab_type": "code",
        "colab": {}
      },
      "source": [
        "def creste_noise_list(data_org):  \n",
        "  noise_list = list()    \n",
        "  for j in range (len(data_org)):\n",
        "    temp = flip_coin()\n",
        "    if(temp == 1):\n",
        "      noise_list.append(data_org[j])\n",
        "    elif(temp == 0):\n",
        "      noise_list.append(flip_coin())\n",
        "  noise_list_res = torch.FloatTensor(noise_list) \n",
        "  return noise_list_res \n",
        "   "
      ],
      "execution_count": 0,
      "outputs": []
    },
    {
      "cell_type": "markdown",
      "metadata": {
        "id": "z6wHrilsEVig",
        "colab_type": "text"
      },
      "source": [
        "**Database Size 10**"
      ]
    },
    {
      "cell_type": "code",
      "metadata": {
        "id": "v98lFAei5BKb",
        "colab_type": "code",
        "outputId": "c2d65d80-6ea1-4f5c-df80-c72d3fa727ee",
        "colab": {
          "base_uri": "https://localhost:8080/",
          "height": 85
        }
      },
      "source": [
        "orig_db_result = create_original_db(10000)\n",
        "print(orig_db_result)\n",
        "\n",
        "noise_db_result = creste_noise_list(orig_db_result)\n",
        "print(noise_db_result)\n",
        "\n",
        "result_mean_org = query_mean(orig_db_result) \n",
        "print(result_mean_org)\n",
        "\n",
        "result_mean_noise = query_mean(noise_db_result)\n",
        "#print(result_mean_noise) \n",
        "\n",
        "truth = (result_mean_noise - 0.25) * 2\n",
        "print(truth)\n"
      ],
      "execution_count": 29,
      "outputs": [
        {
          "output_type": "stream",
          "text": [
            "tensor([1, 0, 1,  ..., 1, 0, 0], dtype=torch.uint8)\n",
            "tensor([1., 1., 0.,  ..., 1., 0., 0.])\n",
            "tensor(0.4928)\n",
            "tensor(0.5020)\n"
          ],
          "name": "stdout"
        }
      ]
    },
    {
      "cell_type": "markdown",
      "metadata": {
        "id": "C-SgDHTp5BKd",
        "colab_type": "text"
      },
      "source": [
        "# Lab Assigment 1: Varying Amounts of Noise\n",
        "\n",
        "In this project, I want you to augment the randomized response query (the one we just wrote) to allow for varying amounts of randomness to be added. Specifically, I want you to bias the coin flip to be higher or lower and then run the same experiment. \n",
        "\n",
        "Note - this one is a bit tricker than you might expect. You need to both adjust the likelihood of the first coin flip AND the de-skewing at the end (where we create the \"augmented_result\" variable)."
      ]
    },
    {
      "cell_type": "code",
      "metadata": {
        "id": "py7xHeKE5BKe",
        "colab_type": "code",
        "colab": {}
      },
      "source": [
        "# try this project here!"
      ],
      "execution_count": 0,
      "outputs": []
    },
    {
      "cell_type": "code",
      "metadata": {
        "id": "bkXFuIXY5BKf",
        "colab_type": "code",
        "colab": {
          "base_uri": "https://localhost:8080/",
          "height": 34
        },
        "outputId": "f15bbd3c-0e0e-42cb-b316-a717d4d3d30f"
      },
      "source": [
        ""
      ],
      "execution_count": 34,
      "outputs": [
        {
          "output_type": "execute_result",
          "data": {
            "text/plain": [
              "tensor([0, 0, 0, 0, 1, 1, 1, 1, 1, 1], dtype=torch.uint8)"
            ]
          },
          "metadata": {
            "tags": []
          },
          "execution_count": 34
        }
      ]
    },
    {
      "cell_type": "code",
      "metadata": {
        "id": "2Q5GcslJ5BKg",
        "colab_type": "code",
        "colab": {}
      },
      "source": [
        ""
      ],
      "execution_count": 0,
      "outputs": []
    },
    {
      "cell_type": "code",
      "metadata": {
        "id": "r7Q7_0wt5BKi",
        "colab_type": "code",
        "colab": {}
      },
      "source": [
        ""
      ],
      "execution_count": 0,
      "outputs": []
    },
    {
      "cell_type": "code",
      "metadata": {
        "id": "nW2yJSJl5BKn",
        "colab_type": "code",
        "colab": {}
      },
      "source": [
        ""
      ],
      "execution_count": 0,
      "outputs": []
    },
    {
      "cell_type": "code",
      "metadata": {
        "id": "1PW-E5fr5BKp",
        "colab_type": "code",
        "colab": {}
      },
      "source": [
        ""
      ],
      "execution_count": 0,
      "outputs": []
    },
    {
      "cell_type": "code",
      "metadata": {
        "id": "J3RkGQHB5BKq",
        "colab_type": "code",
        "colab": {}
      },
      "source": [
        ""
      ],
      "execution_count": 0,
      "outputs": []
    },
    {
      "cell_type": "code",
      "metadata": {
        "id": "wbL6I-o_5BKt",
        "colab_type": "code",
        "colab": {}
      },
      "source": [
        ""
      ],
      "execution_count": 0,
      "outputs": []
    },
    {
      "cell_type": "code",
      "metadata": {
        "id": "p4jnIgi65BKv",
        "colab_type": "code",
        "colab": {}
      },
      "source": [
        ""
      ],
      "execution_count": 0,
      "outputs": []
    },
    {
      "cell_type": "code",
      "metadata": {
        "id": "acMUugJ-5BKx",
        "colab_type": "code",
        "colab": {}
      },
      "source": [
        ""
      ],
      "execution_count": 0,
      "outputs": []
    },
    {
      "cell_type": "markdown",
      "metadata": {
        "id": "EuiU5Q4B5BKy",
        "colab_type": "text"
      },
      "source": [
        "# Lesson: The Formal Definition of Differential Privacy\n",
        "\n",
        "The previous method of adding noise was called \"Local Differentail Privacy\" because we added noise to each datapoint individually. This is necessary for some situations wherein the data is SO sensitive that individuals do not trust noise to be added later. However, it comes at a very high cost in terms of accuracy. \n",
        "\n",
        "However, alternatively we can add noise AFTER data has been aggregated by a function. This kind of noise can allow for similar levels of protection with a lower affect on accuracy. However, participants must be able to trust that no-one looked at their datapoints _before_ the aggregation took place. In some situations this works out well, in others (such as an individual hand-surveying a group of people), this is less realistic.\n",
        "\n",
        "Nevertheless, global differential privacy is incredibly important because it allows us to perform differential privacy on smaller groups of individuals with lower amounts of noise. Let's revisit our sum functions."
      ]
    },
    {
      "cell_type": "code",
      "metadata": {
        "id": "yNQs1VWV5BKz",
        "colab_type": "code",
        "outputId": "e663d88a-aee0-49fa-d287-e86de184c679",
        "colab": {
          "base_uri": "https://localhost:8080/",
          "height": 34
        }
      },
      "source": [
        "db, pdbs = get_db_and_parallel(100)\n",
        "\n",
        "def query(db):\n",
        "    return torch.sum(db.float())\n",
        "\n",
        "def M(db):\n",
        "    query(db) + noise\n",
        "\n",
        "query(db)"
      ],
      "execution_count": 33,
      "outputs": [
        {
          "output_type": "execute_result",
          "data": {
            "text/plain": [
              "tensor(54.)"
            ]
          },
          "metadata": {
            "tags": []
          },
          "execution_count": 33
        }
      ]
    },
    {
      "cell_type": "markdown",
      "metadata": {
        "id": "spyNhiCd5BK0",
        "colab_type": "text"
      },
      "source": [
        "So the idea here is that we want to add noise to the output of our function. We actually have two different kinds of noise we can add - Laplacian Noise or Gaussian Noise. However, before we do so at this point we need to dive into the formal definition of Differential Privacy.\n",
        "\n",
        "![alt text](dp_formula.png \"Title\")"
      ]
    },
    {
      "cell_type": "markdown",
      "metadata": {
        "id": "wdNKR7f_5BK1",
        "colab_type": "text"
      },
      "source": [
        "_Image From: \"The Algorithmic Foundations of Differential Privacy\" - Cynthia Dwork and Aaron Roth - https://www.cis.upenn.edu/~aaroth/Papers/privacybook.pdf_"
      ]
    },
    {
      "cell_type": "markdown",
      "metadata": {
        "id": "K9h85ktU5BK1",
        "colab_type": "text"
      },
      "source": [
        "This definition does not _create_ differential privacy, instead it is a measure of how much privacy is afforded by a query M. Specifically, it's a comparison between running the query M on a database (x) and a parallel database (y). As you remember, parallel databases are defined to be the same as a full database (x) with one entry/person removed.\n",
        "\n",
        "Thus, this definition says that FOR ALL parallel databases, the maximum distance between a query on database (x) and the same query on database (y) will be e^epsilon, but that occasionally this constraint won't hold with probability delta. Thus, this theorem is called \"epsilon delta\" differential privacy.\n",
        "\n",
        "# Epsilon\n",
        "\n",
        "Let's unpack the intuition of this for a moment. \n",
        "\n",
        "Epsilon Zero: If a query satisfied this inequality where epsilon was set to 0, then that would mean that the query for all parallel databases outputed the exact same value as the full database. As you may remember, when we calculated the \"threshold\" function, often the Sensitivity was 0. In that case, the epsilon also happened to be zero.\n",
        "\n",
        "Epsilon One: If a query satisfied this inequality with epsilon 1, then the maximum distance between all queries would be 1 - or more precisely - the maximum distance between the two random distributions M(x) and M(y) is 1 (because all these queries have some amount of randomness in them, just like we observed in the last section).\n",
        "\n",
        "# Delta\n",
        "\n",
        "Delta is basically the probability that epsilon breaks. Namely, sometimes the epsilon is different for some queries than it is for others. For example, you may remember when we were calculating the sensitivity of threshold, most of the time sensitivity was 0 but sometimes it was 1. Thus, we could calculate this as \"epsilon zero but non-zero delta\" which would say that epsilon is perfect except for some probability of the time when it's arbitrarily higher. Note that this expression doesn't represent the full tradeoff between epsilon and delta."
      ]
    },
    {
      "cell_type": "markdown",
      "metadata": {
        "id": "MV12MsPI5BK1",
        "colab_type": "text"
      },
      "source": [
        "# Lesson: How To Add Noise for Global Differential Privacy\n",
        "\n",
        "In this lesson, we're going to learn about how to take a query and add varying amounts of noise so that it satisfies a certain degree of differential privacy. In particular, we're going to leave behind the Local Differential privacy previously discussed and instead opt to focus on Global differential privacy. \n",
        "\n",
        "So, to sum up, this lesson is about adding noise to the output of our query so that it satisfies a certain epsilon-delta differential privacy threshold.\n",
        "\n",
        "There are two kinds of noise we can add - Gaussian Noise or Laplacian Noise. Generally speaking Laplacian is better, but both are still valid. Now to the hard question...\n",
        "\n",
        "### How much noise should we add?\n",
        "\n",
        "The amount of noise necessary to add to the output of a query is a function of four things:\n",
        "\n",
        "- the type of noise (Gaussian/Laplacian)\n",
        "- the sensitivity of the query/function\n",
        "- the desired epsilon (ε)\n",
        "- the desired delta (δ)\n",
        "\n",
        "Thus, for each type of noise we're adding, we have different way of calculating how much to add as a function of sensitivity, epsilon, and delta. We're going to focus on Laplacian noise. Laplacian noise is increased/decreased according to a \"scale\" parameter b. We choose \"b\" based on the following formula.\n",
        "\n",
        "b = sensitivity(query) / epsilon\n",
        "\n",
        "In other words, if we set b to be this value, then we know that we will have a privacy leakage of <= epsilon. Furthermore, the nice thing about Laplace is that it guarantees this with delta == 0. There are some tunings where we can have very low epsilon where delta is non-zero, but we'll ignore them for now.\n",
        "\n",
        "### Querying Repeatedly\n",
        "\n",
        "- if we query the database multiple times - we can simply add the epsilons (Even if we change the amount of noise and their epsilons are not the same)."
      ]
    },
    {
      "cell_type": "code",
      "metadata": {
        "id": "hRcJfnp45BK2",
        "colab_type": "code",
        "colab": {}
      },
      "source": [
        ""
      ],
      "execution_count": 0,
      "outputs": []
    },
    {
      "cell_type": "markdown",
      "metadata": {
        "id": "x8r7HiI25BK2",
        "colab_type": "text"
      },
      "source": [
        "# Project: Create a Differentially Private Query\n",
        "\n",
        "In this project, I want you to take what you learned in the previous lesson and create a query function which sums over the database and adds just the right amount of noise such that it satisfies an epsilon constraint. Write a query for both \"sum\" and for \"mean\". Ensure that you use the correct sensitivity measures for both."
      ]
    },
    {
      "cell_type": "code",
      "metadata": {
        "id": "TaFnnkFg5BK3",
        "colab_type": "code",
        "colab": {}
      },
      "source": [
        "# try this project here!\n",
        "import numpy as np"
      ],
      "execution_count": 0,
      "outputs": []
    },
    {
      "cell_type": "code",
      "metadata": {
        "id": "MR_pds-rRKoF",
        "colab_type": "code",
        "colab": {}
      },
      "source": [
        "# recreate the sum query we created earlier\n",
        "def query_sum_lap(data):\n",
        "    return torch.sum(data.float()) \n",
        "\n",
        "# create a new query function, which finds the mean rather than the sum\n",
        "def query_mean_lap(data):\n",
        "    return torch.mean(data.float())"
      ],
      "execution_count": 0,
      "outputs": []
    },
    {
      "cell_type": "code",
      "metadata": {
        "id": "-3pMBNSDPEhU",
        "colab_type": "code",
        "colab": {}
      },
      "source": [
        "# define a function to calculate the sensitivity of a query\n",
        "def sensitivity_project(query, num_items):\n",
        "  \n",
        "  # generate the db and the pdbs\n",
        "  dbs_GDP, pdbs = get_db_and_parallel(num_items)\n",
        "  \n",
        "  # query the db\n",
        "  sum_db = query(dbs);\n",
        "  \n",
        "  # return the value of sensitivity\n",
        "  # loop on each pdb in the pdbs and calculate its distance\n",
        "  # find the maximum distance <-- that's your sensitivity\n",
        "  sensitivity = 0\n",
        "  for pdb in pdbs:\n",
        "    sum_pdb = query(pdb)\n",
        "    sensitivity_temp = torch.abs(sum_db - sum_pdb)\n",
        "    if(sensitivity < sensitivity_temp):\n",
        "       sensitivity = sensitivity_temp\n",
        "\n",
        "\n",
        "    \n",
        "    return sensitivity,  dbs_GDP \n",
        "  "
      ],
      "execution_count": 0,
      "outputs": []
    },
    {
      "cell_type": "code",
      "metadata": {
        "id": "XiPXzxWH5BK8",
        "colab_type": "code",
        "colab": {
          "base_uri": "https://localhost:8080/",
          "height": 748
        },
        "outputId": "6cb5b956-5880-44bc-b8cc-7ba0449413a4"
      },
      "source": [
        "sensitivity_db, org_db = sensitivity_project(query_mean,1000)\n",
        "print(sensitivity_db)\n",
        "print(org_db)"
      ],
      "execution_count": 94,
      "outputs": [
        {
          "output_type": "stream",
          "text": [
            "tensor(0.0935)\n",
            "tensor([1, 0, 0, 0, 1, 0, 1, 1, 1, 1, 1, 1, 0, 0, 1, 0, 0, 1, 0, 0, 1, 0, 1, 1,\n",
            "        0, 1, 1, 1, 1, 0, 1, 0, 0, 0, 1, 1, 0, 1, 1, 0, 0, 1, 0, 1, 1, 1, 1, 0,\n",
            "        1, 1, 0, 1, 0, 1, 0, 0, 0, 1, 0, 1, 0, 0, 1, 0, 0, 0, 0, 0, 0, 0, 0, 0,\n",
            "        0, 0, 0, 0, 0, 1, 1, 0, 0, 0, 1, 1, 0, 0, 1, 1, 1, 0, 0, 1, 0, 1, 1, 0,\n",
            "        0, 1, 0, 1, 0, 1, 1, 1, 1, 0, 0, 1, 0, 0, 1, 1, 1, 1, 0, 1, 1, 0, 1, 0,\n",
            "        1, 1, 1, 0, 0, 1, 0, 1, 1, 1, 1, 0, 1, 0, 0, 0, 0, 1, 1, 1, 1, 0, 1, 0,\n",
            "        0, 1, 0, 0, 0, 0, 1, 1, 0, 0, 1, 0, 1, 1, 1, 0, 1, 0, 0, 0, 1, 0, 0, 0,\n",
            "        0, 0, 0, 0, 1, 1, 0, 0, 0, 0, 1, 1, 1, 1, 1, 1, 1, 1, 0, 1, 0, 1, 1, 0,\n",
            "        0, 1, 0, 0, 1, 0, 1, 0, 1, 1, 0, 0, 1, 1, 0, 0, 1, 0, 0, 0, 0, 1, 0, 0,\n",
            "        0, 1, 1, 1, 1, 1, 0, 1, 0, 1, 0, 1, 1, 0, 0, 1, 1, 1, 0, 0, 0, 0, 0, 0,\n",
            "        0, 0, 1, 0, 0, 1, 0, 0, 0, 0, 1, 0, 0, 0, 1, 0, 1, 0, 1, 1, 1, 1, 0, 0,\n",
            "        1, 0, 1, 0, 1, 0, 0, 1, 0, 1, 0, 1, 1, 0, 1, 0, 1, 0, 1, 0, 0, 0, 0, 0,\n",
            "        1, 0, 0, 1, 1, 0, 0, 1, 1, 1, 0, 1, 0, 0, 0, 0, 1, 0, 0, 0, 1, 0, 0, 0,\n",
            "        1, 0, 1, 0, 0, 0, 1, 1, 0, 0, 0, 0, 1, 1, 0, 1, 1, 1, 1, 0, 0, 1, 0, 0,\n",
            "        0, 1, 0, 1, 0, 1, 1, 1, 1, 0, 0, 1, 1, 0, 1, 1, 1, 0, 0, 0, 1, 0, 1, 0,\n",
            "        0, 1, 1, 1, 0, 1, 0, 0, 1, 0, 1, 1, 1, 1, 1, 1, 0, 0, 0, 0, 0, 0, 1, 0,\n",
            "        0, 1, 0, 0, 1, 0, 0, 1, 1, 1, 0, 0, 1, 1, 0, 0, 1, 1, 1, 1, 0, 1, 0, 0,\n",
            "        1, 0, 0, 0, 0, 1, 1, 0, 1, 0, 1, 0, 1, 1, 1, 0, 1, 0, 0, 1, 0, 0, 0, 1,\n",
            "        1, 0, 1, 0, 0, 0, 1, 0, 0, 0, 1, 0, 0, 0, 0, 0, 1, 0, 1, 0, 1, 0, 0, 1,\n",
            "        1, 1, 0, 1, 1, 0, 1, 1, 1, 0, 0, 1, 0, 1, 1, 0, 0, 1, 1, 0, 1, 1, 0, 0,\n",
            "        1, 0, 1, 1, 1, 0, 0, 1, 0, 1, 0, 1, 1, 1, 1, 0, 0, 1, 0, 0, 1, 1, 0, 1,\n",
            "        0, 0, 1, 1, 0, 1, 1, 1, 0, 0, 1, 1, 1, 0, 0, 0, 0, 1, 1, 0, 0, 1, 0, 1,\n",
            "        1, 0, 0, 1, 1, 1, 0, 1, 0, 0, 0, 0, 1, 1, 0, 1, 0, 0, 1, 1, 1, 0, 1, 0,\n",
            "        0, 1, 1, 0, 1, 1, 0, 1, 0, 0, 0, 1, 0, 1, 1, 1, 1, 1, 1, 1, 1, 0, 0, 1,\n",
            "        0, 0, 0, 1, 1, 1, 1, 1, 1, 0, 0, 0, 0, 1, 0, 1, 1, 1, 0, 1, 1, 1, 1, 0,\n",
            "        1, 1, 0, 0, 1, 1, 1, 1, 0, 1, 0, 1, 0, 0, 0, 1, 0, 0, 1, 1, 0, 1, 1, 0,\n",
            "        0, 0, 1, 0, 1, 0, 1, 1, 1, 1, 0, 1, 1, 1, 1, 1, 0, 1, 0, 0, 0, 0, 0, 0,\n",
            "        1, 1, 0, 1, 0, 0, 1, 1, 0, 1, 0, 1, 1, 1, 1, 1, 0, 0, 0, 1, 1, 0, 0, 0,\n",
            "        1, 0, 0, 1, 1, 1, 1, 1, 0, 0, 0, 0, 1, 1, 0, 0, 0, 1, 1, 1, 1, 0, 0, 1,\n",
            "        0, 1, 0, 0, 0, 0, 1, 0, 1, 0, 0, 1, 0, 0, 1, 0, 1, 0, 0, 0, 1, 1, 1, 0,\n",
            "        0, 1, 0, 1, 1, 0, 1, 0, 1, 0, 1, 1, 0, 0, 0, 1, 0, 0, 1, 0, 0, 0, 0, 0,\n",
            "        0, 1, 0, 1, 1, 1, 1, 0, 1, 0, 1, 1, 1, 1, 1, 0, 0, 0, 1, 1, 1, 1, 1, 1,\n",
            "        0, 0, 0, 0, 1, 1, 0, 0, 0, 0, 1, 1, 0, 0, 1, 0, 1, 1, 0, 0, 1, 0, 0, 0,\n",
            "        1, 1, 0, 0, 1, 0, 0, 0, 0, 0, 1, 1, 1, 1, 0, 1, 0, 1, 1, 0, 1, 0, 1, 0,\n",
            "        1, 1, 1, 1, 0, 1, 1, 0, 1, 0, 0, 1, 1, 0, 1, 0, 1, 1, 0, 1, 1, 0, 1, 1,\n",
            "        1, 0, 0, 1, 0, 1, 0, 0, 0, 1, 0, 1, 0, 1, 0, 0, 1, 0, 1, 1, 0, 1, 0, 1,\n",
            "        0, 0, 1, 0, 0, 0, 0, 1, 1, 1, 1, 1, 1, 0, 1, 1, 1, 1, 1, 1, 1, 1, 1, 1,\n",
            "        1, 0, 1, 0, 0, 0, 1, 0, 0, 1, 1, 0, 1, 1, 0, 0, 0, 1, 0, 0, 1, 1, 1, 0,\n",
            "        0, 1, 0, 0, 1, 0, 0, 1, 1, 1, 0, 1, 0, 0, 1, 1, 0, 0, 0, 0, 0, 0, 0, 0,\n",
            "        1, 1, 0, 0, 1, 1, 1, 0, 1, 0, 0, 1, 0, 0, 0, 0, 0, 0, 1, 1, 0, 0, 1, 1,\n",
            "        1, 1, 1, 0, 0, 1, 0, 1, 1, 1, 1, 1, 1, 1, 0, 0, 1, 0, 1, 1, 0, 0, 1, 1,\n",
            "        1, 1, 0, 1, 0, 0, 0, 0, 1, 0, 0, 0, 1, 0, 1, 1], dtype=torch.uint8)\n"
          ],
          "name": "stdout"
        }
      ]
    },
    {
      "cell_type": "code",
      "metadata": {
        "id": "Mkvlk72r5BK9",
        "colab_type": "code",
        "colab": {}
      },
      "source": [
        "def lap_noise(query, db, sensitivity, epsilon):\n",
        "  beta = sensitivity/epsilon\n",
        "  return query + torch.from_numpy(np.random.laplace(0,beta,1))"
      ],
      "execution_count": 0,
      "outputs": []
    },
    {
      "cell_type": "code",
      "metadata": {
        "id": "PXqd5HNZ5BK-",
        "colab_type": "code",
        "colab": {
          "base_uri": "https://localhost:8080/",
          "height": 85
        },
        "outputId": "7c79bcd5-e908-447c-b190-09d80d982d11"
      },
      "source": [
        "noise_mean = lap_noise(query_mean_lap(org_db), org_db, sensitivity_db, 1)\n",
        "print(noise_mean)\n",
        "mean_value = query_mean(org_db)\n",
        "print(mean_value)\n",
        "\n",
        "noise_sum = lap_noise(query_sum_lap(org_db), org_db, sensitivity_db, 1)\n",
        "print(noise_sum)\n",
        "sum_value = query_sum(org_db)\n",
        "print(sum_value)\n"
      ],
      "execution_count": 96,
      "outputs": [
        {
          "output_type": "stream",
          "text": [
            "tensor([0.6660], dtype=torch.float64)\n",
            "tensor(0.4940)\n",
            "tensor([493.5806], dtype=torch.float64)\n",
            "tensor(494)\n"
          ],
          "name": "stdout"
        }
      ]
    },
    {
      "cell_type": "code",
      "metadata": {
        "id": "xZK2hA8U5BK_",
        "colab_type": "code",
        "colab": {}
      },
      "source": [
        ""
      ],
      "execution_count": 0,
      "outputs": []
    },
    {
      "cell_type": "code",
      "metadata": {
        "id": "sH0DVicA5BLA",
        "colab_type": "code",
        "colab": {}
      },
      "source": [
        ""
      ],
      "execution_count": 0,
      "outputs": []
    },
    {
      "cell_type": "markdown",
      "metadata": {
        "id": "JFrUdcRH5BLB",
        "colab_type": "text"
      },
      "source": [
        "# Lesson: Differential Privacy for Deep Learning\n",
        "\n",
        "So in the last lessons you may have been wondering - what does all of this have to do with Deep Learning? Well, these same techniques we were just studying form the core primitives for how Differential Privacy provides guarantees in the context of Deep Learning. \n",
        "\n",
        "Previously, we defined perfect privacy as \"a query to a database returns the same value even if we remove any person from the database\", and used this intuition in the description of epsilon/delta. In the context of deep learning we have a similar standard.\n",
        "\n",
        "Training a model on a dataset should return the same model even if we remove any person from the dataset.\n",
        "\n",
        "Thus, we've replaced \"querying a database\" with \"training a model on a dataset\". In essence, the training process is a kind of query. However, one should note that this adds two points of complexity which database queries did not have:\n",
        "\n",
        "    1. do we always know where \"people\" are referenced in the dataset?\n",
        "    2. neural models rarely never train to the same output model, even on identical data\n",
        "\n",
        "The answer to (1) is to treat each training example as a single, separate person. Strictly speaking, this is often overly zealous as some training examples have no relevance to people and others may have multiple/partial (consider an image with multiple people contained within it). Thus, localizing exactly where \"people\" are referenced, and thus how much your model would change if people were removed, is challenging.\n",
        "\n",
        "The answer to (2) is also an open problem - but several interesitng proposals have been made. We're going to focus on one of the most popular proposals, PATE.\n",
        "\n",
        "## An Example Scenario: A Health Neural Network\n",
        "\n",
        "First we're going to consider a scenario - you work for a hospital and you have a large collection of images about your patients. However, you don't know what's in them. You would like to use these images to develop a neural network which can automatically classify them, however since your images aren't labeled, they aren't sufficient to train a classifier. \n",
        "\n",
        "However, being a cunning strategist, you realize that you can reach out to 10 partner hospitals which DO have annotated data. It is your hope to train your new classifier on their datasets so that you can automatically label your own. While these hospitals are interested in helping, they have privacy concerns regarding information about their patients. Thus, you will use the following technique to train a classifier which protects the privacy of patients in the other hospitals.\n",
        "\n",
        "- 1) You'll ask each of the 10 hospitals to train a model on their own datasets (All of which have the same kinds of labels)\n",
        "- 2) You'll then use each of the 10 partner models to predict on your local dataset, generating 10 labels for each of your datapoints\n",
        "- 3) Then, for each local data point (now with 10 labels), you will perform a DP query to generate the final true label. This query is a \"max\" function, where \"max\" is the most frequent label across the 10 labels. We will need to add laplacian noise to make this Differentially Private to a certain epsilon/delta constraint.\n",
        "- 4) Finally, we will retrain a new model on our local dataset which now has labels. This will be our final \"DP\" model.\n",
        "\n",
        "So, let's walk through these steps. I will assume you're already familiar with how to train/predict a deep neural network, so we'll skip steps 1 and 2 and work with example data. We'll focus instead on step 3, namely how to perform the DP query for each example using toy data.\n",
        "\n",
        "So, let's say we have 10,000 training examples, and we've got 10 labels for each example (from our 10 \"teacher models\" which were trained directly on private data). Each label is chosen from a set of 10 possible labels (categories) for each image."
      ]
    },
    {
      "cell_type": "code",
      "metadata": {
        "id": "pPYsz4z55BLC",
        "colab_type": "code",
        "colab": {}
      },
      "source": [
        "import numpy as np"
      ],
      "execution_count": 0,
      "outputs": []
    },
    {
      "cell_type": "code",
      "metadata": {
        "id": "3TAxH0ZV5BLE",
        "colab_type": "code",
        "colab": {}
      },
      "source": [
        "num_teachers = 10 # we're working with 10 partner hospitals\n",
        "num_examples = 10000 # the size of OUR dataset\n",
        "num_labels = 10 # number of lablels for our classifier"
      ],
      "execution_count": 0,
      "outputs": []
    },
    {
      "cell_type": "code",
      "metadata": {
        "id": "e3pfLJQ-5BLG",
        "colab_type": "code",
        "colab": {}
      },
      "source": [
        "preds = (np.random.rand(num_teachers, num_examples) * num_labels).astype(int).transpose(1,0) # fake predictions"
      ],
      "execution_count": 0,
      "outputs": []
    },
    {
      "cell_type": "code",
      "metadata": {
        "id": "tbBANFve5BLJ",
        "colab_type": "code",
        "colab": {}
      },
      "source": [
        "new_labels = list()\n",
        "for an_image in preds:\n",
        "\n",
        "    label_counts = np.bincount(an_image, minlength=num_labels)\n",
        "\n",
        "    epsilon = 0.1\n",
        "    beta = 1 / epsilon\n",
        "\n",
        "    for i in range(len(label_counts)):\n",
        "        label_counts[i] += np.random.laplace(0, beta, 1)\n",
        "\n",
        "    new_label = np.argmax(label_counts)\n",
        "    \n",
        "    new_labels.append(new_label)"
      ],
      "execution_count": 0,
      "outputs": []
    },
    {
      "cell_type": "code",
      "metadata": {
        "id": "ilgSYTTG5BLK",
        "colab_type": "code",
        "colab": {
          "base_uri": "https://localhost:8080/",
          "height": 17034
        },
        "outputId": "d32ad3a2-9cec-45d2-ed27-a314339a14d7"
      },
      "source": [
        "# new_labels\n",
        "new_labels"
      ],
      "execution_count": 97,
      "outputs": [
        {
          "output_type": "execute_result",
          "data": {
            "text/plain": [
              "[2,\n",
              " 3,\n",
              " 3,\n",
              " 0,\n",
              " 7,\n",
              " 7,\n",
              " 7,\n",
              " 3,\n",
              " 4,\n",
              " 2,\n",
              " 1,\n",
              " 2,\n",
              " 0,\n",
              " 4,\n",
              " 0,\n",
              " 2,\n",
              " 2,\n",
              " 1,\n",
              " 3,\n",
              " 8,\n",
              " 1,\n",
              " 5,\n",
              " 3,\n",
              " 7,\n",
              " 4,\n",
              " 0,\n",
              " 1,\n",
              " 1,\n",
              " 1,\n",
              " 8,\n",
              " 9,\n",
              " 3,\n",
              " 7,\n",
              " 4,\n",
              " 6,\n",
              " 0,\n",
              " 6,\n",
              " 3,\n",
              " 5,\n",
              " 6,\n",
              " 3,\n",
              " 0,\n",
              " 0,\n",
              " 9,\n",
              " 1,\n",
              " 3,\n",
              " 2,\n",
              " 2,\n",
              " 3,\n",
              " 0,\n",
              " 7,\n",
              " 7,\n",
              " 4,\n",
              " 3,\n",
              " 8,\n",
              " 8,\n",
              " 2,\n",
              " 1,\n",
              " 9,\n",
              " 3,\n",
              " 9,\n",
              " 4,\n",
              " 9,\n",
              " 1,\n",
              " 7,\n",
              " 7,\n",
              " 4,\n",
              " 0,\n",
              " 9,\n",
              " 7,\n",
              " 2,\n",
              " 6,\n",
              " 1,\n",
              " 0,\n",
              " 6,\n",
              " 3,\n",
              " 6,\n",
              " 7,\n",
              " 5,\n",
              " 2,\n",
              " 6,\n",
              " 6,\n",
              " 8,\n",
              " 3,\n",
              " 7,\n",
              " 0,\n",
              " 1,\n",
              " 0,\n",
              " 2,\n",
              " 3,\n",
              " 0,\n",
              " 8,\n",
              " 6,\n",
              " 9,\n",
              " 8,\n",
              " 9,\n",
              " 5,\n",
              " 5,\n",
              " 4,\n",
              " 8,\n",
              " 7,\n",
              " 2,\n",
              " 4,\n",
              " 0,\n",
              " 6,\n",
              " 5,\n",
              " 9,\n",
              " 6,\n",
              " 4,\n",
              " 6,\n",
              " 8,\n",
              " 4,\n",
              " 4,\n",
              " 3,\n",
              " 9,\n",
              " 0,\n",
              " 5,\n",
              " 2,\n",
              " 0,\n",
              " 3,\n",
              " 1,\n",
              " 0,\n",
              " 3,\n",
              " 0,\n",
              " 4,\n",
              " 5,\n",
              " 0,\n",
              " 1,\n",
              " 7,\n",
              " 3,\n",
              " 6,\n",
              " 9,\n",
              " 9,\n",
              " 9,\n",
              " 8,\n",
              " 9,\n",
              " 8,\n",
              " 8,\n",
              " 5,\n",
              " 3,\n",
              " 3,\n",
              " 3,\n",
              " 0,\n",
              " 6,\n",
              " 5,\n",
              " 7,\n",
              " 2,\n",
              " 6,\n",
              " 5,\n",
              " 3,\n",
              " 2,\n",
              " 3,\n",
              " 1,\n",
              " 6,\n",
              " 1,\n",
              " 3,\n",
              " 5,\n",
              " 7,\n",
              " 2,\n",
              " 0,\n",
              " 7,\n",
              " 7,\n",
              " 3,\n",
              " 5,\n",
              " 2,\n",
              " 3,\n",
              " 6,\n",
              " 3,\n",
              " 8,\n",
              " 6,\n",
              " 7,\n",
              " 4,\n",
              " 9,\n",
              " 7,\n",
              " 0,\n",
              " 8,\n",
              " 9,\n",
              " 2,\n",
              " 9,\n",
              " 1,\n",
              " 2,\n",
              " 0,\n",
              " 0,\n",
              " 5,\n",
              " 5,\n",
              " 2,\n",
              " 8,\n",
              " 3,\n",
              " 1,\n",
              " 1,\n",
              " 8,\n",
              " 5,\n",
              " 7,\n",
              " 2,\n",
              " 6,\n",
              " 0,\n",
              " 0,\n",
              " 8,\n",
              " 6,\n",
              " 5,\n",
              " 3,\n",
              " 3,\n",
              " 8,\n",
              " 2,\n",
              " 6,\n",
              " 0,\n",
              " 6,\n",
              " 6,\n",
              " 5,\n",
              " 8,\n",
              " 9,\n",
              " 0,\n",
              " 4,\n",
              " 7,\n",
              " 5,\n",
              " 4,\n",
              " 9,\n",
              " 0,\n",
              " 5,\n",
              " 4,\n",
              " 4,\n",
              " 5,\n",
              " 7,\n",
              " 6,\n",
              " 3,\n",
              " 1,\n",
              " 8,\n",
              " 1,\n",
              " 6,\n",
              " 2,\n",
              " 8,\n",
              " 9,\n",
              " 4,\n",
              " 7,\n",
              " 7,\n",
              " 8,\n",
              " 7,\n",
              " 5,\n",
              " 5,\n",
              " 2,\n",
              " 8,\n",
              " 6,\n",
              " 1,\n",
              " 6,\n",
              " 5,\n",
              " 5,\n",
              " 8,\n",
              " 4,\n",
              " 4,\n",
              " 8,\n",
              " 5,\n",
              " 5,\n",
              " 7,\n",
              " 5,\n",
              " 9,\n",
              " 0,\n",
              " 8,\n",
              " 4,\n",
              " 0,\n",
              " 8,\n",
              " 9,\n",
              " 7,\n",
              " 7,\n",
              " 2,\n",
              " 4,\n",
              " 3,\n",
              " 6,\n",
              " 9,\n",
              " 3,\n",
              " 7,\n",
              " 1,\n",
              " 9,\n",
              " 7,\n",
              " 6,\n",
              " 1,\n",
              " 4,\n",
              " 7,\n",
              " 8,\n",
              " 4,\n",
              " 4,\n",
              " 0,\n",
              " 0,\n",
              " 1,\n",
              " 8,\n",
              " 8,\n",
              " 3,\n",
              " 5,\n",
              " 7,\n",
              " 8,\n",
              " 9,\n",
              " 5,\n",
              " 1,\n",
              " 4,\n",
              " 5,\n",
              " 3,\n",
              " 7,\n",
              " 7,\n",
              " 0,\n",
              " 2,\n",
              " 2,\n",
              " 7,\n",
              " 5,\n",
              " 1,\n",
              " 1,\n",
              " 6,\n",
              " 3,\n",
              " 5,\n",
              " 1,\n",
              " 4,\n",
              " 9,\n",
              " 0,\n",
              " 2,\n",
              " 1,\n",
              " 9,\n",
              " 7,\n",
              " 1,\n",
              " 8,\n",
              " 4,\n",
              " 9,\n",
              " 9,\n",
              " 3,\n",
              " 7,\n",
              " 0,\n",
              " 5,\n",
              " 0,\n",
              " 5,\n",
              " 0,\n",
              " 2,\n",
              " 4,\n",
              " 5,\n",
              " 5,\n",
              " 7,\n",
              " 5,\n",
              " 3,\n",
              " 3,\n",
              " 2,\n",
              " 1,\n",
              " 4,\n",
              " 5,\n",
              " 0,\n",
              " 8,\n",
              " 0,\n",
              " 2,\n",
              " 4,\n",
              " 2,\n",
              " 6,\n",
              " 1,\n",
              " 2,\n",
              " 7,\n",
              " 3,\n",
              " 5,\n",
              " 8,\n",
              " 5,\n",
              " 6,\n",
              " 5,\n",
              " 3,\n",
              " 0,\n",
              " 6,\n",
              " 5,\n",
              " 2,\n",
              " 8,\n",
              " 4,\n",
              " 2,\n",
              " 0,\n",
              " 5,\n",
              " 4,\n",
              " 9,\n",
              " 3,\n",
              " 0,\n",
              " 9,\n",
              " 2,\n",
              " 4,\n",
              " 5,\n",
              " 9,\n",
              " 0,\n",
              " 0,\n",
              " 6,\n",
              " 0,\n",
              " 3,\n",
              " 5,\n",
              " 3,\n",
              " 6,\n",
              " 0,\n",
              " 5,\n",
              " 7,\n",
              " 6,\n",
              " 4,\n",
              " 3,\n",
              " 4,\n",
              " 6,\n",
              " 4,\n",
              " 3,\n",
              " 1,\n",
              " 7,\n",
              " 8,\n",
              " 4,\n",
              " 5,\n",
              " 9,\n",
              " 1,\n",
              " 4,\n",
              " 5,\n",
              " 2,\n",
              " 7,\n",
              " 5,\n",
              " 5,\n",
              " 6,\n",
              " 2,\n",
              " 8,\n",
              " 8,\n",
              " 7,\n",
              " 3,\n",
              " 7,\n",
              " 0,\n",
              " 3,\n",
              " 9,\n",
              " 0,\n",
              " 2,\n",
              " 7,\n",
              " 0,\n",
              " 2,\n",
              " 6,\n",
              " 6,\n",
              " 0,\n",
              " 8,\n",
              " 3,\n",
              " 2,\n",
              " 9,\n",
              " 4,\n",
              " 5,\n",
              " 9,\n",
              " 4,\n",
              " 9,\n",
              " 6,\n",
              " 9,\n",
              " 3,\n",
              " 7,\n",
              " 4,\n",
              " 7,\n",
              " 9,\n",
              " 1,\n",
              " 1,\n",
              " 9,\n",
              " 7,\n",
              " 6,\n",
              " 2,\n",
              " 4,\n",
              " 6,\n",
              " 9,\n",
              " 1,\n",
              " 4,\n",
              " 0,\n",
              " 9,\n",
              " 8,\n",
              " 7,\n",
              " 3,\n",
              " 8,\n",
              " 5,\n",
              " 2,\n",
              " 9,\n",
              " 2,\n",
              " 6,\n",
              " 5,\n",
              " 6,\n",
              " 1,\n",
              " 4,\n",
              " 1,\n",
              " 6,\n",
              " 5,\n",
              " 0,\n",
              " 8,\n",
              " 1,\n",
              " 8,\n",
              " 1,\n",
              " 7,\n",
              " 1,\n",
              " 6,\n",
              " 0,\n",
              " 6,\n",
              " 7,\n",
              " 4,\n",
              " 6,\n",
              " 6,\n",
              " 3,\n",
              " 6,\n",
              " 7,\n",
              " 8,\n",
              " 5,\n",
              " 9,\n",
              " 1,\n",
              " 8,\n",
              " 4,\n",
              " 6,\n",
              " 6,\n",
              " 5,\n",
              " 6,\n",
              " 9,\n",
              " 8,\n",
              " 9,\n",
              " 1,\n",
              " 9,\n",
              " 2,\n",
              " 7,\n",
              " 2,\n",
              " 1,\n",
              " 4,\n",
              " 2,\n",
              " 1,\n",
              " 2,\n",
              " 1,\n",
              " 0,\n",
              " 7,\n",
              " 2,\n",
              " 1,\n",
              " 0,\n",
              " 2,\n",
              " 0,\n",
              " 4,\n",
              " 6,\n",
              " 7,\n",
              " 5,\n",
              " 4,\n",
              " 6,\n",
              " 3,\n",
              " 5,\n",
              " 3,\n",
              " 3,\n",
              " 4,\n",
              " 5,\n",
              " 9,\n",
              " 8,\n",
              " 3,\n",
              " 8,\n",
              " 6,\n",
              " 5,\n",
              " 8,\n",
              " 9,\n",
              " 6,\n",
              " 2,\n",
              " 9,\n",
              " 2,\n",
              " 3,\n",
              " 2,\n",
              " 1,\n",
              " 3,\n",
              " 8,\n",
              " 3,\n",
              " 3,\n",
              " 6,\n",
              " 3,\n",
              " 9,\n",
              " 8,\n",
              " 1,\n",
              " 1,\n",
              " 0,\n",
              " 3,\n",
              " 7,\n",
              " 3,\n",
              " 9,\n",
              " 9,\n",
              " 6,\n",
              " 2,\n",
              " 2,\n",
              " 5,\n",
              " 3,\n",
              " 0,\n",
              " 1,\n",
              " 7,\n",
              " 7,\n",
              " 8,\n",
              " 7,\n",
              " 9,\n",
              " 8,\n",
              " 4,\n",
              " 1,\n",
              " 6,\n",
              " 8,\n",
              " 4,\n",
              " 7,\n",
              " 0,\n",
              " 0,\n",
              " 0,\n",
              " 3,\n",
              " 8,\n",
              " 3,\n",
              " 9,\n",
              " 6,\n",
              " 6,\n",
              " 6,\n",
              " 5,\n",
              " 4,\n",
              " 8,\n",
              " 2,\n",
              " 6,\n",
              " 1,\n",
              " 8,\n",
              " 1,\n",
              " 6,\n",
              " 8,\n",
              " 8,\n",
              " 5,\n",
              " 5,\n",
              " 9,\n",
              " 3,\n",
              " 5,\n",
              " 7,\n",
              " 2,\n",
              " 7,\n",
              " 1,\n",
              " 9,\n",
              " 0,\n",
              " 2,\n",
              " 1,\n",
              " 0,\n",
              " 7,\n",
              " 3,\n",
              " 7,\n",
              " 1,\n",
              " 1,\n",
              " 8,\n",
              " 0,\n",
              " 0,\n",
              " 7,\n",
              " 0,\n",
              " 2,\n",
              " 9,\n",
              " 5,\n",
              " 4,\n",
              " 8,\n",
              " 4,\n",
              " 2,\n",
              " 2,\n",
              " 2,\n",
              " 1,\n",
              " 3,\n",
              " 3,\n",
              " 5,\n",
              " 9,\n",
              " 3,\n",
              " 8,\n",
              " 0,\n",
              " 5,\n",
              " 3,\n",
              " 9,\n",
              " 4,\n",
              " 2,\n",
              " 4,\n",
              " 0,\n",
              " 2,\n",
              " 1,\n",
              " 7,\n",
              " 0,\n",
              " 7,\n",
              " 3,\n",
              " 7,\n",
              " 3,\n",
              " 2,\n",
              " 8,\n",
              " 4,\n",
              " 0,\n",
              " 3,\n",
              " 6,\n",
              " 0,\n",
              " 3,\n",
              " 0,\n",
              " 7,\n",
              " 2,\n",
              " 0,\n",
              " 6,\n",
              " 6,\n",
              " 4,\n",
              " 6,\n",
              " 2,\n",
              " 5,\n",
              " 0,\n",
              " 7,\n",
              " 8,\n",
              " 6,\n",
              " 7,\n",
              " 6,\n",
              " 4,\n",
              " 0,\n",
              " 3,\n",
              " 5,\n",
              " 4,\n",
              " 2,\n",
              " 9,\n",
              " 1,\n",
              " 8,\n",
              " 0,\n",
              " 3,\n",
              " 1,\n",
              " 7,\n",
              " 4,\n",
              " 5,\n",
              " 4,\n",
              " 7,\n",
              " 4,\n",
              " 7,\n",
              " 8,\n",
              " 7,\n",
              " 3,\n",
              " 1,\n",
              " 4,\n",
              " 2,\n",
              " 0,\n",
              " 1,\n",
              " 8,\n",
              " 4,\n",
              " 3,\n",
              " 2,\n",
              " 0,\n",
              " 9,\n",
              " 0,\n",
              " 4,\n",
              " 7,\n",
              " 2,\n",
              " 1,\n",
              " 2,\n",
              " 2,\n",
              " 1,\n",
              " 2,\n",
              " 1,\n",
              " 3,\n",
              " 2,\n",
              " 9,\n",
              " 2,\n",
              " 7,\n",
              " 4,\n",
              " 4,\n",
              " 4,\n",
              " 7,\n",
              " 6,\n",
              " 8,\n",
              " 0,\n",
              " 6,\n",
              " 9,\n",
              " 2,\n",
              " 7,\n",
              " 6,\n",
              " 1,\n",
              " 4,\n",
              " 3,\n",
              " 6,\n",
              " 7,\n",
              " 2,\n",
              " 7,\n",
              " 1,\n",
              " 3,\n",
              " 5,\n",
              " 8,\n",
              " 9,\n",
              " 3,\n",
              " 1,\n",
              " 4,\n",
              " 8,\n",
              " 5,\n",
              " 6,\n",
              " 2,\n",
              " 0,\n",
              " 3,\n",
              " 9,\n",
              " 2,\n",
              " 9,\n",
              " 2,\n",
              " 8,\n",
              " 9,\n",
              " 2,\n",
              " 1,\n",
              " 8,\n",
              " 6,\n",
              " 5,\n",
              " 1,\n",
              " 8,\n",
              " 7,\n",
              " 5,\n",
              " 2,\n",
              " 2,\n",
              " 8,\n",
              " 4,\n",
              " 1,\n",
              " 9,\n",
              " 6,\n",
              " 9,\n",
              " 7,\n",
              " 3,\n",
              " 1,\n",
              " 3,\n",
              " 7,\n",
              " 8,\n",
              " 5,\n",
              " 0,\n",
              " 8,\n",
              " 2,\n",
              " 3,\n",
              " 8,\n",
              " 1,\n",
              " 8,\n",
              " 7,\n",
              " 9,\n",
              " 0,\n",
              " 8,\n",
              " 2,\n",
              " 9,\n",
              " 0,\n",
              " 4,\n",
              " 9,\n",
              " 8,\n",
              " 6,\n",
              " 4,\n",
              " 2,\n",
              " 3,\n",
              " 9,\n",
              " 3,\n",
              " 3,\n",
              " 5,\n",
              " 4,\n",
              " 5,\n",
              " 6,\n",
              " 4,\n",
              " 7,\n",
              " 8,\n",
              " 8,\n",
              " 9,\n",
              " 1,\n",
              " 7,\n",
              " 1,\n",
              " 8,\n",
              " 3,\n",
              " 8,\n",
              " 2,\n",
              " 3,\n",
              " 7,\n",
              " 2,\n",
              " 7,\n",
              " 2,\n",
              " 7,\n",
              " 9,\n",
              " 1,\n",
              " 6,\n",
              " 3,\n",
              " 3,\n",
              " 1,\n",
              " 5,\n",
              " 9,\n",
              " 9,\n",
              " 5,\n",
              " 7,\n",
              " 1,\n",
              " 9,\n",
              " 8,\n",
              " 7,\n",
              " 3,\n",
              " 3,\n",
              " 8,\n",
              " 3,\n",
              " 9,\n",
              " 7,\n",
              " 1,\n",
              " 8,\n",
              " 1,\n",
              " 0,\n",
              " 6,\n",
              " 0,\n",
              " 8,\n",
              " 8,\n",
              " 1,\n",
              " 3,\n",
              " 6,\n",
              " 1,\n",
              " 5,\n",
              " 9,\n",
              " 7,\n",
              " 5,\n",
              " 5,\n",
              " 8,\n",
              " 6,\n",
              " 9,\n",
              " 7,\n",
              " 9,\n",
              " 7,\n",
              " 0,\n",
              " 3,\n",
              " 3,\n",
              " 3,\n",
              " 7,\n",
              " 8,\n",
              " 1,\n",
              " 3,\n",
              " 0,\n",
              " 4,\n",
              " 5,\n",
              " 2,\n",
              " 2,\n",
              " 4,\n",
              " 0,\n",
              " 6,\n",
              " 3,\n",
              " 5,\n",
              " 8,\n",
              " 7,\n",
              " 1,\n",
              " 1,\n",
              " 2,\n",
              " 5,\n",
              " 1,\n",
              " 4,\n",
              " 0,\n",
              " 8,\n",
              " 4,\n",
              " 7,\n",
              " 4,\n",
              " 1,\n",
              " 3,\n",
              " 9,\n",
              " 8,\n",
              " 1,\n",
              " 4,\n",
              " 1,\n",
              " 0,\n",
              " 8,\n",
              " 2,\n",
              " 0,\n",
              " 1,\n",
              " 9,\n",
              " 9,\n",
              " 6,\n",
              " 0,\n",
              " 9,\n",
              " 3,\n",
              " 4,\n",
              " 9,\n",
              " 8,\n",
              " 3,\n",
              " 0,\n",
              " 9,\n",
              " 9,\n",
              " 0,\n",
              " 9,\n",
              " 0,\n",
              " 5,\n",
              " 8,\n",
              " 8,\n",
              " 8,\n",
              " 7,\n",
              " 8,\n",
              " 1,\n",
              " 9,\n",
              " 6,\n",
              " 9,\n",
              " 7,\n",
              " 9,\n",
              " 5,\n",
              " 9,\n",
              " 3,\n",
              " 7,\n",
              " 7,\n",
              " 7,\n",
              " 9,\n",
              " 7,\n",
              " 0,\n",
              " 0,\n",
              " 4,\n",
              " 9,\n",
              " 4,\n",
              " 7,\n",
              " 4,\n",
              " 6,\n",
              " 4,\n",
              " 6,\n",
              " 9,\n",
              " 5,\n",
              " 2,\n",
              " 5,\n",
              " 6,\n",
              " 8,\n",
              " 0,\n",
              " 4,\n",
              " 3,\n",
              " 5,\n",
              " 3,\n",
              " 2,\n",
              " 8,\n",
              " 0,\n",
              " 0,\n",
              " 5,\n",
              " 0,\n",
              " 9,\n",
              " 2,\n",
              " 1,\n",
              " 3,\n",
              " 1,\n",
              " 7,\n",
              " 4,\n",
              " 5,\n",
              " 9,\n",
              " 3,\n",
              " 4,\n",
              " 0,\n",
              " 3,\n",
              " 3,\n",
              " ...]"
            ]
          },
          "metadata": {
            "tags": []
          },
          "execution_count": 97
        }
      ]
    },
    {
      "cell_type": "markdown",
      "metadata": {
        "id": "Q8CwLoPU5BLM",
        "colab_type": "text"
      },
      "source": [
        "# PATE Analysis"
      ]
    },
    {
      "cell_type": "code",
      "metadata": {
        "id": "YnI2I8JJ5BLN",
        "colab_type": "code",
        "outputId": "b74a920a-be30-4590-86c3-5449251e6197",
        "colab": {
          "base_uri": "https://localhost:8080/",
          "height": 34
        }
      },
      "source": [
        "labels = np.array([9, 9, 3, 6, 9, 9, 9, 9, 8, 2])\n",
        "counts = np.bincount(labels, minlength=10)\n",
        "query_result = np.argmax(counts)\n",
        "query_result"
      ],
      "execution_count": 80,
      "outputs": [
        {
          "output_type": "execute_result",
          "data": {
            "text/plain": [
              "9"
            ]
          },
          "metadata": {
            "tags": []
          },
          "execution_count": 80
        }
      ]
    },
    {
      "cell_type": "code",
      "metadata": {
        "id": "XBzSP4eKUgnr",
        "colab_type": "code",
        "colab": {
          "base_uri": "https://localhost:8080/",
          "height": 1312
        },
        "outputId": "3985cfd7-2210-4578-c1b2-39333f0687e5"
      },
      "source": [
        "!pip install syft"
      ],
      "execution_count": 82,
      "outputs": [
        {
          "output_type": "stream",
          "text": [
            "Collecting syft\n",
            "\u001b[?25l  Downloading https://files.pythonhosted.org/packages/1d/f4/ed95c5f6664d37a70c345f41e1bdceadc5efb2f478e2c6cd4de34f3a709a/syft-0.1.18-py3-none-any.whl (186kB)\n",
            "\u001b[K     |████████████████████████████████| 194kB 2.9MB/s \n",
            "\u001b[?25hCollecting lz4 (from syft)\n",
            "\u001b[?25l  Downloading https://files.pythonhosted.org/packages/0a/c6/96bbb3525a63ebc53ea700cc7d37ab9045542d33b4d262d0f0408ad9bbf2/lz4-2.1.10-cp36-cp36m-manylinux1_x86_64.whl (385kB)\n",
            "\u001b[K     |████████████████████████████████| 389kB 56.9MB/s \n",
            "\u001b[?25hRequirement already satisfied: tblib in /usr/local/lib/python3.6/dist-packages (from syft) (1.4.0)\n",
            "Requirement already satisfied: torchvision>=0.3.0 in /usr/local/lib/python3.6/dist-packages (from syft) (0.3.0)\n",
            "Collecting websockets>=7.0 (from syft)\n",
            "\u001b[?25l  Downloading https://files.pythonhosted.org/packages/43/71/8bfa882b9c502c36e5c9ef6732969533670d2b039cbf95a82ced8f762b80/websockets-7.0-cp36-cp36m-manylinux1_x86_64.whl (63kB)\n",
            "\u001b[K     |████████████████████████████████| 71kB 31.6MB/s \n",
            "\u001b[?25hCollecting zstd (from syft)\n",
            "\u001b[?25l  Downloading https://files.pythonhosted.org/packages/8e/27/1ea8086d37424e83ab692015cc8dd7d5e37cf791e339633a40dc828dfb74/zstd-1.4.0.0.tar.gz (450kB)\n",
            "\u001b[K     |████████████████████████████████| 450kB 57.7MB/s \n",
            "\u001b[?25hCollecting tf-encrypted>=0.5.4 (from syft)\n",
            "\u001b[?25l  Downloading https://files.pythonhosted.org/packages/c6/4f/b785dd7286a7ebaf25af213dff11100ca09d6ff82d6186ffe0ba72e593ad/tf_encrypted-0.5.5-py3-none-manylinux1_x86_64.whl (1.4MB)\n",
            "\u001b[K     |████████████████████████████████| 1.4MB 60.5MB/s \n",
            "\u001b[?25hRequirement already satisfied: torch>=1.1 in /usr/local/lib/python3.6/dist-packages (from syft) (1.1.0)\n",
            "Requirement already satisfied: msgpack in /usr/local/lib/python3.6/dist-packages (from syft) (0.5.6)\n",
            "Collecting websocket-client (from syft)\n",
            "\u001b[?25l  Downloading https://files.pythonhosted.org/packages/29/19/44753eab1fdb50770ac69605527e8859468f3c0fd7dc5a76dd9c4dbd7906/websocket_client-0.56.0-py2.py3-none-any.whl (200kB)\n",
            "\u001b[K     |████████████████████████████████| 204kB 56.7MB/s \n",
            "\u001b[?25hRequirement already satisfied: sklearn in /usr/local/lib/python3.6/dist-packages (from syft) (0.0)\n",
            "Requirement already satisfied: Flask in /usr/local/lib/python3.6/dist-packages (from syft) (1.0.3)\n",
            "Collecting flask-socketio (from syft)\n",
            "  Downloading https://files.pythonhosted.org/packages/4b/68/fe4806d3a0a5909d274367eb9b3b87262906c1515024f46c2443a36a0c82/Flask_SocketIO-4.1.0-py2.py3-none-any.whl\n",
            "Requirement already satisfied: pillow>=4.1.1 in /usr/local/lib/python3.6/dist-packages (from torchvision>=0.3.0->syft) (4.3.0)\n",
            "Requirement already satisfied: six in /usr/local/lib/python3.6/dist-packages (from torchvision>=0.3.0->syft) (1.12.0)\n",
            "Requirement already satisfied: numpy in /usr/local/lib/python3.6/dist-packages (from torchvision>=0.3.0->syft) (1.16.4)\n",
            "Collecting pyyaml>=5.1 (from tf-encrypted>=0.5.4->syft)\n",
            "\u001b[?25l  Downloading https://files.pythonhosted.org/packages/a3/65/837fefac7475963d1eccf4aa684c23b95aa6c1d033a2c5965ccb11e22623/PyYAML-5.1.1.tar.gz (274kB)\n",
            "\u001b[K     |████████████████████████████████| 276kB 64.0MB/s \n",
            "\u001b[?25hRequirement already satisfied: tensorflow<2,>=1.12.0 in /usr/local/lib/python3.6/dist-packages (from tf-encrypted>=0.5.4->syft) (1.14.0rc1)\n",
            "Requirement already satisfied: scikit-learn in /usr/local/lib/python3.6/dist-packages (from sklearn->syft) (0.21.2)\n",
            "Requirement already satisfied: itsdangerous>=0.24 in /usr/local/lib/python3.6/dist-packages (from Flask->syft) (1.1.0)\n",
            "Requirement already satisfied: Jinja2>=2.10 in /usr/local/lib/python3.6/dist-packages (from Flask->syft) (2.10.1)\n",
            "Requirement already satisfied: Werkzeug>=0.14 in /usr/local/lib/python3.6/dist-packages (from Flask->syft) (0.15.4)\n",
            "Requirement already satisfied: click>=5.1 in /usr/local/lib/python3.6/dist-packages (from Flask->syft) (7.0)\n",
            "Collecting python-socketio>=2.1.0 (from flask-socketio->syft)\n",
            "\u001b[?25l  Downloading https://files.pythonhosted.org/packages/c8/e0/a875abbb0f9d70c6e2ec2019ca9e3893377cef5deca6225ead3497000152/python_socketio-4.1.0-py2.py3-none-any.whl (46kB)\n",
            "\u001b[K     |████████████████████████████████| 51kB 27.7MB/s \n",
            "\u001b[?25hRequirement already satisfied: olefile in /usr/local/lib/python3.6/dist-packages (from pillow>=4.1.1->torchvision>=0.3.0->syft) (0.46)\n",
            "Requirement already satisfied: keras-preprocessing>=1.0.5 in /usr/local/lib/python3.6/dist-packages (from tensorflow<2,>=1.12.0->tf-encrypted>=0.5.4->syft) (1.1.0)\n",
            "Requirement already satisfied: wrapt>=1.11.1 in /usr/local/lib/python3.6/dist-packages (from tensorflow<2,>=1.12.0->tf-encrypted>=0.5.4->syft) (1.11.1)\n",
            "Requirement already satisfied: keras-applications>=1.0.6 in /usr/local/lib/python3.6/dist-packages (from tensorflow<2,>=1.12.0->tf-encrypted>=0.5.4->syft) (1.0.8)\n",
            "Requirement already satisfied: google-pasta>=0.1.6 in /usr/local/lib/python3.6/dist-packages (from tensorflow<2,>=1.12.0->tf-encrypted>=0.5.4->syft) (0.1.7)\n",
            "Requirement already satisfied: astor>=0.6.0 in /usr/local/lib/python3.6/dist-packages (from tensorflow<2,>=1.12.0->tf-encrypted>=0.5.4->syft) (0.8.0)\n",
            "Requirement already satisfied: protobuf>=3.6.1 in /usr/local/lib/python3.6/dist-packages (from tensorflow<2,>=1.12.0->tf-encrypted>=0.5.4->syft) (3.7.1)\n",
            "Requirement already satisfied: tensorboard<1.14.0,>=1.13.0 in /usr/local/lib/python3.6/dist-packages (from tensorflow<2,>=1.12.0->tf-encrypted>=0.5.4->syft) (1.13.1)\n",
            "Requirement already satisfied: gast>=0.2.0 in /usr/local/lib/python3.6/dist-packages (from tensorflow<2,>=1.12.0->tf-encrypted>=0.5.4->syft) (0.2.2)\n",
            "Requirement already satisfied: tensorflow-estimator<1.15.0rc0,>=1.14.0rc0 in /usr/local/lib/python3.6/dist-packages (from tensorflow<2,>=1.12.0->tf-encrypted>=0.5.4->syft) (1.14.0rc1)\n",
            "Requirement already satisfied: grpcio>=1.8.6 in /usr/local/lib/python3.6/dist-packages (from tensorflow<2,>=1.12.0->tf-encrypted>=0.5.4->syft) (1.15.0)\n",
            "Requirement already satisfied: wheel>=0.26 in /usr/local/lib/python3.6/dist-packages (from tensorflow<2,>=1.12.0->tf-encrypted>=0.5.4->syft) (0.33.4)\n",
            "Requirement already satisfied: absl-py>=0.7.0 in /usr/local/lib/python3.6/dist-packages (from tensorflow<2,>=1.12.0->tf-encrypted>=0.5.4->syft) (0.7.1)\n",
            "Requirement already satisfied: termcolor>=1.1.0 in /usr/local/lib/python3.6/dist-packages (from tensorflow<2,>=1.12.0->tf-encrypted>=0.5.4->syft) (1.1.0)\n",
            "Requirement already satisfied: scipy>=0.17.0 in /usr/local/lib/python3.6/dist-packages (from scikit-learn->sklearn->syft) (1.3.0)\n",
            "Requirement already satisfied: joblib>=0.11 in /usr/local/lib/python3.6/dist-packages (from scikit-learn->sklearn->syft) (0.13.2)\n",
            "Requirement already satisfied: MarkupSafe>=0.23 in /usr/local/lib/python3.6/dist-packages (from Jinja2>=2.10->Flask->syft) (1.1.1)\n",
            "Collecting python-engineio>=3.8.0 (from python-socketio>=2.1.0->flask-socketio->syft)\n",
            "\u001b[?25l  Downloading https://files.pythonhosted.org/packages/9c/d3/de0fa7ebebd054de308e6ac397bf9e11ea42924795a38005a21ea001b114/python_engineio-3.8.1-py2.py3-none-any.whl (119kB)\n",
            "\u001b[K     |████████████████████████████████| 122kB 68.5MB/s \n",
            "\u001b[?25hRequirement already satisfied: h5py in /usr/local/lib/python3.6/dist-packages (from keras-applications>=1.0.6->tensorflow<2,>=1.12.0->tf-encrypted>=0.5.4->syft) (2.8.0)\n",
            "Requirement already satisfied: setuptools in /usr/local/lib/python3.6/dist-packages (from protobuf>=3.6.1->tensorflow<2,>=1.12.0->tf-encrypted>=0.5.4->syft) (41.0.1)\n",
            "Requirement already satisfied: markdown>=2.6.8 in /usr/local/lib/python3.6/dist-packages (from tensorboard<1.14.0,>=1.13.0->tensorflow<2,>=1.12.0->tf-encrypted>=0.5.4->syft) (3.1.1)\n",
            "Building wheels for collected packages: zstd, pyyaml\n",
            "  Building wheel for zstd (setup.py) ... \u001b[?25l\u001b[?25hdone\n",
            "  Stored in directory: /root/.cache/pip/wheels/ad/9a/f4/3105b5209674ac77fcca7fede95184c62a95df0196888e0e76\n",
            "  Building wheel for pyyaml (setup.py) ... \u001b[?25l\u001b[?25hdone\n",
            "  Stored in directory: /root/.cache/pip/wheels/16/27/a1/775c62ddea7bfa62324fd1f65847ed31c55dadb6051481ba3f\n",
            "Successfully built zstd pyyaml\n",
            "Installing collected packages: lz4, websockets, zstd, pyyaml, tf-encrypted, websocket-client, python-engineio, python-socketio, flask-socketio, syft\n",
            "  Found existing installation: PyYAML 3.13\n",
            "    Uninstalling PyYAML-3.13:\n",
            "      Successfully uninstalled PyYAML-3.13\n",
            "Successfully installed flask-socketio-4.1.0 lz4-2.1.10 python-engineio-3.8.1 python-socketio-4.1.0 pyyaml-5.1.1 syft-0.1.18 tf-encrypted-0.5.5 websocket-client-0.56.0 websockets-7.0 zstd-1.4.0.0\n"
          ],
          "name": "stdout"
        }
      ]
    },
    {
      "cell_type": "code",
      "metadata": {
        "id": "yIBbL-pe5BLO",
        "colab_type": "code",
        "colab": {
          "base_uri": "https://localhost:8080/",
          "height": 105
        },
        "outputId": "4c57472e-4f58-4ffb-d412-2c9801667683"
      },
      "source": [
        "from syft.frameworks.torch.differential_privacy import pate"
      ],
      "execution_count": 83,
      "outputs": [
        {
          "output_type": "stream",
          "text": [
            "WARNING: Logging before flag parsing goes to stderr.\n",
            "W0620 23:57:08.263948 140555249399680 secure_random.py:22] Falling back to insecure randomness since the required custom op could not be found for the installed version of TensorFlow (1.14.0-rc1). Fix this by compiling custom ops.\n",
            "W0620 23:57:08.433283 140555249399680 deprecation_wrapper.py:119] From /usr/local/lib/python3.6/dist-packages/tf_encrypted/session.py:28: The name tf.Session is deprecated. Please use tf.compat.v1.Session instead.\n",
            "\n"
          ],
          "name": "stderr"
        }
      ]
    },
    {
      "cell_type": "code",
      "metadata": {
        "id": "2c4UfAMS5BLP",
        "colab_type": "code",
        "outputId": "3aa621ac-c7c2-4e2e-f037-ae7feb916776",
        "colab": {
          "base_uri": "https://localhost:8080/",
          "height": 34
        }
      },
      "source": [
        "num_teachers, num_examples, num_labels = (100, 100, 10)\n",
        "preds = (np.random.rand(num_teachers, num_examples) * num_labels).astype(int) #fake preds\n",
        "indices = (np.random.rand(num_examples) * num_labels).astype(int) # true answers\n",
        "\n",
        "preds[:,0:10] *= 0\n",
        "\n",
        "data_dep_eps, data_ind_eps = pate.perform_analysis(teacher_preds=preds, indices=indices, noise_eps=0.1, delta=1e-5)\n",
        "\n",
        "assert data_dep_eps < data_ind_eps\n",
        "\n"
      ],
      "execution_count": 98,
      "outputs": [
        {
          "output_type": "stream",
          "text": [
            "Warning: May not have used enough values of l. Increase 'moments' variable and run again.\n"
          ],
          "name": "stdout"
        }
      ]
    },
    {
      "cell_type": "code",
      "metadata": {
        "id": "jYFELQAS5BLR",
        "colab_type": "code",
        "outputId": "dc7a7c76-798a-4204-822a-0cecf7fd3e21",
        "colab": {
          "base_uri": "https://localhost:8080/",
          "height": 68
        }
      },
      "source": [
        "data_dep_eps, data_ind_eps = pate.perform_analysis(teacher_preds=preds, indices=indices, noise_eps=0.1, delta=1e-5)\n",
        "print(\"Data Independent Epsilon:\", data_ind_eps)\n",
        "print(\"Data Dependent Epsilon:\", data_dep_eps)"
      ],
      "execution_count": 99,
      "outputs": [
        {
          "output_type": "stream",
          "text": [
            "Warning: May not have used enough values of l. Increase 'moments' variable and run again.\n",
            "Data Independent Epsilon: 11.756462732485115\n",
            "Data Dependent Epsilon: 1.52655213289881\n"
          ],
          "name": "stdout"
        }
      ]
    },
    {
      "cell_type": "code",
      "metadata": {
        "id": "Su13AQzz5BLT",
        "colab_type": "code",
        "colab": {}
      },
      "source": [
        "preds[:,0:50] *= 0"
      ],
      "execution_count": 0,
      "outputs": []
    },
    {
      "cell_type": "code",
      "metadata": {
        "id": "LLn5KRKU5BLT",
        "colab_type": "code",
        "outputId": "8f6a0535-18ed-4314-99f4-f28534cc8a40",
        "colab": {
          "base_uri": "https://localhost:8080/",
          "height": 51
        }
      },
      "source": [
        "data_dep_eps, data_ind_eps = pate.perform_analysis(teacher_preds=preds, indices=indices, noise_eps=0.1, delta=1e-5, moments=20)\n",
        "print(\"Data Independent Epsilon:\", data_ind_eps)\n",
        "print(\"Data Dependent Epsilon:\", data_dep_eps)"
      ],
      "execution_count": 101,
      "outputs": [
        {
          "output_type": "stream",
          "text": [
            "Data Independent Epsilon: 11.756462732485115\n",
            "Data Dependent Epsilon: 0.9029013677789843\n"
          ],
          "name": "stdout"
        }
      ]
    },
    {
      "cell_type": "code",
      "metadata": {
        "id": "Ru61lFlH5BLV",
        "colab_type": "code",
        "colab": {}
      },
      "source": [
        ""
      ],
      "execution_count": 0,
      "outputs": []
    },
    {
      "cell_type": "markdown",
      "metadata": {
        "id": "tRftnYpb5BLW",
        "colab_type": "text"
      },
      "source": [
        "# Where to Go From Here\n",
        "\n",
        "\n",
        "Read:\n",
        "* Algorithmic Foundations of Differential Privacy: https://www.cis.upenn.edu/~aaroth/Papers/privacybook.pdf\n",
        "* Deep Learning with Differential Privacy: https://arxiv.org/pdf/1607.00133.pdf\n",
        "* The Ethical Algorithm: https://www.amazon.com/Ethical-Algorithm-Science-Socially-Design/dp/0190948205\n",
        "\n",
        "\n",
        "\n",
        "   \n",
        "Topics:\n",
        "* The Exponential Mechanism\n",
        "* The Moment's Accountant\n",
        "*  Differentially Private Stochastic Gradient Descent"
      ]
    },
    {
      "cell_type": "code",
      "metadata": {
        "id": "v-Up664v5BLW",
        "colab_type": "code",
        "colab": {}
      },
      "source": [
        ""
      ],
      "execution_count": 0,
      "outputs": []
    },
    {
      "cell_type": "code",
      "metadata": {
        "id": "kd0GzxPD5BLX",
        "colab_type": "code",
        "colab": {}
      },
      "source": [
        ""
      ],
      "execution_count": 0,
      "outputs": []
    },
    {
      "cell_type": "markdown",
      "metadata": {
        "id": "MhrlyJ3K5BLY",
        "colab_type": "text"
      },
      "source": [
        "# Section Project:\n",
        "\n",
        "For the final project for this section, you're going to train a DP model using this PATE method on the MNIST dataset, provided below."
      ]
    },
    {
      "cell_type": "code",
      "metadata": {
        "id": "5DdPKLJN5BLZ",
        "colab_type": "code",
        "outputId": "43e475eb-7457-4759-cc88-e7f51f0ae825",
        "colab": {
          "base_uri": "https://localhost:8080/",
          "height": 255
        }
      },
      "source": [
        "import torchvision.datasets as datasets\n",
        "mnist_trainset = datasets.MNIST(root='./data', train=True, download=True, transform=None)"
      ],
      "execution_count": 102,
      "outputs": [
        {
          "output_type": "stream",
          "text": [
            "  0%|          | 0/9912422 [00:00<?, ?it/s]"
          ],
          "name": "stderr"
        },
        {
          "output_type": "stream",
          "text": [
            "Downloading http://yann.lecun.com/exdb/mnist/train-images-idx3-ubyte.gz to ./data/MNIST/raw/train-images-idx3-ubyte.gz\n"
          ],
          "name": "stdout"
        },
        {
          "output_type": "stream",
          "text": [
            "9920512it [00:00, 28019961.73it/s]                            \n"
          ],
          "name": "stderr"
        },
        {
          "output_type": "stream",
          "text": [
            "Extracting ./data/MNIST/raw/train-images-idx3-ubyte.gz\n"
          ],
          "name": "stdout"
        },
        {
          "output_type": "stream",
          "text": [
            "32768it [00:00, 439711.78it/s]\n",
            "  1%|          | 16384/1648877 [00:00<00:11, 145672.05it/s]"
          ],
          "name": "stderr"
        },
        {
          "output_type": "stream",
          "text": [
            "Downloading http://yann.lecun.com/exdb/mnist/train-labels-idx1-ubyte.gz to ./data/MNIST/raw/train-labels-idx1-ubyte.gz\n",
            "Extracting ./data/MNIST/raw/train-labels-idx1-ubyte.gz\n",
            "Downloading http://yann.lecun.com/exdb/mnist/t10k-images-idx3-ubyte.gz to ./data/MNIST/raw/t10k-images-idx3-ubyte.gz\n"
          ],
          "name": "stdout"
        },
        {
          "output_type": "stream",
          "text": [
            "1654784it [00:00, 7033210.13it/s]                           \n",
            "8192it [00:00, 178515.33it/s]\n"
          ],
          "name": "stderr"
        },
        {
          "output_type": "stream",
          "text": [
            "Extracting ./data/MNIST/raw/t10k-images-idx3-ubyte.gz\n",
            "Downloading http://yann.lecun.com/exdb/mnist/t10k-labels-idx1-ubyte.gz to ./data/MNIST/raw/t10k-labels-idx1-ubyte.gz\n",
            "Extracting ./data/MNIST/raw/t10k-labels-idx1-ubyte.gz\n",
            "Processing...\n",
            "Done!\n"
          ],
          "name": "stdout"
        }
      ]
    },
    {
      "cell_type": "code",
      "metadata": {
        "id": "4g9aXRid5BLa",
        "colab_type": "code",
        "outputId": "0ab2b87c-d1ee-4e49-b1f1-446e0706caea",
        "colab": {
          "base_uri": "https://localhost:8080/",
          "height": 85
        }
      },
      "source": [
        "train_data = mnist_trainset.train_data\n",
        "train_targets = mnist_trainset.train_labels"
      ],
      "execution_count": 103,
      "outputs": [
        {
          "output_type": "stream",
          "text": [
            "/usr/local/lib/python3.6/dist-packages/torchvision/datasets/mnist.py:53: UserWarning: train_data has been renamed data\n",
            "  warnings.warn(\"train_data has been renamed data\")\n",
            "/usr/local/lib/python3.6/dist-packages/torchvision/datasets/mnist.py:43: UserWarning: train_labels has been renamed targets\n",
            "  warnings.warn(\"train_labels has been renamed targets\")\n"
          ],
          "name": "stderr"
        }
      ]
    },
    {
      "cell_type": "code",
      "metadata": {
        "id": "doUE6uzG5BLc",
        "colab_type": "code",
        "outputId": "cda70dd5-ad74-40be-8bd4-7ece286790a8",
        "colab": {
          "base_uri": "https://localhost:8080/",
          "height": 85
        }
      },
      "source": [
        "test_data = mnist_trainset.test_data\n",
        "test_targets = mnist_trainset.test_labels"
      ],
      "execution_count": 104,
      "outputs": [
        {
          "output_type": "stream",
          "text": [
            "/usr/local/lib/python3.6/dist-packages/torchvision/datasets/mnist.py:58: UserWarning: test_data has been renamed data\n",
            "  warnings.warn(\"test_data has been renamed data\")\n",
            "/usr/local/lib/python3.6/dist-packages/torchvision/datasets/mnist.py:48: UserWarning: test_labels has been renamed targets\n",
            "  warnings.warn(\"test_labels has been renamed targets\")\n"
          ],
          "name": "stderr"
        }
      ]
    },
    {
      "cell_type": "code",
      "metadata": {
        "id": "u2jEGODJZXj3",
        "colab_type": "code",
        "colab": {}
      },
      "source": [
        "preds[:,0:50] *= 0"
      ],
      "execution_count": 0,
      "outputs": []
    },
    {
      "cell_type": "code",
      "metadata": {
        "id": "V2vQTugr5BLf",
        "colab_type": "code",
        "colab": {}
      },
      "source": [
        "data_dep_eps_project, data_ind_eps_project = pate.perform_analysis(teacher_preds=preds, indices=indices, noise_eps=0.1, delta=1e-5)\n",
        "print(\"Data Independent Epsilon:\", data_dep_eps_project)\n",
        "print(\"Data Dependent Epsilon:\", data_ind_eps_project)"
      ],
      "execution_count": 0,
      "outputs": []
    },
    {
      "cell_type": "code",
      "metadata": {
        "id": "R8e7QMhnZO2J",
        "colab_type": "code",
        "colab": {}
      },
      "source": [
        ""
      ],
      "execution_count": 0,
      "outputs": []
    }
  ]
}